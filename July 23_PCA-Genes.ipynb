{
 "cells": [
  {
   "cell_type": "code",
   "execution_count": 1,
   "id": "impaired-capture",
   "metadata": {},
   "outputs": [],
   "source": [
    "import pandas as pd\n",
    "import numpy as np\n",
    "import random as rd\n",
    "from sklearn.decomposition import PCA\n",
    "from sklearn import preprocessing \n",
    "import matplotlib.pyplot as plt"
   ]
  },
  {
   "cell_type": "code",
   "execution_count": null,
   "id": "major-priority",
   "metadata": {},
   "outputs": [],
   "source": [
    "#creating a table with genes of 2 types:Wild type and knock out sample"
   ]
  },
  {
   "cell_type": "code",
   "execution_count": 3,
   "id": "existing-medicare",
   "metadata": {},
   "outputs": [
    {
     "name": "stdout",
     "output_type": "stream",
     "text": [
      "       wt1  wt2  wt3  wt4  wt5  ko1  ko2  ko3  ko4  ko5\n",
      "gene1  190  219  182  204  191   62   74   68   61   77\n",
      "gene2  711  644  661  673  737  371  369  427  357  378\n",
      "gene3  877  815  861  876  837  819  868  793  844  796\n",
      "gene4  528  543  555  534  560  513  466  491  526  525\n",
      "gene5  546  604  585  605  605  568  554  541  549  559\n",
      "(100, 10)\n"
     ]
    }
   ],
   "source": [
    "genes=['gene'+str(i)for i in range(1,101)]#generating 100 gene names\n",
    "\n",
    "wt =['wt'+str(i) for i in range(1,6)]#these are rows\n",
    "ko =['ko'+str(i)for i in range(1,6)]\n",
    "\n",
    "data=pd.DataFrame(columns=[*wt,*ko],index=genes)#* for making them single columns\n",
    "data\n",
    "\n",
    "\n",
    "#Then inserting data for these columns\n",
    "for gene in data.index:\n",
    "    data.loc[gene,'wt1':'wt5']=np.random.poisson(lam=rd.randrange(10,1000),size=5)#random values\n",
    "    data.loc[gene,'ko1':'ko5']=np.random.poisson(lam=rd.randrange(10,1000),size=5)\n",
    "\n",
    "print(data.head())\n",
    "print(data.shape)"
   ]
  },
  {
   "cell_type": "code",
   "execution_count": 4,
   "id": "completed-settle",
   "metadata": {},
   "outputs": [
    {
     "data": {
      "text/html": [
       "<div>\n",
       "<style scoped>\n",
       "    .dataframe tbody tr th:only-of-type {\n",
       "        vertical-align: middle;\n",
       "    }\n",
       "\n",
       "    .dataframe tbody tr th {\n",
       "        vertical-align: top;\n",
       "    }\n",
       "\n",
       "    .dataframe thead th {\n",
       "        text-align: right;\n",
       "    }\n",
       "</style>\n",
       "<table border=\"1\" class=\"dataframe\">\n",
       "  <thead>\n",
       "    <tr style=\"text-align: right;\">\n",
       "      <th></th>\n",
       "      <th>wt1</th>\n",
       "      <th>wt2</th>\n",
       "      <th>wt3</th>\n",
       "      <th>wt4</th>\n",
       "      <th>wt5</th>\n",
       "      <th>ko1</th>\n",
       "      <th>ko2</th>\n",
       "      <th>ko3</th>\n",
       "      <th>ko4</th>\n",
       "      <th>ko5</th>\n",
       "    </tr>\n",
       "  </thead>\n",
       "  <tbody>\n",
       "    <tr>\n",
       "      <th>gene1</th>\n",
       "      <td>190</td>\n",
       "      <td>219</td>\n",
       "      <td>182</td>\n",
       "      <td>204</td>\n",
       "      <td>191</td>\n",
       "      <td>62</td>\n",
       "      <td>74</td>\n",
       "      <td>68</td>\n",
       "      <td>61</td>\n",
       "      <td>77</td>\n",
       "    </tr>\n",
       "    <tr>\n",
       "      <th>gene2</th>\n",
       "      <td>711</td>\n",
       "      <td>644</td>\n",
       "      <td>661</td>\n",
       "      <td>673</td>\n",
       "      <td>737</td>\n",
       "      <td>371</td>\n",
       "      <td>369</td>\n",
       "      <td>427</td>\n",
       "      <td>357</td>\n",
       "      <td>378</td>\n",
       "    </tr>\n",
       "    <tr>\n",
       "      <th>gene3</th>\n",
       "      <td>877</td>\n",
       "      <td>815</td>\n",
       "      <td>861</td>\n",
       "      <td>876</td>\n",
       "      <td>837</td>\n",
       "      <td>819</td>\n",
       "      <td>868</td>\n",
       "      <td>793</td>\n",
       "      <td>844</td>\n",
       "      <td>796</td>\n",
       "    </tr>\n",
       "    <tr>\n",
       "      <th>gene4</th>\n",
       "      <td>528</td>\n",
       "      <td>543</td>\n",
       "      <td>555</td>\n",
       "      <td>534</td>\n",
       "      <td>560</td>\n",
       "      <td>513</td>\n",
       "      <td>466</td>\n",
       "      <td>491</td>\n",
       "      <td>526</td>\n",
       "      <td>525</td>\n",
       "    </tr>\n",
       "    <tr>\n",
       "      <th>gene5</th>\n",
       "      <td>546</td>\n",
       "      <td>604</td>\n",
       "      <td>585</td>\n",
       "      <td>605</td>\n",
       "      <td>605</td>\n",
       "      <td>568</td>\n",
       "      <td>554</td>\n",
       "      <td>541</td>\n",
       "      <td>549</td>\n",
       "      <td>559</td>\n",
       "    </tr>\n",
       "    <tr>\n",
       "      <th>...</th>\n",
       "      <td>...</td>\n",
       "      <td>...</td>\n",
       "      <td>...</td>\n",
       "      <td>...</td>\n",
       "      <td>...</td>\n",
       "      <td>...</td>\n",
       "      <td>...</td>\n",
       "      <td>...</td>\n",
       "      <td>...</td>\n",
       "      <td>...</td>\n",
       "    </tr>\n",
       "    <tr>\n",
       "      <th>gene96</th>\n",
       "      <td>533</td>\n",
       "      <td>553</td>\n",
       "      <td>542</td>\n",
       "      <td>600</td>\n",
       "      <td>568</td>\n",
       "      <td>893</td>\n",
       "      <td>895</td>\n",
       "      <td>882</td>\n",
       "      <td>838</td>\n",
       "      <td>849</td>\n",
       "    </tr>\n",
       "    <tr>\n",
       "      <th>gene97</th>\n",
       "      <td>587</td>\n",
       "      <td>592</td>\n",
       "      <td>619</td>\n",
       "      <td>626</td>\n",
       "      <td>614</td>\n",
       "      <td>329</td>\n",
       "      <td>320</td>\n",
       "      <td>363</td>\n",
       "      <td>367</td>\n",
       "      <td>333</td>\n",
       "    </tr>\n",
       "    <tr>\n",
       "      <th>gene98</th>\n",
       "      <td>501</td>\n",
       "      <td>546</td>\n",
       "      <td>513</td>\n",
       "      <td>517</td>\n",
       "      <td>563</td>\n",
       "      <td>815</td>\n",
       "      <td>814</td>\n",
       "      <td>841</td>\n",
       "      <td>804</td>\n",
       "      <td>818</td>\n",
       "    </tr>\n",
       "    <tr>\n",
       "      <th>gene99</th>\n",
       "      <td>332</td>\n",
       "      <td>337</td>\n",
       "      <td>276</td>\n",
       "      <td>309</td>\n",
       "      <td>330</td>\n",
       "      <td>41</td>\n",
       "      <td>44</td>\n",
       "      <td>41</td>\n",
       "      <td>38</td>\n",
       "      <td>45</td>\n",
       "    </tr>\n",
       "    <tr>\n",
       "      <th>gene100</th>\n",
       "      <td>917</td>\n",
       "      <td>919</td>\n",
       "      <td>934</td>\n",
       "      <td>952</td>\n",
       "      <td>932</td>\n",
       "      <td>689</td>\n",
       "      <td>653</td>\n",
       "      <td>648</td>\n",
       "      <td>629</td>\n",
       "      <td>689</td>\n",
       "    </tr>\n",
       "  </tbody>\n",
       "</table>\n",
       "<p>100 rows × 10 columns</p>\n",
       "</div>"
      ],
      "text/plain": [
       "         wt1  wt2  wt3  wt4  wt5  ko1  ko2  ko3  ko4  ko5\n",
       "gene1    190  219  182  204  191   62   74   68   61   77\n",
       "gene2    711  644  661  673  737  371  369  427  357  378\n",
       "gene3    877  815  861  876  837  819  868  793  844  796\n",
       "gene4    528  543  555  534  560  513  466  491  526  525\n",
       "gene5    546  604  585  605  605  568  554  541  549  559\n",
       "...      ...  ...  ...  ...  ...  ...  ...  ...  ...  ...\n",
       "gene96   533  553  542  600  568  893  895  882  838  849\n",
       "gene97   587  592  619  626  614  329  320  363  367  333\n",
       "gene98   501  546  513  517  563  815  814  841  804  818\n",
       "gene99   332  337  276  309  330   41   44   41   38   45\n",
       "gene100  917  919  934  952  932  689  653  648  629  689\n",
       "\n",
       "[100 rows x 10 columns]"
      ]
     },
     "execution_count": 4,
     "metadata": {},
     "output_type": "execute_result"
    }
   ],
   "source": [
    "data"
   ]
  },
  {
   "cell_type": "code",
   "execution_count": 5,
   "id": "eastern-andrews",
   "metadata": {},
   "outputs": [
    {
     "data": {
      "text/plain": [
       "array([[ 9.26501515e+00,  1.31724812e+00,  1.30784964e+00,\n",
       "        -1.78944525e+00,  2.40729822e+00, -3.50305669e-01,\n",
       "        -1.30614703e-01,  2.10286736e-02,  1.47680965e-01,\n",
       "         8.88178420e-16],\n",
       "       [ 9.90630448e+00, -2.65767569e+00, -1.73545202e-01,\n",
       "        -1.50829081e+00, -1.42409362e+00, -7.59342411e-01,\n",
       "        -1.58412645e-01,  8.78629185e-01, -2.72173610e-01,\n",
       "         3.27515792e-15],\n",
       "       [ 8.96598392e+00, -8.99798333e-01, -2.02711384e+00,\n",
       "         7.99412574e-01,  8.01189593e-01,  4.66087800e-01,\n",
       "         1.59026375e+00, -6.15537204e-01, -2.45622982e-01,\n",
       "         1.66533454e-15],\n",
       "       [ 9.53094835e+00,  2.21308212e+00, -1.44537878e+00,\n",
       "         1.05558930e-01, -1.15437878e+00,  4.26342133e-01,\n",
       "        -1.40642740e+00, -7.45850975e-01, -1.00999885e-01,\n",
       "         1.99840144e-15],\n",
       "       [ 9.68550634e+00,  9.08454467e-02,  2.22667631e+00,\n",
       "         2.41150242e+00, -5.16851895e-01,  2.68766781e-01,\n",
       "         1.43628250e-01,  4.66072862e-01,  4.73506290e-01,\n",
       "         3.10862447e-15],\n",
       "       [-9.80087226e+00,  1.62044580e-01, -1.01088845e+00,\n",
       "         1.08609593e+00,  1.26730137e+00,  6.21110037e-01,\n",
       "        -7.25975373e-01,  1.23739049e+00, -5.82718837e-01,\n",
       "        -1.49880108e-15],\n",
       "       [-9.55126434e+00,  2.75873032e+00, -6.91916688e-01,\n",
       "        -6.42776297e-01, -1.10865007e+00, -8.82953685e-01,\n",
       "         1.12191009e+00,  6.07271619e-01,  3.72590480e-01,\n",
       "        -1.66533454e-15],\n",
       "       [-9.34045249e+00, -3.04286829e-01,  1.72203068e+00,\n",
       "        -1.08319304e+00, -7.73508122e-01,  2.23738679e+00,\n",
       "         3.57013638e-01, -5.01522890e-01, -3.24974033e-01,\n",
       "        -1.22124533e-15],\n",
       "       [-9.13766114e+00, -5.47112063e-01,  1.12356866e+00,\n",
       "         7.61555327e-01,  3.44896411e-02, -2.15210281e+00,\n",
       "        -1.73653718e-01, -9.71559629e-01, -5.38730453e-01,\n",
       "        -1.33226763e-15],\n",
       "       [-9.52350800e+00, -2.13307766e+00, -1.03128233e+00,\n",
       "        -1.40419780e-01,  4.67203665e-01,  1.25011032e-01,\n",
       "        -6.17731883e-01, -3.75922133e-01,  1.07144206e+00,\n",
       "        -2.47024623e-15]])"
      ]
     },
     "execution_count": 5,
     "metadata": {},
     "output_type": "execute_result"
    }
   ],
   "source": [
    "#Perform PCA now\n",
    "\n",
    "scaled_data=preprocessing.scale(data.T)#Taking transpose for easy vision\n",
    "pca=PCA()\n",
    "\n",
    "pca.fit(scaled_data)\n",
    "pca_data=pca.transform(scaled_data)\n",
    "pca_data"
   ]
  },
  {
   "cell_type": "code",
   "execution_count": 6,
   "id": "national-repeat",
   "metadata": {},
   "outputs": [
    {
     "data": {
      "image/png": "[encoded data removed]",
      "text/plain": [
       "<Figure size 432x288 with 1 Axes>"
      ]
     },
     "metadata": {
      "needs_background": "light"
     },
     "output_type": "display_data"
    }
   ],
   "source": [
    "#scree plot\n",
    "\n",
    "per_var=np.round(pca.explained_variance_ratio_*100,decimals=1)\n",
    "#calculate the % variance with respect to each principal component and giving labels to plot the graph\n",
    "\n",
    "labels=['PC'+str(x)for x in range(1,len(per_var)+1)]\n",
    "\n",
    "plt.bar(x=range(1,len(per_var)+1),height=per_var,tick_label=labels)\n",
    "plt.ylabel('Percentage of explained variance')\n",
    "plt.xlabel('Principal components')\n",
    "plt.title('Scree plot')\n",
    "plt.show()\n",
    "\n",
    "#PC1 has more variance"
   ]
  },
  {
   "cell_type": "code",
   "execution_count": 8,
   "id": "complicated-drunk",
   "metadata": {},
   "outputs": [
    {
     "data": {
      "image/png": "[encoded data removed]",
      "text/plain": [
       "<Figure size 432x288 with 1 Axes>"
      ]
     },
     "metadata": {
      "needs_background": "light"
     },
     "output_type": "display_data"
    }
   ],
   "source": [
    "#PCA graph plotting\n",
    "\n",
    "pca_df=pd.DataFrame(pca_data,index=[*wt,*ko],columns=labels)\n",
    "#with respect to pc1&pc2 using first 2 components which has major change in variation\n",
    "\n",
    "plt.scatter(pca_df.PC1,pca_df.PC2)#plotting after dataframe creation\n",
    "plt.title('Pca Graph')\n",
    "plt.xlabel('PC1-{0}%'.format(per_var[0]))\n",
    "plt.ylabel('PC2-{0}%'.format(per_var[1]))\n",
    "\n",
    "for sample in pca_df.index:\n",
    "    plt.annotate(sample,(pca_df.PC1.loc[sample],pca_df.PC2.loc[sample]))\n",
    "    #annotate for specifically denoting the points, otherwise simply shows the points\n",
    "    #ie, they comparing, the knock out points are closed together\n",
    "    \n",
    "plt.show()\n"
   ]
  },
  {
   "cell_type": "code",
   "execution_count": 9,
   "id": "alien-accreditation",
   "metadata": {},
   "outputs": [
    {
     "name": "stdout",
     "output_type": "stream",
     "text": [
      "gene88    0.105496\n",
      "gene85    0.105490\n",
      "gene18    0.105470\n",
      "gene87    0.105441\n",
      "gene31    0.105441\n",
      "gene13    0.105440\n",
      "gene36    0.105429\n",
      "gene15   -0.105425\n",
      "gene61    0.105404\n",
      "gene44   -0.105395\n",
      "dtype: float64\n"
     ]
    }
   ],
   "source": [
    "#loading_scores Determine which genes had the biggest influence on PC1 or identifying highest impacted genes\n",
    "\n",
    "loading_scores=pd.Series(pca.components_[0],index=genes)\n",
    "sorted_loading_scores=loading_scores.abs().sort_values(ascending=False)#descending order sorting\n",
    "\n",
    "top_10_genes=sorted_loading_scores[0:10].index.values\n",
    "#top 10 genes most affected or variance representing,may include -ve points too\n",
    "\n",
    "print(loading_scores[top_10_genes])"
   ]
  },
  {
   "cell_type": "code",
   "execution_count": null,
   "id": "outstanding-wilderness",
   "metadata": {},
   "outputs": [],
   "source": []
  }
 ],
 "metadata": {
  "kernelspec": {
   "display_name": "Python 3",
   "language": "python",
   "name": "python3"
  },
  "language_info": {
   "codemirror_mode": {
    "name": "ipython",
    "version": 3
   },
   "file_extension": ".py",
   "mimetype": "text/x-python",
   "name": "python",
   "nbconvert_exporter": "python",
   "pygments_lexer": "ipython3",
   "version": "3.8.8"
  }
 },
 "nbformat": 4,
 "nbformat_minor": 5
}
