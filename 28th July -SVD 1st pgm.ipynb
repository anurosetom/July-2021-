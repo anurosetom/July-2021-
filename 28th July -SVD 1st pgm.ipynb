{
 "cells": [
  {
   "cell_type": "code",
   "execution_count": 1,
   "id": "classical-jonathan",
   "metadata": {},
   "outputs": [],
   "source": [
    "from numpy import array,zeros,diag\n",
    "from numpy import dot\n",
    "from scipy.linalg import svd"
   ]
  },
  {
   "cell_type": "code",
   "execution_count": 2,
   "id": "uniform-external",
   "metadata": {},
   "outputs": [
    {
     "name": "stdout",
     "output_type": "stream",
     "text": [
      "Original matrix \n",
      " [[1 2]\n",
      " [3 4]\n",
      " [5 6]]\n",
      "\n",
      "[[-0.2298477   0.88346102  0.40824829]\n",
      " [-0.52474482  0.24078249 -0.81649658]\n",
      " [-0.81964194 -0.40189603  0.40824829]]\n",
      "\n",
      "[9.52551809 0.51430058]\n",
      "\n",
      "[[-0.61962948 -0.78489445]\n",
      " [-0.78489445  0.61962948]]\n",
      "\n"
     ]
    }
   ],
   "source": [
    "A=array([[1,2],[3,4],[5,6]])\n",
    "print('Original matrix \\n',A)\n",
    "print()\n",
    "U,S,Vt=svd(A)\n",
    "print(U)\n",
    "print()\n",
    "print(S)\n",
    "print()\n",
    "print(Vt)\n",
    "print()\n"
   ]
  },
  {
   "cell_type": "code",
   "execution_count": 3,
   "id": "experimental-subdivision",
   "metadata": {},
   "outputs": [
    {
     "name": "stdout",
     "output_type": "stream",
     "text": [
      "[[0. 0.]\n",
      " [0. 0.]\n",
      " [0. 0.]]\n"
     ]
    }
   ],
   "source": [
    "#For creating Identity matrix\n",
    "Sigma=zeros((A.shape[0],A.shape[1]))\n",
    "print(Sigma)"
   ]
  },
  {
   "cell_type": "code",
   "execution_count": 4,
   "id": "driven-september",
   "metadata": {},
   "outputs": [
    {
     "name": "stdout",
     "output_type": "stream",
     "text": [
      "[[9.52551809 0.        ]\n",
      " [0.         0.51430058]]\n"
     ]
    }
   ],
   "source": [
    "Sigma[:A.shape[1],:A.shape[1]]=diag(S)\n",
    "print(diag(S))"
   ]
  },
  {
   "cell_type": "code",
   "execution_count": 5,
   "id": "innovative-geometry",
   "metadata": {},
   "outputs": [
    {
     "name": "stdout",
     "output_type": "stream",
     "text": [
      "reconstructed matrix: \n",
      " [[1. 2.]\n",
      " [3. 4.]\n",
      " [5. 6.]]\n"
     ]
    }
   ],
   "source": [
    "A_recons=U.dot(Sigma.dot(Vt))\n",
    "print('reconstructed matrix: \\n',A_recons)"
   ]
  },
  {
   "cell_type": "code",
   "execution_count": null,
   "id": "affiliated-mineral",
   "metadata": {},
   "outputs": [],
   "source": []
  }
 ],
 "metadata": {
  "kernelspec": {
   "display_name": "Python 3",
   "language": "python",
   "name": "python3"
  },
  "language_info": {
   "codemirror_mode": {
    "name": "ipython",
    "version": 3
   },
   "file_extension": ".py",
   "mimetype": "text/x-python",
   "name": "python",
   "nbconvert_exporter": "python",
   "pygments_lexer": "ipython3",
   "version": "3.8.8"
  }
 },
 "nbformat": 4,
 "nbformat_minor": 5
}
