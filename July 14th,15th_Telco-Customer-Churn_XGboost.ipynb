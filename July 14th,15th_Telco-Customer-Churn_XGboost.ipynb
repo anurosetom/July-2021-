{
 "cells": [
  {
   "cell_type": "code",
   "execution_count": 1,
   "id": "willing-hanging",
   "metadata": {},
   "outputs": [],
   "source": [
    "#pip install xgboost"
   ]
  },
  {
   "cell_type": "code",
   "execution_count": 2,
   "id": "informed-kansas",
   "metadata": {},
   "outputs": [],
   "source": [
    "import pandas as pd\n",
    "import numpy as np\n",
    "import xgboost as xgb #pip install xgboost\n",
    "import sklearn\n",
    "from sklearn.model_selection import train_test_split,GridSearchCV\n",
    "from sklearn.metrics import balanced_accuracy_score,roc_auc_score,make_scorer\n",
    "from sklearn.metrics import confusion_matrix,plot_confusion_matrix\n",
    "import seaborn as sns\n",
    "import matplotlib.pyplot as plt\n",
    "%matplotlib inline"
   ]
  },
  {
   "cell_type": "code",
   "execution_count": 3,
   "id": "acknowledged-remedy",
   "metadata": {},
   "outputs": [
    {
     "data": {
      "text/html": [
       "<div>\n",
       "<style scoped>\n",
       "    .dataframe tbody tr th:only-of-type {\n",
       "        vertical-align: middle;\n",
       "    }\n",
       "\n",
       "    .dataframe tbody tr th {\n",
       "        vertical-align: top;\n",
       "    }\n",
       "\n",
       "    .dataframe thead th {\n",
       "        text-align: right;\n",
       "    }\n",
       "</style>\n",
       "<table border=\"1\" class=\"dataframe\">\n",
       "  <thead>\n",
       "    <tr style=\"text-align: right;\">\n",
       "      <th></th>\n",
       "      <th>customerID</th>\n",
       "      <th>gender</th>\n",
       "      <th>SeniorCitizen</th>\n",
       "      <th>Partner</th>\n",
       "      <th>Dependents</th>\n",
       "      <th>tenure</th>\n",
       "      <th>PhoneService</th>\n",
       "      <th>MultipleLines</th>\n",
       "      <th>InternetService</th>\n",
       "      <th>OnlineSecurity</th>\n",
       "      <th>...</th>\n",
       "      <th>DeviceProtection</th>\n",
       "      <th>TechSupport</th>\n",
       "      <th>StreamingTV</th>\n",
       "      <th>StreamingMovies</th>\n",
       "      <th>Contract</th>\n",
       "      <th>PaperlessBilling</th>\n",
       "      <th>PaymentMethod</th>\n",
       "      <th>MonthlyCharges</th>\n",
       "      <th>TotalCharges</th>\n",
       "      <th>Churn</th>\n",
       "    </tr>\n",
       "  </thead>\n",
       "  <tbody>\n",
       "    <tr>\n",
       "      <th>0</th>\n",
       "      <td>7590-VHVEG</td>\n",
       "      <td>Female</td>\n",
       "      <td>0</td>\n",
       "      <td>Yes</td>\n",
       "      <td>No</td>\n",
       "      <td>1</td>\n",
       "      <td>No</td>\n",
       "      <td>No phone service</td>\n",
       "      <td>DSL</td>\n",
       "      <td>No</td>\n",
       "      <td>...</td>\n",
       "      <td>No</td>\n",
       "      <td>No</td>\n",
       "      <td>No</td>\n",
       "      <td>No</td>\n",
       "      <td>Month-to-month</td>\n",
       "      <td>Yes</td>\n",
       "      <td>Electronic check</td>\n",
       "      <td>29.85</td>\n",
       "      <td>29.85</td>\n",
       "      <td>No</td>\n",
       "    </tr>\n",
       "    <tr>\n",
       "      <th>1</th>\n",
       "      <td>5575-GNVDE</td>\n",
       "      <td>Male</td>\n",
       "      <td>0</td>\n",
       "      <td>No</td>\n",
       "      <td>No</td>\n",
       "      <td>34</td>\n",
       "      <td>Yes</td>\n",
       "      <td>No</td>\n",
       "      <td>DSL</td>\n",
       "      <td>Yes</td>\n",
       "      <td>...</td>\n",
       "      <td>Yes</td>\n",
       "      <td>No</td>\n",
       "      <td>No</td>\n",
       "      <td>No</td>\n",
       "      <td>One year</td>\n",
       "      <td>No</td>\n",
       "      <td>Mailed check</td>\n",
       "      <td>56.95</td>\n",
       "      <td>1889.5</td>\n",
       "      <td>No</td>\n",
       "    </tr>\n",
       "    <tr>\n",
       "      <th>2</th>\n",
       "      <td>3668-QPYBK</td>\n",
       "      <td>Male</td>\n",
       "      <td>0</td>\n",
       "      <td>No</td>\n",
       "      <td>No</td>\n",
       "      <td>2</td>\n",
       "      <td>Yes</td>\n",
       "      <td>No</td>\n",
       "      <td>DSL</td>\n",
       "      <td>Yes</td>\n",
       "      <td>...</td>\n",
       "      <td>No</td>\n",
       "      <td>No</td>\n",
       "      <td>No</td>\n",
       "      <td>No</td>\n",
       "      <td>Month-to-month</td>\n",
       "      <td>Yes</td>\n",
       "      <td>Mailed check</td>\n",
       "      <td>53.85</td>\n",
       "      <td>108.15</td>\n",
       "      <td>Yes</td>\n",
       "    </tr>\n",
       "    <tr>\n",
       "      <th>3</th>\n",
       "      <td>7795-CFOCW</td>\n",
       "      <td>Male</td>\n",
       "      <td>0</td>\n",
       "      <td>No</td>\n",
       "      <td>No</td>\n",
       "      <td>45</td>\n",
       "      <td>No</td>\n",
       "      <td>No phone service</td>\n",
       "      <td>DSL</td>\n",
       "      <td>Yes</td>\n",
       "      <td>...</td>\n",
       "      <td>Yes</td>\n",
       "      <td>Yes</td>\n",
       "      <td>No</td>\n",
       "      <td>No</td>\n",
       "      <td>One year</td>\n",
       "      <td>No</td>\n",
       "      <td>Bank transfer (automatic)</td>\n",
       "      <td>42.30</td>\n",
       "      <td>1840.75</td>\n",
       "      <td>No</td>\n",
       "    </tr>\n",
       "    <tr>\n",
       "      <th>4</th>\n",
       "      <td>9237-HQITU</td>\n",
       "      <td>Female</td>\n",
       "      <td>0</td>\n",
       "      <td>No</td>\n",
       "      <td>No</td>\n",
       "      <td>2</td>\n",
       "      <td>Yes</td>\n",
       "      <td>No</td>\n",
       "      <td>Fiber optic</td>\n",
       "      <td>No</td>\n",
       "      <td>...</td>\n",
       "      <td>No</td>\n",
       "      <td>No</td>\n",
       "      <td>No</td>\n",
       "      <td>No</td>\n",
       "      <td>Month-to-month</td>\n",
       "      <td>Yes</td>\n",
       "      <td>Electronic check</td>\n",
       "      <td>70.70</td>\n",
       "      <td>151.65</td>\n",
       "      <td>Yes</td>\n",
       "    </tr>\n",
       "  </tbody>\n",
       "</table>\n",
       "<p>5 rows × 21 columns</p>\n",
       "</div>"
      ],
      "text/plain": [
       "   customerID  gender  SeniorCitizen Partner Dependents  tenure PhoneService  \\\n",
       "0  7590-VHVEG  Female              0     Yes         No       1           No   \n",
       "1  5575-GNVDE    Male              0      No         No      34          Yes   \n",
       "2  3668-QPYBK    Male              0      No         No       2          Yes   \n",
       "3  7795-CFOCW    Male              0      No         No      45           No   \n",
       "4  9237-HQITU  Female              0      No         No       2          Yes   \n",
       "\n",
       "      MultipleLines InternetService OnlineSecurity  ... DeviceProtection  \\\n",
       "0  No phone service             DSL             No  ...               No   \n",
       "1                No             DSL            Yes  ...              Yes   \n",
       "2                No             DSL            Yes  ...               No   \n",
       "3  No phone service             DSL            Yes  ...              Yes   \n",
       "4                No     Fiber optic             No  ...               No   \n",
       "\n",
       "  TechSupport StreamingTV StreamingMovies        Contract PaperlessBilling  \\\n",
       "0          No          No              No  Month-to-month              Yes   \n",
       "1          No          No              No        One year               No   \n",
       "2          No          No              No  Month-to-month              Yes   \n",
       "3         Yes          No              No        One year               No   \n",
       "4          No          No              No  Month-to-month              Yes   \n",
       "\n",
       "               PaymentMethod MonthlyCharges  TotalCharges Churn  \n",
       "0           Electronic check          29.85         29.85    No  \n",
       "1               Mailed check          56.95        1889.5    No  \n",
       "2               Mailed check          53.85        108.15   Yes  \n",
       "3  Bank transfer (automatic)          42.30       1840.75    No  \n",
       "4           Electronic check          70.70        151.65   Yes  \n",
       "\n",
       "[5 rows x 21 columns]"
      ]
     },
     "execution_count": 3,
     "metadata": {},
     "output_type": "execute_result"
    }
   ],
   "source": [
    "df= pd.read_csv('/home/anu/Downloads/Boosting dataset/Telco-Customer-Churn_XGboost.csv')\n",
    "df.head()"
   ]
  },
  {
   "cell_type": "code",
   "execution_count": 4,
   "id": "differential-antigua",
   "metadata": {},
   "outputs": [],
   "source": [
    "df.drop(['customerID'],axis=1,inplace=True)"
   ]
  },
  {
   "cell_type": "code",
   "execution_count": 5,
   "id": "demographic-longer",
   "metadata": {},
   "outputs": [],
   "source": [
    "#df.columns=df.columns.str.replace('','_')\n",
    "#df.head()"
   ]
  },
  {
   "cell_type": "code",
   "execution_count": 6,
   "id": "sensitive-phoenix",
   "metadata": {},
   "outputs": [
    {
     "data": {
      "text/plain": [
       "gender               object\n",
       "SeniorCitizen         int64\n",
       "Partner              object\n",
       "Dependents           object\n",
       "tenure                int64\n",
       "PhoneService         object\n",
       "MultipleLines        object\n",
       "InternetService      object\n",
       "OnlineSecurity       object\n",
       "OnlineBackup         object\n",
       "DeviceProtection     object\n",
       "TechSupport          object\n",
       "StreamingTV          object\n",
       "StreamingMovies      object\n",
       "Contract             object\n",
       "PaperlessBilling     object\n",
       "PaymentMethod        object\n",
       "MonthlyCharges      float64\n",
       "TotalCharges         object\n",
       "Churn                object\n",
       "dtype: object"
      ]
     },
     "execution_count": 6,
     "metadata": {},
     "output_type": "execute_result"
    }
   ],
   "source": [
    "df.dtypes"
   ]
  },
  {
   "cell_type": "code",
   "execution_count": 7,
   "id": "german-might",
   "metadata": {},
   "outputs": [
    {
     "data": {
      "text/plain": [
       "gender              0\n",
       "SeniorCitizen       0\n",
       "Partner             0\n",
       "Dependents          0\n",
       "tenure              0\n",
       "PhoneService        0\n",
       "MultipleLines       0\n",
       "InternetService     0\n",
       "OnlineSecurity      0\n",
       "OnlineBackup        0\n",
       "DeviceProtection    0\n",
       "TechSupport         0\n",
       "StreamingTV         0\n",
       "StreamingMovies     0\n",
       "Contract            0\n",
       "PaperlessBilling    0\n",
       "PaymentMethod       0\n",
       "MonthlyCharges      0\n",
       "TotalCharges        0\n",
       "Churn               0\n",
       "dtype: int64"
      ]
     },
     "execution_count": 7,
     "metadata": {},
     "output_type": "execute_result"
    }
   ],
   "source": [
    "df.isnull().sum()"
   ]
  },
  {
   "cell_type": "code",
   "execution_count": 8,
   "id": "accessory-commercial",
   "metadata": {},
   "outputs": [
    {
     "data": {
      "text/plain": [
       "array(['No', 'Yes'], dtype=object)"
      ]
     },
     "execution_count": 8,
     "metadata": {},
     "output_type": "execute_result"
    }
   ],
   "source": [
    "df['PhoneService'].unique()"
   ]
  },
  {
   "cell_type": "code",
   "execution_count": 9,
   "id": "healthy-psychiatry",
   "metadata": {},
   "outputs": [
    {
     "data": {
      "text/plain": [
       "array(['29.85', '1889.5', '108.15', ..., '346.45', '306.6', '6844.5'],\n",
       "      dtype=object)"
      ]
     },
     "execution_count": 9,
     "metadata": {},
     "output_type": "execute_result"
    }
   ],
   "source": [
    "df['TotalCharges'].unique()"
   ]
  },
  {
   "cell_type": "code",
   "execution_count": 10,
   "id": "accessible-crossing",
   "metadata": {},
   "outputs": [],
   "source": [
    "#df['TotalCharges']=pd.to_numeric(df['TotalCharges'])\n",
    "#there is some empty strings, so will get error, so set 0"
   ]
  },
  {
   "cell_type": "code",
   "execution_count": 11,
   "id": "apart-exchange",
   "metadata": {},
   "outputs": [
    {
     "data": {
      "text/plain": [
       "11"
      ]
     },
     "execution_count": 11,
     "metadata": {},
     "output_type": "execute_result"
    }
   ],
   "source": [
    "len(df.loc[df['TotalCharges']==' '])"
   ]
  },
  {
   "cell_type": "code",
   "execution_count": 12,
   "id": "least-showcase",
   "metadata": {},
   "outputs": [
    {
     "data": {
      "text/html": [
       "<div>\n",
       "<style scoped>\n",
       "    .dataframe tbody tr th:only-of-type {\n",
       "        vertical-align: middle;\n",
       "    }\n",
       "\n",
       "    .dataframe tbody tr th {\n",
       "        vertical-align: top;\n",
       "    }\n",
       "\n",
       "    .dataframe thead th {\n",
       "        text-align: right;\n",
       "    }\n",
       "</style>\n",
       "<table border=\"1\" class=\"dataframe\">\n",
       "  <thead>\n",
       "    <tr style=\"text-align: right;\">\n",
       "      <th></th>\n",
       "      <th>gender</th>\n",
       "      <th>SeniorCitizen</th>\n",
       "      <th>Partner</th>\n",
       "      <th>Dependents</th>\n",
       "      <th>tenure</th>\n",
       "      <th>PhoneService</th>\n",
       "      <th>MultipleLines</th>\n",
       "      <th>InternetService</th>\n",
       "      <th>OnlineSecurity</th>\n",
       "      <th>OnlineBackup</th>\n",
       "      <th>DeviceProtection</th>\n",
       "      <th>TechSupport</th>\n",
       "      <th>StreamingTV</th>\n",
       "      <th>StreamingMovies</th>\n",
       "      <th>Contract</th>\n",
       "      <th>PaperlessBilling</th>\n",
       "      <th>PaymentMethod</th>\n",
       "      <th>MonthlyCharges</th>\n",
       "      <th>TotalCharges</th>\n",
       "      <th>Churn</th>\n",
       "    </tr>\n",
       "  </thead>\n",
       "  <tbody>\n",
       "    <tr>\n",
       "      <th>488</th>\n",
       "      <td>Female</td>\n",
       "      <td>0</td>\n",
       "      <td>Yes</td>\n",
       "      <td>Yes</td>\n",
       "      <td>0</td>\n",
       "      <td>No</td>\n",
       "      <td>No phone service</td>\n",
       "      <td>DSL</td>\n",
       "      <td>Yes</td>\n",
       "      <td>No</td>\n",
       "      <td>Yes</td>\n",
       "      <td>Yes</td>\n",
       "      <td>Yes</td>\n",
       "      <td>No</td>\n",
       "      <td>Two year</td>\n",
       "      <td>Yes</td>\n",
       "      <td>Bank transfer (automatic)</td>\n",
       "      <td>52.55</td>\n",
       "      <td></td>\n",
       "      <td>No</td>\n",
       "    </tr>\n",
       "    <tr>\n",
       "      <th>753</th>\n",
       "      <td>Male</td>\n",
       "      <td>0</td>\n",
       "      <td>No</td>\n",
       "      <td>Yes</td>\n",
       "      <td>0</td>\n",
       "      <td>Yes</td>\n",
       "      <td>No</td>\n",
       "      <td>No</td>\n",
       "      <td>No internet service</td>\n",
       "      <td>No internet service</td>\n",
       "      <td>No internet service</td>\n",
       "      <td>No internet service</td>\n",
       "      <td>No internet service</td>\n",
       "      <td>No internet service</td>\n",
       "      <td>Two year</td>\n",
       "      <td>No</td>\n",
       "      <td>Mailed check</td>\n",
       "      <td>20.25</td>\n",
       "      <td></td>\n",
       "      <td>No</td>\n",
       "    </tr>\n",
       "    <tr>\n",
       "      <th>936</th>\n",
       "      <td>Female</td>\n",
       "      <td>0</td>\n",
       "      <td>Yes</td>\n",
       "      <td>Yes</td>\n",
       "      <td>0</td>\n",
       "      <td>Yes</td>\n",
       "      <td>No</td>\n",
       "      <td>DSL</td>\n",
       "      <td>Yes</td>\n",
       "      <td>Yes</td>\n",
       "      <td>Yes</td>\n",
       "      <td>No</td>\n",
       "      <td>Yes</td>\n",
       "      <td>Yes</td>\n",
       "      <td>Two year</td>\n",
       "      <td>No</td>\n",
       "      <td>Mailed check</td>\n",
       "      <td>80.85</td>\n",
       "      <td></td>\n",
       "      <td>No</td>\n",
       "    </tr>\n",
       "    <tr>\n",
       "      <th>1082</th>\n",
       "      <td>Male</td>\n",
       "      <td>0</td>\n",
       "      <td>Yes</td>\n",
       "      <td>Yes</td>\n",
       "      <td>0</td>\n",
       "      <td>Yes</td>\n",
       "      <td>Yes</td>\n",
       "      <td>No</td>\n",
       "      <td>No internet service</td>\n",
       "      <td>No internet service</td>\n",
       "      <td>No internet service</td>\n",
       "      <td>No internet service</td>\n",
       "      <td>No internet service</td>\n",
       "      <td>No internet service</td>\n",
       "      <td>Two year</td>\n",
       "      <td>No</td>\n",
       "      <td>Mailed check</td>\n",
       "      <td>25.75</td>\n",
       "      <td></td>\n",
       "      <td>No</td>\n",
       "    </tr>\n",
       "    <tr>\n",
       "      <th>1340</th>\n",
       "      <td>Female</td>\n",
       "      <td>0</td>\n",
       "      <td>Yes</td>\n",
       "      <td>Yes</td>\n",
       "      <td>0</td>\n",
       "      <td>No</td>\n",
       "      <td>No phone service</td>\n",
       "      <td>DSL</td>\n",
       "      <td>Yes</td>\n",
       "      <td>Yes</td>\n",
       "      <td>Yes</td>\n",
       "      <td>Yes</td>\n",
       "      <td>Yes</td>\n",
       "      <td>No</td>\n",
       "      <td>Two year</td>\n",
       "      <td>No</td>\n",
       "      <td>Credit card (automatic)</td>\n",
       "      <td>56.05</td>\n",
       "      <td></td>\n",
       "      <td>No</td>\n",
       "    </tr>\n",
       "    <tr>\n",
       "      <th>3331</th>\n",
       "      <td>Male</td>\n",
       "      <td>0</td>\n",
       "      <td>Yes</td>\n",
       "      <td>Yes</td>\n",
       "      <td>0</td>\n",
       "      <td>Yes</td>\n",
       "      <td>No</td>\n",
       "      <td>No</td>\n",
       "      <td>No internet service</td>\n",
       "      <td>No internet service</td>\n",
       "      <td>No internet service</td>\n",
       "      <td>No internet service</td>\n",
       "      <td>No internet service</td>\n",
       "      <td>No internet service</td>\n",
       "      <td>Two year</td>\n",
       "      <td>No</td>\n",
       "      <td>Mailed check</td>\n",
       "      <td>19.85</td>\n",
       "      <td></td>\n",
       "      <td>No</td>\n",
       "    </tr>\n",
       "    <tr>\n",
       "      <th>3826</th>\n",
       "      <td>Male</td>\n",
       "      <td>0</td>\n",
       "      <td>Yes</td>\n",
       "      <td>Yes</td>\n",
       "      <td>0</td>\n",
       "      <td>Yes</td>\n",
       "      <td>Yes</td>\n",
       "      <td>No</td>\n",
       "      <td>No internet service</td>\n",
       "      <td>No internet service</td>\n",
       "      <td>No internet service</td>\n",
       "      <td>No internet service</td>\n",
       "      <td>No internet service</td>\n",
       "      <td>No internet service</td>\n",
       "      <td>Two year</td>\n",
       "      <td>No</td>\n",
       "      <td>Mailed check</td>\n",
       "      <td>25.35</td>\n",
       "      <td></td>\n",
       "      <td>No</td>\n",
       "    </tr>\n",
       "    <tr>\n",
       "      <th>4380</th>\n",
       "      <td>Female</td>\n",
       "      <td>0</td>\n",
       "      <td>Yes</td>\n",
       "      <td>Yes</td>\n",
       "      <td>0</td>\n",
       "      <td>Yes</td>\n",
       "      <td>No</td>\n",
       "      <td>No</td>\n",
       "      <td>No internet service</td>\n",
       "      <td>No internet service</td>\n",
       "      <td>No internet service</td>\n",
       "      <td>No internet service</td>\n",
       "      <td>No internet service</td>\n",
       "      <td>No internet service</td>\n",
       "      <td>Two year</td>\n",
       "      <td>No</td>\n",
       "      <td>Mailed check</td>\n",
       "      <td>20.00</td>\n",
       "      <td></td>\n",
       "      <td>No</td>\n",
       "    </tr>\n",
       "    <tr>\n",
       "      <th>5218</th>\n",
       "      <td>Male</td>\n",
       "      <td>0</td>\n",
       "      <td>Yes</td>\n",
       "      <td>Yes</td>\n",
       "      <td>0</td>\n",
       "      <td>Yes</td>\n",
       "      <td>No</td>\n",
       "      <td>No</td>\n",
       "      <td>No internet service</td>\n",
       "      <td>No internet service</td>\n",
       "      <td>No internet service</td>\n",
       "      <td>No internet service</td>\n",
       "      <td>No internet service</td>\n",
       "      <td>No internet service</td>\n",
       "      <td>One year</td>\n",
       "      <td>Yes</td>\n",
       "      <td>Mailed check</td>\n",
       "      <td>19.70</td>\n",
       "      <td></td>\n",
       "      <td>No</td>\n",
       "    </tr>\n",
       "    <tr>\n",
       "      <th>6670</th>\n",
       "      <td>Female</td>\n",
       "      <td>0</td>\n",
       "      <td>Yes</td>\n",
       "      <td>Yes</td>\n",
       "      <td>0</td>\n",
       "      <td>Yes</td>\n",
       "      <td>Yes</td>\n",
       "      <td>DSL</td>\n",
       "      <td>No</td>\n",
       "      <td>Yes</td>\n",
       "      <td>Yes</td>\n",
       "      <td>Yes</td>\n",
       "      <td>Yes</td>\n",
       "      <td>No</td>\n",
       "      <td>Two year</td>\n",
       "      <td>No</td>\n",
       "      <td>Mailed check</td>\n",
       "      <td>73.35</td>\n",
       "      <td></td>\n",
       "      <td>No</td>\n",
       "    </tr>\n",
       "    <tr>\n",
       "      <th>6754</th>\n",
       "      <td>Male</td>\n",
       "      <td>0</td>\n",
       "      <td>No</td>\n",
       "      <td>Yes</td>\n",
       "      <td>0</td>\n",
       "      <td>Yes</td>\n",
       "      <td>Yes</td>\n",
       "      <td>DSL</td>\n",
       "      <td>Yes</td>\n",
       "      <td>Yes</td>\n",
       "      <td>No</td>\n",
       "      <td>Yes</td>\n",
       "      <td>No</td>\n",
       "      <td>No</td>\n",
       "      <td>Two year</td>\n",
       "      <td>Yes</td>\n",
       "      <td>Bank transfer (automatic)</td>\n",
       "      <td>61.90</td>\n",
       "      <td></td>\n",
       "      <td>No</td>\n",
       "    </tr>\n",
       "  </tbody>\n",
       "</table>\n",
       "</div>"
      ],
      "text/plain": [
       "      gender  SeniorCitizen Partner Dependents  tenure PhoneService  \\\n",
       "488   Female              0     Yes        Yes       0           No   \n",
       "753     Male              0      No        Yes       0          Yes   \n",
       "936   Female              0     Yes        Yes       0          Yes   \n",
       "1082    Male              0     Yes        Yes       0          Yes   \n",
       "1340  Female              0     Yes        Yes       0           No   \n",
       "3331    Male              0     Yes        Yes       0          Yes   \n",
       "3826    Male              0     Yes        Yes       0          Yes   \n",
       "4380  Female              0     Yes        Yes       0          Yes   \n",
       "5218    Male              0     Yes        Yes       0          Yes   \n",
       "6670  Female              0     Yes        Yes       0          Yes   \n",
       "6754    Male              0      No        Yes       0          Yes   \n",
       "\n",
       "         MultipleLines InternetService       OnlineSecurity  \\\n",
       "488   No phone service             DSL                  Yes   \n",
       "753                 No              No  No internet service   \n",
       "936                 No             DSL                  Yes   \n",
       "1082               Yes              No  No internet service   \n",
       "1340  No phone service             DSL                  Yes   \n",
       "3331                No              No  No internet service   \n",
       "3826               Yes              No  No internet service   \n",
       "4380                No              No  No internet service   \n",
       "5218                No              No  No internet service   \n",
       "6670               Yes             DSL                   No   \n",
       "6754               Yes             DSL                  Yes   \n",
       "\n",
       "             OnlineBackup     DeviceProtection          TechSupport  \\\n",
       "488                    No                  Yes                  Yes   \n",
       "753   No internet service  No internet service  No internet service   \n",
       "936                   Yes                  Yes                   No   \n",
       "1082  No internet service  No internet service  No internet service   \n",
       "1340                  Yes                  Yes                  Yes   \n",
       "3331  No internet service  No internet service  No internet service   \n",
       "3826  No internet service  No internet service  No internet service   \n",
       "4380  No internet service  No internet service  No internet service   \n",
       "5218  No internet service  No internet service  No internet service   \n",
       "6670                  Yes                  Yes                  Yes   \n",
       "6754                  Yes                   No                  Yes   \n",
       "\n",
       "              StreamingTV      StreamingMovies  Contract PaperlessBilling  \\\n",
       "488                   Yes                   No  Two year              Yes   \n",
       "753   No internet service  No internet service  Two year               No   \n",
       "936                   Yes                  Yes  Two year               No   \n",
       "1082  No internet service  No internet service  Two year               No   \n",
       "1340                  Yes                   No  Two year               No   \n",
       "3331  No internet service  No internet service  Two year               No   \n",
       "3826  No internet service  No internet service  Two year               No   \n",
       "4380  No internet service  No internet service  Two year               No   \n",
       "5218  No internet service  No internet service  One year              Yes   \n",
       "6670                  Yes                   No  Two year               No   \n",
       "6754                   No                   No  Two year              Yes   \n",
       "\n",
       "                  PaymentMethod  MonthlyCharges TotalCharges Churn  \n",
       "488   Bank transfer (automatic)           52.55                 No  \n",
       "753                Mailed check           20.25                 No  \n",
       "936                Mailed check           80.85                 No  \n",
       "1082               Mailed check           25.75                 No  \n",
       "1340    Credit card (automatic)           56.05                 No  \n",
       "3331               Mailed check           19.85                 No  \n",
       "3826               Mailed check           25.35                 No  \n",
       "4380               Mailed check           20.00                 No  \n",
       "5218               Mailed check           19.70                 No  \n",
       "6670               Mailed check           73.35                 No  \n",
       "6754  Bank transfer (automatic)           61.90                 No  "
      ]
     },
     "execution_count": 12,
     "metadata": {},
     "output_type": "execute_result"
    }
   ],
   "source": [
    "df.loc[df['TotalCharges']==' ']\n",
    "#Total charges column become empty string, will not take null values.\n"
   ]
  },
  {
   "cell_type": "code",
   "execution_count": 13,
   "id": "dependent-night",
   "metadata": {},
   "outputs": [],
   "source": [
    "df.loc[(df['TotalCharges']==' '),'TotalCharges']=0\n"
   ]
  },
  {
   "cell_type": "code",
   "execution_count": 14,
   "id": "bridal-pipeline",
   "metadata": {},
   "outputs": [
    {
     "data": {
      "text/html": [
       "<div>\n",
       "<style scoped>\n",
       "    .dataframe tbody tr th:only-of-type {\n",
       "        vertical-align: middle;\n",
       "    }\n",
       "\n",
       "    .dataframe tbody tr th {\n",
       "        vertical-align: top;\n",
       "    }\n",
       "\n",
       "    .dataframe thead th {\n",
       "        text-align: right;\n",
       "    }\n",
       "</style>\n",
       "<table border=\"1\" class=\"dataframe\">\n",
       "  <thead>\n",
       "    <tr style=\"text-align: right;\">\n",
       "      <th></th>\n",
       "      <th>gender</th>\n",
       "      <th>SeniorCitizen</th>\n",
       "      <th>Partner</th>\n",
       "      <th>Dependents</th>\n",
       "      <th>tenure</th>\n",
       "      <th>PhoneService</th>\n",
       "      <th>MultipleLines</th>\n",
       "      <th>InternetService</th>\n",
       "      <th>OnlineSecurity</th>\n",
       "      <th>OnlineBackup</th>\n",
       "      <th>DeviceProtection</th>\n",
       "      <th>TechSupport</th>\n",
       "      <th>StreamingTV</th>\n",
       "      <th>StreamingMovies</th>\n",
       "      <th>Contract</th>\n",
       "      <th>PaperlessBilling</th>\n",
       "      <th>PaymentMethod</th>\n",
       "      <th>MonthlyCharges</th>\n",
       "      <th>TotalCharges</th>\n",
       "      <th>Churn</th>\n",
       "    </tr>\n",
       "  </thead>\n",
       "  <tbody>\n",
       "    <tr>\n",
       "      <th>488</th>\n",
       "      <td>Female</td>\n",
       "      <td>0</td>\n",
       "      <td>Yes</td>\n",
       "      <td>Yes</td>\n",
       "      <td>0</td>\n",
       "      <td>No</td>\n",
       "      <td>No phone service</td>\n",
       "      <td>DSL</td>\n",
       "      <td>Yes</td>\n",
       "      <td>No</td>\n",
       "      <td>Yes</td>\n",
       "      <td>Yes</td>\n",
       "      <td>Yes</td>\n",
       "      <td>No</td>\n",
       "      <td>Two year</td>\n",
       "      <td>Yes</td>\n",
       "      <td>Bank transfer (automatic)</td>\n",
       "      <td>52.55</td>\n",
       "      <td>0</td>\n",
       "      <td>No</td>\n",
       "    </tr>\n",
       "    <tr>\n",
       "      <th>753</th>\n",
       "      <td>Male</td>\n",
       "      <td>0</td>\n",
       "      <td>No</td>\n",
       "      <td>Yes</td>\n",
       "      <td>0</td>\n",
       "      <td>Yes</td>\n",
       "      <td>No</td>\n",
       "      <td>No</td>\n",
       "      <td>No internet service</td>\n",
       "      <td>No internet service</td>\n",
       "      <td>No internet service</td>\n",
       "      <td>No internet service</td>\n",
       "      <td>No internet service</td>\n",
       "      <td>No internet service</td>\n",
       "      <td>Two year</td>\n",
       "      <td>No</td>\n",
       "      <td>Mailed check</td>\n",
       "      <td>20.25</td>\n",
       "      <td>0</td>\n",
       "      <td>No</td>\n",
       "    </tr>\n",
       "    <tr>\n",
       "      <th>936</th>\n",
       "      <td>Female</td>\n",
       "      <td>0</td>\n",
       "      <td>Yes</td>\n",
       "      <td>Yes</td>\n",
       "      <td>0</td>\n",
       "      <td>Yes</td>\n",
       "      <td>No</td>\n",
       "      <td>DSL</td>\n",
       "      <td>Yes</td>\n",
       "      <td>Yes</td>\n",
       "      <td>Yes</td>\n",
       "      <td>No</td>\n",
       "      <td>Yes</td>\n",
       "      <td>Yes</td>\n",
       "      <td>Two year</td>\n",
       "      <td>No</td>\n",
       "      <td>Mailed check</td>\n",
       "      <td>80.85</td>\n",
       "      <td>0</td>\n",
       "      <td>No</td>\n",
       "    </tr>\n",
       "    <tr>\n",
       "      <th>1082</th>\n",
       "      <td>Male</td>\n",
       "      <td>0</td>\n",
       "      <td>Yes</td>\n",
       "      <td>Yes</td>\n",
       "      <td>0</td>\n",
       "      <td>Yes</td>\n",
       "      <td>Yes</td>\n",
       "      <td>No</td>\n",
       "      <td>No internet service</td>\n",
       "      <td>No internet service</td>\n",
       "      <td>No internet service</td>\n",
       "      <td>No internet service</td>\n",
       "      <td>No internet service</td>\n",
       "      <td>No internet service</td>\n",
       "      <td>Two year</td>\n",
       "      <td>No</td>\n",
       "      <td>Mailed check</td>\n",
       "      <td>25.75</td>\n",
       "      <td>0</td>\n",
       "      <td>No</td>\n",
       "    </tr>\n",
       "    <tr>\n",
       "      <th>1340</th>\n",
       "      <td>Female</td>\n",
       "      <td>0</td>\n",
       "      <td>Yes</td>\n",
       "      <td>Yes</td>\n",
       "      <td>0</td>\n",
       "      <td>No</td>\n",
       "      <td>No phone service</td>\n",
       "      <td>DSL</td>\n",
       "      <td>Yes</td>\n",
       "      <td>Yes</td>\n",
       "      <td>Yes</td>\n",
       "      <td>Yes</td>\n",
       "      <td>Yes</td>\n",
       "      <td>No</td>\n",
       "      <td>Two year</td>\n",
       "      <td>No</td>\n",
       "      <td>Credit card (automatic)</td>\n",
       "      <td>56.05</td>\n",
       "      <td>0</td>\n",
       "      <td>No</td>\n",
       "    </tr>\n",
       "    <tr>\n",
       "      <th>3331</th>\n",
       "      <td>Male</td>\n",
       "      <td>0</td>\n",
       "      <td>Yes</td>\n",
       "      <td>Yes</td>\n",
       "      <td>0</td>\n",
       "      <td>Yes</td>\n",
       "      <td>No</td>\n",
       "      <td>No</td>\n",
       "      <td>No internet service</td>\n",
       "      <td>No internet service</td>\n",
       "      <td>No internet service</td>\n",
       "      <td>No internet service</td>\n",
       "      <td>No internet service</td>\n",
       "      <td>No internet service</td>\n",
       "      <td>Two year</td>\n",
       "      <td>No</td>\n",
       "      <td>Mailed check</td>\n",
       "      <td>19.85</td>\n",
       "      <td>0</td>\n",
       "      <td>No</td>\n",
       "    </tr>\n",
       "    <tr>\n",
       "      <th>3826</th>\n",
       "      <td>Male</td>\n",
       "      <td>0</td>\n",
       "      <td>Yes</td>\n",
       "      <td>Yes</td>\n",
       "      <td>0</td>\n",
       "      <td>Yes</td>\n",
       "      <td>Yes</td>\n",
       "      <td>No</td>\n",
       "      <td>No internet service</td>\n",
       "      <td>No internet service</td>\n",
       "      <td>No internet service</td>\n",
       "      <td>No internet service</td>\n",
       "      <td>No internet service</td>\n",
       "      <td>No internet service</td>\n",
       "      <td>Two year</td>\n",
       "      <td>No</td>\n",
       "      <td>Mailed check</td>\n",
       "      <td>25.35</td>\n",
       "      <td>0</td>\n",
       "      <td>No</td>\n",
       "    </tr>\n",
       "    <tr>\n",
       "      <th>4380</th>\n",
       "      <td>Female</td>\n",
       "      <td>0</td>\n",
       "      <td>Yes</td>\n",
       "      <td>Yes</td>\n",
       "      <td>0</td>\n",
       "      <td>Yes</td>\n",
       "      <td>No</td>\n",
       "      <td>No</td>\n",
       "      <td>No internet service</td>\n",
       "      <td>No internet service</td>\n",
       "      <td>No internet service</td>\n",
       "      <td>No internet service</td>\n",
       "      <td>No internet service</td>\n",
       "      <td>No internet service</td>\n",
       "      <td>Two year</td>\n",
       "      <td>No</td>\n",
       "      <td>Mailed check</td>\n",
       "      <td>20.00</td>\n",
       "      <td>0</td>\n",
       "      <td>No</td>\n",
       "    </tr>\n",
       "    <tr>\n",
       "      <th>5218</th>\n",
       "      <td>Male</td>\n",
       "      <td>0</td>\n",
       "      <td>Yes</td>\n",
       "      <td>Yes</td>\n",
       "      <td>0</td>\n",
       "      <td>Yes</td>\n",
       "      <td>No</td>\n",
       "      <td>No</td>\n",
       "      <td>No internet service</td>\n",
       "      <td>No internet service</td>\n",
       "      <td>No internet service</td>\n",
       "      <td>No internet service</td>\n",
       "      <td>No internet service</td>\n",
       "      <td>No internet service</td>\n",
       "      <td>One year</td>\n",
       "      <td>Yes</td>\n",
       "      <td>Mailed check</td>\n",
       "      <td>19.70</td>\n",
       "      <td>0</td>\n",
       "      <td>No</td>\n",
       "    </tr>\n",
       "    <tr>\n",
       "      <th>6670</th>\n",
       "      <td>Female</td>\n",
       "      <td>0</td>\n",
       "      <td>Yes</td>\n",
       "      <td>Yes</td>\n",
       "      <td>0</td>\n",
       "      <td>Yes</td>\n",
       "      <td>Yes</td>\n",
       "      <td>DSL</td>\n",
       "      <td>No</td>\n",
       "      <td>Yes</td>\n",
       "      <td>Yes</td>\n",
       "      <td>Yes</td>\n",
       "      <td>Yes</td>\n",
       "      <td>No</td>\n",
       "      <td>Two year</td>\n",
       "      <td>No</td>\n",
       "      <td>Mailed check</td>\n",
       "      <td>73.35</td>\n",
       "      <td>0</td>\n",
       "      <td>No</td>\n",
       "    </tr>\n",
       "    <tr>\n",
       "      <th>6754</th>\n",
       "      <td>Male</td>\n",
       "      <td>0</td>\n",
       "      <td>No</td>\n",
       "      <td>Yes</td>\n",
       "      <td>0</td>\n",
       "      <td>Yes</td>\n",
       "      <td>Yes</td>\n",
       "      <td>DSL</td>\n",
       "      <td>Yes</td>\n",
       "      <td>Yes</td>\n",
       "      <td>No</td>\n",
       "      <td>Yes</td>\n",
       "      <td>No</td>\n",
       "      <td>No</td>\n",
       "      <td>Two year</td>\n",
       "      <td>Yes</td>\n",
       "      <td>Bank transfer (automatic)</td>\n",
       "      <td>61.90</td>\n",
       "      <td>0</td>\n",
       "      <td>No</td>\n",
       "    </tr>\n",
       "  </tbody>\n",
       "</table>\n",
       "</div>"
      ],
      "text/plain": [
       "      gender  SeniorCitizen Partner Dependents  tenure PhoneService  \\\n",
       "488   Female              0     Yes        Yes       0           No   \n",
       "753     Male              0      No        Yes       0          Yes   \n",
       "936   Female              0     Yes        Yes       0          Yes   \n",
       "1082    Male              0     Yes        Yes       0          Yes   \n",
       "1340  Female              0     Yes        Yes       0           No   \n",
       "3331    Male              0     Yes        Yes       0          Yes   \n",
       "3826    Male              0     Yes        Yes       0          Yes   \n",
       "4380  Female              0     Yes        Yes       0          Yes   \n",
       "5218    Male              0     Yes        Yes       0          Yes   \n",
       "6670  Female              0     Yes        Yes       0          Yes   \n",
       "6754    Male              0      No        Yes       0          Yes   \n",
       "\n",
       "         MultipleLines InternetService       OnlineSecurity  \\\n",
       "488   No phone service             DSL                  Yes   \n",
       "753                 No              No  No internet service   \n",
       "936                 No             DSL                  Yes   \n",
       "1082               Yes              No  No internet service   \n",
       "1340  No phone service             DSL                  Yes   \n",
       "3331                No              No  No internet service   \n",
       "3826               Yes              No  No internet service   \n",
       "4380                No              No  No internet service   \n",
       "5218                No              No  No internet service   \n",
       "6670               Yes             DSL                   No   \n",
       "6754               Yes             DSL                  Yes   \n",
       "\n",
       "             OnlineBackup     DeviceProtection          TechSupport  \\\n",
       "488                    No                  Yes                  Yes   \n",
       "753   No internet service  No internet service  No internet service   \n",
       "936                   Yes                  Yes                   No   \n",
       "1082  No internet service  No internet service  No internet service   \n",
       "1340                  Yes                  Yes                  Yes   \n",
       "3331  No internet service  No internet service  No internet service   \n",
       "3826  No internet service  No internet service  No internet service   \n",
       "4380  No internet service  No internet service  No internet service   \n",
       "5218  No internet service  No internet service  No internet service   \n",
       "6670                  Yes                  Yes                  Yes   \n",
       "6754                  Yes                   No                  Yes   \n",
       "\n",
       "              StreamingTV      StreamingMovies  Contract PaperlessBilling  \\\n",
       "488                   Yes                   No  Two year              Yes   \n",
       "753   No internet service  No internet service  Two year               No   \n",
       "936                   Yes                  Yes  Two year               No   \n",
       "1082  No internet service  No internet service  Two year               No   \n",
       "1340                  Yes                   No  Two year               No   \n",
       "3331  No internet service  No internet service  Two year               No   \n",
       "3826  No internet service  No internet service  Two year               No   \n",
       "4380  No internet service  No internet service  Two year               No   \n",
       "5218  No internet service  No internet service  One year              Yes   \n",
       "6670                  Yes                   No  Two year               No   \n",
       "6754                   No                   No  Two year              Yes   \n",
       "\n",
       "                  PaymentMethod  MonthlyCharges TotalCharges Churn  \n",
       "488   Bank transfer (automatic)           52.55            0    No  \n",
       "753                Mailed check           20.25            0    No  \n",
       "936                Mailed check           80.85            0    No  \n",
       "1082               Mailed check           25.75            0    No  \n",
       "1340    Credit card (automatic)           56.05            0    No  \n",
       "3331               Mailed check           19.85            0    No  \n",
       "3826               Mailed check           25.35            0    No  \n",
       "4380               Mailed check           20.00            0    No  \n",
       "5218               Mailed check           19.70            0    No  \n",
       "6670               Mailed check           73.35            0    No  \n",
       "6754  Bank transfer (automatic)           61.90            0    No  "
      ]
     },
     "execution_count": 14,
     "metadata": {},
     "output_type": "execute_result"
    }
   ],
   "source": [
    "df.loc[df['tenure']==0]\n",
    "#for all missing values in total charges, tenure is 0, so checking all those tenures"
   ]
  },
  {
   "cell_type": "code",
   "execution_count": 15,
   "id": "above-booking",
   "metadata": {
    "scrolled": true
   },
   "outputs": [],
   "source": [
    "#convert total charges from string /foating point to numeric\n",
    "df['TotalCharges']=pd.to_numeric(df['TotalCharges'])\n"
   ]
  },
  {
   "cell_type": "code",
   "execution_count": 16,
   "id": "effective-caribbean",
   "metadata": {},
   "outputs": [
    {
     "data": {
      "text/html": [
       "<div>\n",
       "<style scoped>\n",
       "    .dataframe tbody tr th:only-of-type {\n",
       "        vertical-align: middle;\n",
       "    }\n",
       "\n",
       "    .dataframe tbody tr th {\n",
       "        vertical-align: top;\n",
       "    }\n",
       "\n",
       "    .dataframe thead th {\n",
       "        text-align: right;\n",
       "    }\n",
       "</style>\n",
       "<table border=\"1\" class=\"dataframe\">\n",
       "  <thead>\n",
       "    <tr style=\"text-align: right;\">\n",
       "      <th></th>\n",
       "      <th>gender</th>\n",
       "      <th>SeniorCitizen</th>\n",
       "      <th>Partner</th>\n",
       "      <th>Dependents</th>\n",
       "      <th>tenure</th>\n",
       "      <th>PhoneService</th>\n",
       "      <th>MultipleLines</th>\n",
       "      <th>InternetService</th>\n",
       "      <th>OnlineSecurity</th>\n",
       "      <th>OnlineBackup</th>\n",
       "      <th>DeviceProtection</th>\n",
       "      <th>TechSupport</th>\n",
       "      <th>StreamingTV</th>\n",
       "      <th>StreamingMovies</th>\n",
       "      <th>Contract</th>\n",
       "      <th>PaperlessBilling</th>\n",
       "      <th>PaymentMethod</th>\n",
       "      <th>MonthlyCharges</th>\n",
       "      <th>TotalCharges</th>\n",
       "      <th>Churn</th>\n",
       "    </tr>\n",
       "  </thead>\n",
       "  <tbody>\n",
       "    <tr>\n",
       "      <th>0</th>\n",
       "      <td>Female</td>\n",
       "      <td>0</td>\n",
       "      <td>Yes</td>\n",
       "      <td>No</td>\n",
       "      <td>1</td>\n",
       "      <td>No</td>\n",
       "      <td>No_phone_service</td>\n",
       "      <td>DSL</td>\n",
       "      <td>No</td>\n",
       "      <td>Yes</td>\n",
       "      <td>No</td>\n",
       "      <td>No</td>\n",
       "      <td>No</td>\n",
       "      <td>No</td>\n",
       "      <td>Month-to-month</td>\n",
       "      <td>Yes</td>\n",
       "      <td>Electronic_check</td>\n",
       "      <td>29.85</td>\n",
       "      <td>29.85</td>\n",
       "      <td>No</td>\n",
       "    </tr>\n",
       "    <tr>\n",
       "      <th>1</th>\n",
       "      <td>Male</td>\n",
       "      <td>0</td>\n",
       "      <td>No</td>\n",
       "      <td>No</td>\n",
       "      <td>34</td>\n",
       "      <td>Yes</td>\n",
       "      <td>No</td>\n",
       "      <td>DSL</td>\n",
       "      <td>Yes</td>\n",
       "      <td>No</td>\n",
       "      <td>Yes</td>\n",
       "      <td>No</td>\n",
       "      <td>No</td>\n",
       "      <td>No</td>\n",
       "      <td>One_year</td>\n",
       "      <td>No</td>\n",
       "      <td>Mailed_check</td>\n",
       "      <td>56.95</td>\n",
       "      <td>1889.50</td>\n",
       "      <td>No</td>\n",
       "    </tr>\n",
       "    <tr>\n",
       "      <th>2</th>\n",
       "      <td>Male</td>\n",
       "      <td>0</td>\n",
       "      <td>No</td>\n",
       "      <td>No</td>\n",
       "      <td>2</td>\n",
       "      <td>Yes</td>\n",
       "      <td>No</td>\n",
       "      <td>DSL</td>\n",
       "      <td>Yes</td>\n",
       "      <td>Yes</td>\n",
       "      <td>No</td>\n",
       "      <td>No</td>\n",
       "      <td>No</td>\n",
       "      <td>No</td>\n",
       "      <td>Month-to-month</td>\n",
       "      <td>Yes</td>\n",
       "      <td>Mailed_check</td>\n",
       "      <td>53.85</td>\n",
       "      <td>108.15</td>\n",
       "      <td>Yes</td>\n",
       "    </tr>\n",
       "    <tr>\n",
       "      <th>3</th>\n",
       "      <td>Male</td>\n",
       "      <td>0</td>\n",
       "      <td>No</td>\n",
       "      <td>No</td>\n",
       "      <td>45</td>\n",
       "      <td>No</td>\n",
       "      <td>No_phone_service</td>\n",
       "      <td>DSL</td>\n",
       "      <td>Yes</td>\n",
       "      <td>No</td>\n",
       "      <td>Yes</td>\n",
       "      <td>Yes</td>\n",
       "      <td>No</td>\n",
       "      <td>No</td>\n",
       "      <td>One_year</td>\n",
       "      <td>No</td>\n",
       "      <td>Bank_transfer_(automatic)</td>\n",
       "      <td>42.30</td>\n",
       "      <td>1840.75</td>\n",
       "      <td>No</td>\n",
       "    </tr>\n",
       "    <tr>\n",
       "      <th>4</th>\n",
       "      <td>Female</td>\n",
       "      <td>0</td>\n",
       "      <td>No</td>\n",
       "      <td>No</td>\n",
       "      <td>2</td>\n",
       "      <td>Yes</td>\n",
       "      <td>No</td>\n",
       "      <td>Fiber_optic</td>\n",
       "      <td>No</td>\n",
       "      <td>No</td>\n",
       "      <td>No</td>\n",
       "      <td>No</td>\n",
       "      <td>No</td>\n",
       "      <td>No</td>\n",
       "      <td>Month-to-month</td>\n",
       "      <td>Yes</td>\n",
       "      <td>Electronic_check</td>\n",
       "      <td>70.70</td>\n",
       "      <td>151.65</td>\n",
       "      <td>Yes</td>\n",
       "    </tr>\n",
       "  </tbody>\n",
       "</table>\n",
       "</div>"
      ],
      "text/plain": [
       "   gender  SeniorCitizen Partner Dependents  tenure PhoneService  \\\n",
       "0  Female              0     Yes         No       1           No   \n",
       "1    Male              0      No         No      34          Yes   \n",
       "2    Male              0      No         No       2          Yes   \n",
       "3    Male              0      No         No      45           No   \n",
       "4  Female              0      No         No       2          Yes   \n",
       "\n",
       "      MultipleLines InternetService OnlineSecurity OnlineBackup  \\\n",
       "0  No_phone_service             DSL             No          Yes   \n",
       "1                No             DSL            Yes           No   \n",
       "2                No             DSL            Yes          Yes   \n",
       "3  No_phone_service             DSL            Yes           No   \n",
       "4                No     Fiber_optic             No           No   \n",
       "\n",
       "  DeviceProtection TechSupport StreamingTV StreamingMovies        Contract  \\\n",
       "0               No          No          No              No  Month-to-month   \n",
       "1              Yes          No          No              No        One_year   \n",
       "2               No          No          No              No  Month-to-month   \n",
       "3              Yes         Yes          No              No        One_year   \n",
       "4               No          No          No              No  Month-to-month   \n",
       "\n",
       "  PaperlessBilling              PaymentMethod  MonthlyCharges  TotalCharges  \\\n",
       "0              Yes           Electronic_check           29.85         29.85   \n",
       "1               No               Mailed_check           56.95       1889.50   \n",
       "2              Yes               Mailed_check           53.85        108.15   \n",
       "3               No  Bank_transfer_(automatic)           42.30       1840.75   \n",
       "4              Yes           Electronic_check           70.70        151.65   \n",
       "\n",
       "  Churn  \n",
       "0    No  \n",
       "1    No  \n",
       "2   Yes  \n",
       "3    No  \n",
       "4   Yes  "
      ]
     },
     "execution_count": 16,
     "metadata": {},
     "output_type": "execute_result"
    }
   ],
   "source": [
    "df.replace(' ','_',regex=True,inplace=True)\n",
    "df.head()"
   ]
  },
  {
   "cell_type": "code",
   "execution_count": 17,
   "id": "documentary-latvia",
   "metadata": {},
   "outputs": [
    {
     "data": {
      "text/plain": [
       "array(['Month-to-month', 'One_year', 'Two_year'], dtype=object)"
      ]
     },
     "execution_count": 17,
     "metadata": {},
     "output_type": "execute_result"
    }
   ],
   "source": [
    "df['Contract'].unique()"
   ]
  },
  {
   "cell_type": "code",
   "execution_count": 18,
   "id": "exclusive-newton",
   "metadata": {},
   "outputs": [],
   "source": [
    "#EDA"
   ]
  },
  {
   "cell_type": "code",
   "execution_count": 19,
   "id": "dynamic-store",
   "metadata": {},
   "outputs": [
    {
     "data": {
      "text/plain": [
       "Text(0.5, 1.0, 'Gender Distribution')"
      ]
     },
     "execution_count": 19,
     "metadata": {},
     "output_type": "execute_result"
    },
    {
     "data": {
      "image/png": "[encoded data removed]",
      "text/plain": [
       "<Figure size 432x288 with 1 Axes>"
      ]
     },
     "metadata": {
      "needs_background": "light"
     },
     "output_type": "display_data"
    }
   ],
   "source": [
    "import matplotlib.ticker as mtick\n",
    "colors=['#4D3425','#E4512B']\n",
    "\n",
    "ax=(df['gender'].value_counts()*100/len(df)).plot(kind='bar',\n",
    "                                                 stacked=True,\n",
    "                                                 color=colors)\n",
    "ax.yaxis.set_major_formatter(mtick.PercentFormatter())\n",
    "ax.set_ylabel('%Customers')\n",
    "ax.set_xlabel('Gender')\n",
    "ax.set_title('Gender Distribution')"
   ]
  },
  {
   "cell_type": "code",
   "execution_count": 20,
   "id": "piano-valuable",
   "metadata": {},
   "outputs": [
    {
     "data": {
      "text/plain": [
       "Text(0.5, 1.0, '% of senior citizens')"
      ]
     },
     "execution_count": 20,
     "metadata": {},
     "output_type": "execute_result"
    },
    {
     "data": {
      "image/png": "[encoded data removed]",
      "text/plain": [
       "<Figure size 360x360 with 1 Axes>"
      ]
     },
     "metadata": {},
     "output_type": "display_data"
    }
   ],
   "source": [
    "#taking percentange of data in ax\n",
    "ax=(df['SeniorCitizen'].value_counts()*100/len(df))\\\n",
    ".plot.pie(autopct='%.1f%%',labels=['No','Yes'],figsize=(5,5),fontsize=12)\n",
    "#.1f denotes 1 digit \n",
    "ax.yaxis.set_major_formatter(mtick.PercentFormatter())\n",
    "ax.set_ylabel('Senior Citizens',fontsize=12)\n",
    "ax.set_title('% of senior citizens',fontsize=12)"
   ]
  },
  {
   "cell_type": "code",
   "execution_count": 21,
   "id": "smart-johnson",
   "metadata": {},
   "outputs": [
    {
     "name": "stderr",
     "output_type": "stream",
     "text": [
      "/home/anu/yes/lib/python3.8/site-packages/seaborn/distributions.py:2557: FutureWarning: `distplot` is a deprecated function and will be removed in a future version. Please adapt your code to use either `displot` (a figure-level function with similar flexibility) or `histplot` (an axes-level function for histograms).\n",
      "  warnings.warn(msg, FutureWarning)\n"
     ]
    },
    {
     "data": {
      "text/plain": [
       "Text(0.5, 1.0, '# of customers by their tenure')"
      ]
     },
     "execution_count": 21,
     "metadata": {},
     "output_type": "execute_result"
    },
    {
     "data": {
      "image/png": "[encoded data removed]",
      "text/plain": [
       "<Figure size 432x288 with 1 Axes>"
      ]
     },
     "metadata": {
      "needs_background": "light"
     },
     "output_type": "display_data"
    }
   ],
   "source": [
    "ax=sns.distplot(df['tenure'],hist=True,kde=False,\n",
    "              bins=int(180/5),color='darkblue',\n",
    "              hist_kws={'edgecolor':'black'},\n",
    "              kde_kws={\"linewidth\":4})\n",
    "#180/5 gives 36 bars\n",
    "#edge color gives black border to bars\n",
    "#line width gives width\n",
    "ax.set_ylabel('# of customers')\n",
    "ax.set_xlabel('Tenure(months)')\n",
    "ax.set_title('# of customers by their tenure')"
   ]
  },
  {
   "cell_type": "code",
   "execution_count": 22,
   "id": "polished-consistency",
   "metadata": {},
   "outputs": [],
   "source": [
    "#lot of people used 70 months "
   ]
  },
  {
   "cell_type": "code",
   "execution_count": 23,
   "id": "expired-credit",
   "metadata": {},
   "outputs": [
    {
     "data": {
      "image/png": "[encoded data removed]",
      "text/plain": [
       "<Figure size 432x288 with 1 Axes>"
      ]
     },
     "metadata": {
      "needs_background": "light"
     },
     "output_type": "display_data"
    }
   ],
   "source": [
    "ax=df['Contract'].value_counts().plot(kind='bar',width=0.3)\n",
    "#3800 contracts are in month to month, 1500 are 2 year etc"
   ]
  },
  {
   "cell_type": "code",
   "execution_count": 24,
   "id": "gentle-tampa",
   "metadata": {},
   "outputs": [
    {
     "data": {
      "image/png": "[encoded data removed]",
      "text/plain": [
       "<Figure size 720x720 with 9 Axes>"
      ]
     },
     "metadata": {
      "needs_background": "light"
     },
     "output_type": "display_data"
    }
   ],
   "source": [
    "#9 values here in services, going to plot all 9 \n",
    "\n",
    "services = ['PhoneService','MultipleLines','InternetService','OnlineSecurity',\n",
    "'OnlineBackup','DeviceProtection','TechSupport','StreamingTV','StreamingMovies']\n",
    "\n",
    "fig,axes=plt.subplots(nrows=3,ncols=3,figsize=(10,10))#3X3 metrics form\n",
    "for i,item in enumerate(services):\n",
    "    if i<3:#first 3 services in column wise\n",
    "        ax=df[item].value_counts().plot(kind='bar',ax=axes[i,0])\n",
    "    elif i>=3 and i<6:#next 3\n",
    "        ax=df[item].value_counts().plot(kind='bar',ax=axes[i-3,1])\n",
    "    \n",
    "    elif i<9:\n",
    "        ax=df[item].value_counts().plot(kind='bar',ax=axes[i-6,2])\n",
    "    ax.set_title(item)\n",
    "\n",
    "        #each plot shows service usage (yes or no),\n",
    "        #if less usage we can reduce its amount so cost also will reduced"
   ]
  },
  {
   "cell_type": "code",
   "execution_count": 25,
   "id": "judicial-wealth",
   "metadata": {},
   "outputs": [
    {
     "data": {
      "text/plain": [
       "Text(0.5, 1.0, 'Churn Rate')"
      ]
     },
     "execution_count": 25,
     "metadata": {},
     "output_type": "execute_result"
    },
    {
     "data": {
      "image/png": "[encoded data removed]",
      "text/plain": [
       "<Figure size 576x432 with 1 Axes>"
      ]
     },
     "metadata": {
      "needs_background": "light"
     },
     "output_type": "display_data"
    }
   ],
   "source": [
    "colors=['#4D3425','#E4512B']\n",
    "ax=(df['Churn'].value_counts()*100.0/len(df)).plot(kind='bar',\n",
    "                                                  stacked=True,\n",
    "                                                  rot=0,\n",
    "                                                  color=colors,\n",
    "                                                  figsize=(8,6))\n",
    "ax.yaxis.set_major_formatter(mtick.PercentFormatter())\n",
    "ax.set_ylabel('% Customers',size=14)\n",
    "ax.set_xlabel('Churn',size=14)\n",
    "ax.set_title('Churn Rate',size=14)\n",
    "\n"
   ]
  },
  {
   "cell_type": "code",
   "execution_count": 26,
   "id": "moral-microphone",
   "metadata": {},
   "outputs": [],
   "source": [
    "#almost 72% users stop using the company services."
   ]
  },
  {
   "cell_type": "code",
   "execution_count": 27,
   "id": "advisory-welcome",
   "metadata": {},
   "outputs": [
    {
     "name": "stdout",
     "output_type": "stream",
     "text": [
      "Churn             No   Yes\n",
      "Contract                  \n",
      "Month-to-month  2220  1655\n",
      "One_year        1307   166\n",
      "Two_year        1647    48\n"
     ]
    },
    {
     "data": {
      "text/plain": [
       "Text(0.5, 1.0, 'Churn by contract type')"
      ]
     },
     "execution_count": 27,
     "metadata": {},
     "output_type": "execute_result"
    },
    {
     "data": {
      "image/png": "[encoded data removed]",
      "text/plain": [
       "<Figure size 576x432 with 1 Axes>"
      ]
     },
     "metadata": {
      "needs_background": "light"
     },
     "output_type": "display_data"
    }
   ],
   "source": [
    "colors=['#4D3425','#E4512B']\n",
    "contract_churn=df.groupby(['Contract','Churn']).size().unstack()\n",
    "print(contract_churn)\n",
    "\n",
    "ax=(contract_churn.T*100.0/contract_churn.T.sum()).T.plot(kind='bar',\n",
    "                                                  stacked=True,\n",
    "                                                  rot=0,\n",
    "                                                  color=colors,\n",
    "                                                  figsize=(8,6))\n",
    "ax.yaxis.set_major_formatter(mtick.PercentFormatter())\n",
    "ax.legend(loc='best',prop={'size':14},title='Churn')\n",
    "ax.set_ylabel('%Customers',size=14)\n",
    "ax.set_title('Churn by contract type',size=14)\n",
    "\n",
    "\n"
   ]
  },
  {
   "cell_type": "code",
   "execution_count": 28,
   "id": "imported-sweden",
   "metadata": {},
   "outputs": [],
   "source": [
    "#under No- >not churn\n",
    "#in month to month contract, churn rate is high,people stop using the service"
   ]
  },
  {
   "cell_type": "code",
   "execution_count": 29,
   "id": "received-offense",
   "metadata": {},
   "outputs": [
    {
     "name": "stdout",
     "output_type": "stream",
     "text": [
      "Churn            No   Yes\n",
      "SeniorCitizen            \n",
      "0              4508  1393\n",
      "1               666   476\n"
     ]
    },
    {
     "data": {
      "text/plain": [
       "Text(0.5, 1.0, 'Churn by seniority type')"
      ]
     },
     "execution_count": 29,
     "metadata": {},
     "output_type": "execute_result"
    },
    {
     "data": {
      "image/png": "[encoded data removed]",
      "text/plain": [
       "<Figure size 576x432 with 1 Axes>"
      ]
     },
     "metadata": {
      "needs_background": "light"
     },
     "output_type": "display_data"
    }
   ],
   "source": [
    "#Seniortiy Level Graph\n",
    "\n",
    "colors=['#4D3425','#E4512B']\n",
    "seniority_churn=df.groupby(['SeniorCitizen','Churn']).size().unstack()\n",
    "print(seniority_churn)\n",
    "\n",
    "ax=(seniority_churn.T*100.0/seniority_churn.T.sum()).T.plot(kind='bar',\n",
    "                                                  stacked=True,\n",
    "                                                  rot=0,\n",
    "                                                  color=colors,\n",
    "                                                  figsize=(8,6))\n",
    "ax.yaxis.set_major_formatter(mtick.PercentFormatter())\n",
    "ax.legend(loc='best',prop={'size':14},title='Churn')\n",
    "ax.set_ylabel('%Customers',size=14)\n",
    "ax.set_title('Churn by seniority type',size=14)"
   ]
  },
  {
   "cell_type": "code",
   "execution_count": 30,
   "id": "fourth-shopping",
   "metadata": {},
   "outputs": [],
   "source": [
    "#orange color shows churn size,\n",
    "#1 shows senior citizens,almost 60% of them are existing users."
   ]
  },
  {
   "cell_type": "code",
   "execution_count": 31,
   "id": "devoted-choice",
   "metadata": {},
   "outputs": [
    {
     "data": {
      "text/plain": [
       "Index(['gender', 'SeniorCitizen', 'Partner', 'Dependents', 'tenure',\n",
       "       'PhoneService', 'MultipleLines', 'InternetService', 'OnlineSecurity',\n",
       "       'OnlineBackup', 'DeviceProtection', 'TechSupport', 'StreamingTV',\n",
       "       'StreamingMovies', 'Contract', 'PaperlessBilling', 'PaymentMethod',\n",
       "       'MonthlyCharges', 'TotalCharges', 'Churn'],\n",
       "      dtype='object')"
      ]
     },
     "execution_count": 31,
     "metadata": {},
     "output_type": "execute_result"
    }
   ],
   "source": [
    "df.columns"
   ]
  },
  {
   "cell_type": "code",
   "execution_count": 32,
   "id": "coordinate-ranch",
   "metadata": {},
   "outputs": [
    {
     "name": "stdout",
     "output_type": "stream",
     "text": [
      "gender\n",
      "['Female' 'Male']\n",
      "SeniorCitizen\n",
      "[0 1]\n",
      "Partner\n",
      "['Yes' 'No']\n",
      "Dependents\n",
      "['No' 'Yes']\n",
      "tenure\n",
      "[ 1 34  2 45  8 22 10 28 62 13 16 58 49 25 69 52 71 21 12 30 47 72 17 27\n",
      "  5 46 11 70 63 43 15 60 18 66  9  3 31 50 64 56  7 42 35 48 29 65 38 68\n",
      " 32 55 37 36 41  6  4 33 67 23 57 61 14 20 53 40 59 24 44 19 54 51 26  0\n",
      " 39]\n",
      "PhoneService\n",
      "['No' 'Yes']\n",
      "MultipleLines\n",
      "['No_phone_service' 'No' 'Yes']\n",
      "InternetService\n",
      "['DSL' 'Fiber_optic' 'No']\n",
      "OnlineSecurity\n",
      "['No' 'Yes' 'No_internet_service']\n",
      "OnlineBackup\n",
      "['Yes' 'No' 'No_internet_service']\n",
      "DeviceProtection\n",
      "['No' 'Yes' 'No_internet_service']\n",
      "TechSupport\n",
      "['No' 'Yes' 'No_internet_service']\n",
      "StreamingTV\n",
      "['No' 'Yes' 'No_internet_service']\n",
      "StreamingMovies\n",
      "['No' 'Yes' 'No_internet_service']\n",
      "Contract\n",
      "['Month-to-month' 'One_year' 'Two_year']\n",
      "PaperlessBilling\n",
      "['Yes' 'No']\n",
      "PaymentMethod\n",
      "['Electronic_check' 'Mailed_check' 'Bank_transfer_(automatic)'\n",
      " 'Credit_card_(automatic)']\n",
      "MonthlyCharges\n",
      "[29.85 56.95 53.85 ... 63.1  44.2  78.7 ]\n",
      "TotalCharges\n",
      "[  29.85 1889.5   108.15 ...  346.45  306.6  6844.5 ]\n",
      "Churn\n",
      "['No' 'Yes']\n"
     ]
    }
   ],
   "source": [
    "for item in df.columns:\n",
    "    print(item)\n",
    "    print(df[item].unique())\n",
    "    #yes, no categorical values converting to binary.\n",
    "    #so we need to convert it to lower case too"
   ]
  },
  {
   "cell_type": "code",
   "execution_count": 33,
   "id": "nasty-edmonton",
   "metadata": {},
   "outputs": [
    {
     "name": "stdout",
     "output_type": "stream",
     "text": [
      "SeniorCitizen couldn't convert\n",
      "tenure couldn't convert\n",
      "MonthlyCharges couldn't convert\n",
      "TotalCharges couldn't convert\n"
     ]
    },
    {
     "data": {
      "text/html": [
       "<div>\n",
       "<style scoped>\n",
       "    .dataframe tbody tr th:only-of-type {\n",
       "        vertical-align: middle;\n",
       "    }\n",
       "\n",
       "    .dataframe tbody tr th {\n",
       "        vertical-align: top;\n",
       "    }\n",
       "\n",
       "    .dataframe thead th {\n",
       "        text-align: right;\n",
       "    }\n",
       "</style>\n",
       "<table border=\"1\" class=\"dataframe\">\n",
       "  <thead>\n",
       "    <tr style=\"text-align: right;\">\n",
       "      <th></th>\n",
       "      <th>gender</th>\n",
       "      <th>SeniorCitizen</th>\n",
       "      <th>Partner</th>\n",
       "      <th>Dependents</th>\n",
       "      <th>tenure</th>\n",
       "      <th>PhoneService</th>\n",
       "      <th>MultipleLines</th>\n",
       "      <th>InternetService</th>\n",
       "      <th>OnlineSecurity</th>\n",
       "      <th>OnlineBackup</th>\n",
       "      <th>DeviceProtection</th>\n",
       "      <th>TechSupport</th>\n",
       "      <th>StreamingTV</th>\n",
       "      <th>StreamingMovies</th>\n",
       "      <th>Contract</th>\n",
       "      <th>PaperlessBilling</th>\n",
       "      <th>PaymentMethod</th>\n",
       "      <th>MonthlyCharges</th>\n",
       "      <th>TotalCharges</th>\n",
       "      <th>Churn</th>\n",
       "    </tr>\n",
       "  </thead>\n",
       "  <tbody>\n",
       "    <tr>\n",
       "      <th>0</th>\n",
       "      <td>female</td>\n",
       "      <td>0</td>\n",
       "      <td>yes</td>\n",
       "      <td>no</td>\n",
       "      <td>1</td>\n",
       "      <td>no</td>\n",
       "      <td>no_phone_service</td>\n",
       "      <td>dsl</td>\n",
       "      <td>no</td>\n",
       "      <td>yes</td>\n",
       "      <td>no</td>\n",
       "      <td>no</td>\n",
       "      <td>no</td>\n",
       "      <td>no</td>\n",
       "      <td>month-to-month</td>\n",
       "      <td>yes</td>\n",
       "      <td>electronic_check</td>\n",
       "      <td>29.85</td>\n",
       "      <td>29.85</td>\n",
       "      <td>no</td>\n",
       "    </tr>\n",
       "    <tr>\n",
       "      <th>1</th>\n",
       "      <td>male</td>\n",
       "      <td>0</td>\n",
       "      <td>no</td>\n",
       "      <td>no</td>\n",
       "      <td>34</td>\n",
       "      <td>yes</td>\n",
       "      <td>no</td>\n",
       "      <td>dsl</td>\n",
       "      <td>yes</td>\n",
       "      <td>no</td>\n",
       "      <td>yes</td>\n",
       "      <td>no</td>\n",
       "      <td>no</td>\n",
       "      <td>no</td>\n",
       "      <td>one_year</td>\n",
       "      <td>no</td>\n",
       "      <td>mailed_check</td>\n",
       "      <td>56.95</td>\n",
       "      <td>1889.50</td>\n",
       "      <td>no</td>\n",
       "    </tr>\n",
       "    <tr>\n",
       "      <th>2</th>\n",
       "      <td>male</td>\n",
       "      <td>0</td>\n",
       "      <td>no</td>\n",
       "      <td>no</td>\n",
       "      <td>2</td>\n",
       "      <td>yes</td>\n",
       "      <td>no</td>\n",
       "      <td>dsl</td>\n",
       "      <td>yes</td>\n",
       "      <td>yes</td>\n",
       "      <td>no</td>\n",
       "      <td>no</td>\n",
       "      <td>no</td>\n",
       "      <td>no</td>\n",
       "      <td>month-to-month</td>\n",
       "      <td>yes</td>\n",
       "      <td>mailed_check</td>\n",
       "      <td>53.85</td>\n",
       "      <td>108.15</td>\n",
       "      <td>yes</td>\n",
       "    </tr>\n",
       "    <tr>\n",
       "      <th>3</th>\n",
       "      <td>male</td>\n",
       "      <td>0</td>\n",
       "      <td>no</td>\n",
       "      <td>no</td>\n",
       "      <td>45</td>\n",
       "      <td>no</td>\n",
       "      <td>no_phone_service</td>\n",
       "      <td>dsl</td>\n",
       "      <td>yes</td>\n",
       "      <td>no</td>\n",
       "      <td>yes</td>\n",
       "      <td>yes</td>\n",
       "      <td>no</td>\n",
       "      <td>no</td>\n",
       "      <td>one_year</td>\n",
       "      <td>no</td>\n",
       "      <td>bank_transfer_(automatic)</td>\n",
       "      <td>42.30</td>\n",
       "      <td>1840.75</td>\n",
       "      <td>no</td>\n",
       "    </tr>\n",
       "    <tr>\n",
       "      <th>4</th>\n",
       "      <td>female</td>\n",
       "      <td>0</td>\n",
       "      <td>no</td>\n",
       "      <td>no</td>\n",
       "      <td>2</td>\n",
       "      <td>yes</td>\n",
       "      <td>no</td>\n",
       "      <td>fiber_optic</td>\n",
       "      <td>no</td>\n",
       "      <td>no</td>\n",
       "      <td>no</td>\n",
       "      <td>no</td>\n",
       "      <td>no</td>\n",
       "      <td>no</td>\n",
       "      <td>month-to-month</td>\n",
       "      <td>yes</td>\n",
       "      <td>electronic_check</td>\n",
       "      <td>70.70</td>\n",
       "      <td>151.65</td>\n",
       "      <td>yes</td>\n",
       "    </tr>\n",
       "  </tbody>\n",
       "</table>\n",
       "</div>"
      ],
      "text/plain": [
       "   gender  SeniorCitizen Partner Dependents  tenure PhoneService  \\\n",
       "0  female              0     yes         no       1           no   \n",
       "1    male              0      no         no      34          yes   \n",
       "2    male              0      no         no       2          yes   \n",
       "3    male              0      no         no      45           no   \n",
       "4  female              0      no         no       2          yes   \n",
       "\n",
       "      MultipleLines InternetService OnlineSecurity OnlineBackup  \\\n",
       "0  no_phone_service             dsl             no          yes   \n",
       "1                no             dsl            yes           no   \n",
       "2                no             dsl            yes          yes   \n",
       "3  no_phone_service             dsl            yes           no   \n",
       "4                no     fiber_optic             no           no   \n",
       "\n",
       "  DeviceProtection TechSupport StreamingTV StreamingMovies        Contract  \\\n",
       "0               no          no          no              no  month-to-month   \n",
       "1              yes          no          no              no        one_year   \n",
       "2               no          no          no              no  month-to-month   \n",
       "3              yes         yes          no              no        one_year   \n",
       "4               no          no          no              no  month-to-month   \n",
       "\n",
       "  PaperlessBilling              PaymentMethod  MonthlyCharges  TotalCharges  \\\n",
       "0              yes           electronic_check           29.85         29.85   \n",
       "1               no               mailed_check           56.95       1889.50   \n",
       "2              yes               mailed_check           53.85        108.15   \n",
       "3               no  bank_transfer_(automatic)           42.30       1840.75   \n",
       "4              yes           electronic_check           70.70        151.65   \n",
       "\n",
       "  Churn  \n",
       "0    no  \n",
       "1    no  \n",
       "2   yes  \n",
       "3    no  \n",
       "4   yes  "
      ]
     },
     "execution_count": 33,
     "metadata": {},
     "output_type": "execute_result"
    }
   ],
   "source": [
    "#Convert to lower case\n",
    "\n",
    "for item in df.columns:\n",
    "    try:\n",
    "        df[item]=df[item].str.lower()\n",
    "    except:\n",
    "        print(item,\"couldn't convert\")\n",
    "df.head()"
   ]
  },
  {
   "cell_type": "code",
   "execution_count": 34,
   "id": "global-chile",
   "metadata": {},
   "outputs": [
    {
     "data": {
      "text/html": [
       "<div>\n",
       "<style scoped>\n",
       "    .dataframe tbody tr th:only-of-type {\n",
       "        vertical-align: middle;\n",
       "    }\n",
       "\n",
       "    .dataframe tbody tr th {\n",
       "        vertical-align: top;\n",
       "    }\n",
       "\n",
       "    .dataframe thead th {\n",
       "        text-align: right;\n",
       "    }\n",
       "</style>\n",
       "<table border=\"1\" class=\"dataframe\">\n",
       "  <thead>\n",
       "    <tr style=\"text-align: right;\">\n",
       "      <th></th>\n",
       "      <th>gender</th>\n",
       "      <th>SeniorCitizen</th>\n",
       "      <th>Partner</th>\n",
       "      <th>Dependents</th>\n",
       "      <th>tenure</th>\n",
       "      <th>PhoneService</th>\n",
       "      <th>MultipleLines</th>\n",
       "      <th>InternetService</th>\n",
       "      <th>OnlineSecurity</th>\n",
       "      <th>OnlineBackup</th>\n",
       "      <th>DeviceProtection</th>\n",
       "      <th>TechSupport</th>\n",
       "      <th>StreamingTV</th>\n",
       "      <th>StreamingMovies</th>\n",
       "      <th>Contract</th>\n",
       "      <th>PaperlessBilling</th>\n",
       "      <th>PaymentMethod</th>\n",
       "      <th>MonthlyCharges</th>\n",
       "      <th>TotalCharges</th>\n",
       "      <th>Churn</th>\n",
       "    </tr>\n",
       "  </thead>\n",
       "  <tbody>\n",
       "    <tr>\n",
       "      <th>0</th>\n",
       "      <td>female</td>\n",
       "      <td>0</td>\n",
       "      <td>1</td>\n",
       "      <td>0</td>\n",
       "      <td>1</td>\n",
       "      <td>0</td>\n",
       "      <td>no_phone_service</td>\n",
       "      <td>dsl</td>\n",
       "      <td>no</td>\n",
       "      <td>yes</td>\n",
       "      <td>no</td>\n",
       "      <td>no</td>\n",
       "      <td>no</td>\n",
       "      <td>no</td>\n",
       "      <td>month-to-month</td>\n",
       "      <td>1</td>\n",
       "      <td>electronic_check</td>\n",
       "      <td>29.85</td>\n",
       "      <td>29.85</td>\n",
       "      <td>0</td>\n",
       "    </tr>\n",
       "    <tr>\n",
       "      <th>1</th>\n",
       "      <td>male</td>\n",
       "      <td>0</td>\n",
       "      <td>0</td>\n",
       "      <td>0</td>\n",
       "      <td>34</td>\n",
       "      <td>1</td>\n",
       "      <td>no</td>\n",
       "      <td>dsl</td>\n",
       "      <td>yes</td>\n",
       "      <td>no</td>\n",
       "      <td>yes</td>\n",
       "      <td>no</td>\n",
       "      <td>no</td>\n",
       "      <td>no</td>\n",
       "      <td>one_year</td>\n",
       "      <td>0</td>\n",
       "      <td>mailed_check</td>\n",
       "      <td>56.95</td>\n",
       "      <td>1889.50</td>\n",
       "      <td>0</td>\n",
       "    </tr>\n",
       "    <tr>\n",
       "      <th>2</th>\n",
       "      <td>male</td>\n",
       "      <td>0</td>\n",
       "      <td>0</td>\n",
       "      <td>0</td>\n",
       "      <td>2</td>\n",
       "      <td>1</td>\n",
       "      <td>no</td>\n",
       "      <td>dsl</td>\n",
       "      <td>yes</td>\n",
       "      <td>yes</td>\n",
       "      <td>no</td>\n",
       "      <td>no</td>\n",
       "      <td>no</td>\n",
       "      <td>no</td>\n",
       "      <td>month-to-month</td>\n",
       "      <td>1</td>\n",
       "      <td>mailed_check</td>\n",
       "      <td>53.85</td>\n",
       "      <td>108.15</td>\n",
       "      <td>1</td>\n",
       "    </tr>\n",
       "    <tr>\n",
       "      <th>3</th>\n",
       "      <td>male</td>\n",
       "      <td>0</td>\n",
       "      <td>0</td>\n",
       "      <td>0</td>\n",
       "      <td>45</td>\n",
       "      <td>0</td>\n",
       "      <td>no_phone_service</td>\n",
       "      <td>dsl</td>\n",
       "      <td>yes</td>\n",
       "      <td>no</td>\n",
       "      <td>yes</td>\n",
       "      <td>yes</td>\n",
       "      <td>no</td>\n",
       "      <td>no</td>\n",
       "      <td>one_year</td>\n",
       "      <td>0</td>\n",
       "      <td>bank_transfer_(automatic)</td>\n",
       "      <td>42.30</td>\n",
       "      <td>1840.75</td>\n",
       "      <td>0</td>\n",
       "    </tr>\n",
       "    <tr>\n",
       "      <th>4</th>\n",
       "      <td>female</td>\n",
       "      <td>0</td>\n",
       "      <td>0</td>\n",
       "      <td>0</td>\n",
       "      <td>2</td>\n",
       "      <td>1</td>\n",
       "      <td>no</td>\n",
       "      <td>fiber_optic</td>\n",
       "      <td>no</td>\n",
       "      <td>no</td>\n",
       "      <td>no</td>\n",
       "      <td>no</td>\n",
       "      <td>no</td>\n",
       "      <td>no</td>\n",
       "      <td>month-to-month</td>\n",
       "      <td>1</td>\n",
       "      <td>electronic_check</td>\n",
       "      <td>70.70</td>\n",
       "      <td>151.65</td>\n",
       "      <td>1</td>\n",
       "    </tr>\n",
       "  </tbody>\n",
       "</table>\n",
       "</div>"
      ],
      "text/plain": [
       "   gender  SeniorCitizen  Partner  Dependents  tenure  PhoneService  \\\n",
       "0  female              0        1           0       1             0   \n",
       "1    male              0        0           0      34             1   \n",
       "2    male              0        0           0       2             1   \n",
       "3    male              0        0           0      45             0   \n",
       "4  female              0        0           0       2             1   \n",
       "\n",
       "      MultipleLines InternetService OnlineSecurity OnlineBackup  \\\n",
       "0  no_phone_service             dsl             no          yes   \n",
       "1                no             dsl            yes           no   \n",
       "2                no             dsl            yes          yes   \n",
       "3  no_phone_service             dsl            yes           no   \n",
       "4                no     fiber_optic             no           no   \n",
       "\n",
       "  DeviceProtection TechSupport StreamingTV StreamingMovies        Contract  \\\n",
       "0               no          no          no              no  month-to-month   \n",
       "1              yes          no          no              no        one_year   \n",
       "2               no          no          no              no  month-to-month   \n",
       "3              yes         yes          no              no        one_year   \n",
       "4               no          no          no              no  month-to-month   \n",
       "\n",
       "   PaperlessBilling              PaymentMethod  MonthlyCharges  TotalCharges  \\\n",
       "0                 1           electronic_check           29.85         29.85   \n",
       "1                 0               mailed_check           56.95       1889.50   \n",
       "2                 1               mailed_check           53.85        108.15   \n",
       "3                 0  bank_transfer_(automatic)           42.30       1840.75   \n",
       "4                 1           electronic_check           70.70        151.65   \n",
       "\n",
       "   Churn  \n",
       "0      0  \n",
       "1      0  \n",
       "2      1  \n",
       "3      0  \n",
       "4      1  "
      ]
     },
     "execution_count": 34,
     "metadata": {},
     "output_type": "execute_result"
    }
   ],
   "source": [
    "columns_to_convert=['Partner','Dependents','PhoneService','PaperlessBilling','Churn']\n",
    "for item in columns_to_convert:\n",
    "    df[item].replace(to_replace='yes',value=1,inplace=True)\n",
    "    df[item].replace(to_replace='no',value=0,inplace=True)\n",
    "df.head()\n",
    "#converting values yes to 1 and no to 0,mentioned the columns to be converted"
   ]
  },
  {
   "cell_type": "code",
   "execution_count": 35,
   "id": "conscious-placement",
   "metadata": {},
   "outputs": [
    {
     "data": {
      "text/plain": [
       "Text(0.5, 1.0, 'Distribution of monthly charges by churn')"
      ]
     },
     "execution_count": 35,
     "metadata": {},
     "output_type": "execute_result"
    },
    {
     "data": {
      "image/png": "[encoded data removed]",
      "text/plain": [
       "<Figure size 432x288 with 1 Axes>"
      ]
     },
     "metadata": {
      "needs_background": "light"
     },
     "output_type": "display_data"
    }
   ],
   "source": [
    "ax=sns.kdeplot(df.MonthlyCharges[(df['Churn']==0)],\n",
    "              color='Red',shade=True)\n",
    "ax=sns.kdeplot(df.MonthlyCharges[(df['Churn']==1)],\n",
    "              ax=ax,color='Blue',shade=True)\n",
    "ax.legend([\"Not churn\",\"Churn\"],loc='upper right')\n",
    "ax.set_ylabel('Density')\n",
    "ax.set_xlabel('Monthly Charges')\n",
    "ax.set_title('Distribution of monthly charges by churn')\n",
    "\n",
    "#people who didnt churn's monthly charges is betwn ->0 to 40\n",
    "#people who churn's monthly charges is betwn ->60 to 120"
   ]
  },
  {
   "cell_type": "code",
   "execution_count": 36,
   "id": "exact-snapshot",
   "metadata": {},
   "outputs": [
    {
     "data": {
      "text/plain": [
       "Text(0.5, 1.0, 'Distribution of total charges by churn')"
      ]
     },
     "execution_count": 36,
     "metadata": {},
     "output_type": "execute_result"
    },
    {
     "data": {
      "image/png": "[encoded data removed]",
      "text/plain": [
       "<Figure size 432x288 with 1 Axes>"
      ]
     },
     "metadata": {
      "needs_background": "light"
     },
     "output_type": "display_data"
    }
   ],
   "source": [
    "ax=sns.kdeplot(df.TotalCharges[(df[\"Churn\"]==0)],\n",
    "              color=\"Red\",shade=True)\n",
    "ax=sns.kdeplot(df.TotalCharges[(df[\"Churn\"]==1)],\n",
    "              ax=ax,color='Blue',shade=True)\n",
    "ax.legend([\"Not churn\",\"Churn\"],loc='upper right')\n",
    "ax.set_ylabel('Density')\n",
    "ax.set_xlabel('Total Charges')\n",
    "ax.set_title('Distribution of total charges by churn')\n",
    "\n",
    "#"
   ]
  },
  {
   "cell_type": "code",
   "execution_count": 37,
   "id": "trying-employment",
   "metadata": {},
   "outputs": [
    {
     "name": "stdout",
     "output_type": "stream",
     "text": [
      "gender\n",
      "['female' 'male']\n",
      "SeniorCitizen\n",
      "[0 1]\n",
      "Partner\n",
      "[1 0]\n",
      "Dependents\n",
      "[0 1]\n",
      "tenure\n",
      "[ 1 34  2 45  8 22 10 28 62 13 16 58 49 25 69 52 71 21 12 30 47 72 17 27\n",
      "  5 46 11 70 63 43 15 60 18 66  9  3 31 50 64 56  7 42 35 48 29 65 38 68\n",
      " 32 55 37 36 41  6  4 33 67 23 57 61 14 20 53 40 59 24 44 19 54 51 26  0\n",
      " 39]\n",
      "PhoneService\n",
      "[0 1]\n",
      "MultipleLines\n",
      "['no_phone_service' 'no' 'yes']\n",
      "InternetService\n",
      "['dsl' 'fiber_optic' 'no']\n",
      "OnlineSecurity\n",
      "['no' 'yes' 'no_internet_service']\n",
      "OnlineBackup\n",
      "['yes' 'no' 'no_internet_service']\n",
      "DeviceProtection\n",
      "['no' 'yes' 'no_internet_service']\n",
      "TechSupport\n",
      "['no' 'yes' 'no_internet_service']\n",
      "StreamingTV\n",
      "['no' 'yes' 'no_internet_service']\n",
      "StreamingMovies\n",
      "['no' 'yes' 'no_internet_service']\n",
      "Contract\n",
      "['month-to-month' 'one_year' 'two_year']\n",
      "PaperlessBilling\n",
      "[1 0]\n",
      "PaymentMethod\n",
      "['electronic_check' 'mailed_check' 'bank_transfer_(automatic)'\n",
      " 'credit_card_(automatic)']\n",
      "MonthlyCharges\n",
      "[29.85 56.95 53.85 ... 63.1  44.2  78.7 ]\n",
      "TotalCharges\n",
      "[  29.85 1889.5   108.15 ...  346.45  306.6  6844.5 ]\n",
      "Churn\n",
      "[0 1]\n"
     ]
    }
   ],
   "source": [
    "for item in df.columns:\n",
    "    print(item)\n",
    "    print(df[item].unique())"
   ]
  },
  {
   "cell_type": "code",
   "execution_count": 38,
   "id": "parliamentary-punch",
   "metadata": {},
   "outputs": [
    {
     "data": {
      "text/plain": [
       "1869"
      ]
     },
     "execution_count": 38,
     "metadata": {},
     "output_type": "execute_result"
    }
   ],
   "source": [
    "#checking the count of churners and nonchurners\n",
    "\n",
    "churners_number=len(df[df['Churn']==1])\n",
    "churners_number\n"
   ]
  },
  {
   "cell_type": "code",
   "execution_count": 39,
   "id": "urban-electron",
   "metadata": {},
   "outputs": [
    {
     "data": {
      "text/plain": [
       "5174"
      ]
     },
     "execution_count": 39,
     "metadata": {},
     "output_type": "execute_result"
    }
   ],
   "source": [
    "nonchurners_number=len(df[df['Churn']==0])\n",
    "nonchurners_number"
   ]
  },
  {
   "cell_type": "code",
   "execution_count": 40,
   "id": "swiss-calcium",
   "metadata": {},
   "outputs": [
    {
     "data": {
      "text/html": [
       "<div>\n",
       "<style scoped>\n",
       "    .dataframe tbody tr th:only-of-type {\n",
       "        vertical-align: middle;\n",
       "    }\n",
       "\n",
       "    .dataframe tbody tr th {\n",
       "        vertical-align: top;\n",
       "    }\n",
       "\n",
       "    .dataframe thead th {\n",
       "        text-align: right;\n",
       "    }\n",
       "</style>\n",
       "<table border=\"1\" class=\"dataframe\">\n",
       "  <thead>\n",
       "    <tr style=\"text-align: right;\">\n",
       "      <th></th>\n",
       "      <th>SeniorCitizen</th>\n",
       "      <th>Partner</th>\n",
       "      <th>Dependents</th>\n",
       "      <th>tenure</th>\n",
       "      <th>PhoneService</th>\n",
       "      <th>PaperlessBilling</th>\n",
       "      <th>MonthlyCharges</th>\n",
       "      <th>TotalCharges</th>\n",
       "      <th>Churn</th>\n",
       "    </tr>\n",
       "  </thead>\n",
       "  <tbody>\n",
       "    <tr>\n",
       "      <th>SeniorCitizen</th>\n",
       "      <td>1.000000</td>\n",
       "      <td>0.016479</td>\n",
       "      <td>-0.211185</td>\n",
       "      <td>0.016567</td>\n",
       "      <td>0.008576</td>\n",
       "      <td>0.156530</td>\n",
       "      <td>0.220173</td>\n",
       "      <td>0.103006</td>\n",
       "      <td>0.150889</td>\n",
       "    </tr>\n",
       "    <tr>\n",
       "      <th>Partner</th>\n",
       "      <td>0.016479</td>\n",
       "      <td>1.000000</td>\n",
       "      <td>0.452676</td>\n",
       "      <td>0.379697</td>\n",
       "      <td>0.017706</td>\n",
       "      <td>-0.014877</td>\n",
       "      <td>0.096848</td>\n",
       "      <td>0.317504</td>\n",
       "      <td>-0.150448</td>\n",
       "    </tr>\n",
       "    <tr>\n",
       "      <th>Dependents</th>\n",
       "      <td>-0.211185</td>\n",
       "      <td>0.452676</td>\n",
       "      <td>1.000000</td>\n",
       "      <td>0.159712</td>\n",
       "      <td>-0.001762</td>\n",
       "      <td>-0.111377</td>\n",
       "      <td>-0.113890</td>\n",
       "      <td>0.062078</td>\n",
       "      <td>-0.164221</td>\n",
       "    </tr>\n",
       "    <tr>\n",
       "      <th>tenure</th>\n",
       "      <td>0.016567</td>\n",
       "      <td>0.379697</td>\n",
       "      <td>0.159712</td>\n",
       "      <td>1.000000</td>\n",
       "      <td>0.008448</td>\n",
       "      <td>0.006152</td>\n",
       "      <td>0.247900</td>\n",
       "      <td>0.826178</td>\n",
       "      <td>-0.352229</td>\n",
       "    </tr>\n",
       "    <tr>\n",
       "      <th>PhoneService</th>\n",
       "      <td>0.008576</td>\n",
       "      <td>0.017706</td>\n",
       "      <td>-0.001762</td>\n",
       "      <td>0.008448</td>\n",
       "      <td>1.000000</td>\n",
       "      <td>0.016505</td>\n",
       "      <td>0.247398</td>\n",
       "      <td>0.113214</td>\n",
       "      <td>0.011942</td>\n",
       "    </tr>\n",
       "    <tr>\n",
       "      <th>PaperlessBilling</th>\n",
       "      <td>0.156530</td>\n",
       "      <td>-0.014877</td>\n",
       "      <td>-0.111377</td>\n",
       "      <td>0.006152</td>\n",
       "      <td>0.016505</td>\n",
       "      <td>1.000000</td>\n",
       "      <td>0.352150</td>\n",
       "      <td>0.158574</td>\n",
       "      <td>0.191825</td>\n",
       "    </tr>\n",
       "    <tr>\n",
       "      <th>MonthlyCharges</th>\n",
       "      <td>0.220173</td>\n",
       "      <td>0.096848</td>\n",
       "      <td>-0.113890</td>\n",
       "      <td>0.247900</td>\n",
       "      <td>0.247398</td>\n",
       "      <td>0.352150</td>\n",
       "      <td>1.000000</td>\n",
       "      <td>0.651174</td>\n",
       "      <td>0.193356</td>\n",
       "    </tr>\n",
       "    <tr>\n",
       "      <th>TotalCharges</th>\n",
       "      <td>0.103006</td>\n",
       "      <td>0.317504</td>\n",
       "      <td>0.062078</td>\n",
       "      <td>0.826178</td>\n",
       "      <td>0.113214</td>\n",
       "      <td>0.158574</td>\n",
       "      <td>0.651174</td>\n",
       "      <td>1.000000</td>\n",
       "      <td>-0.198324</td>\n",
       "    </tr>\n",
       "    <tr>\n",
       "      <th>Churn</th>\n",
       "      <td>0.150889</td>\n",
       "      <td>-0.150448</td>\n",
       "      <td>-0.164221</td>\n",
       "      <td>-0.352229</td>\n",
       "      <td>0.011942</td>\n",
       "      <td>0.191825</td>\n",
       "      <td>0.193356</td>\n",
       "      <td>-0.198324</td>\n",
       "      <td>1.000000</td>\n",
       "    </tr>\n",
       "  </tbody>\n",
       "</table>\n",
       "</div>"
      ],
      "text/plain": [
       "                  SeniorCitizen   Partner  Dependents    tenure  PhoneService  \\\n",
       "SeniorCitizen          1.000000  0.016479   -0.211185  0.016567      0.008576   \n",
       "Partner                0.016479  1.000000    0.452676  0.379697      0.017706   \n",
       "Dependents            -0.211185  0.452676    1.000000  0.159712     -0.001762   \n",
       "tenure                 0.016567  0.379697    0.159712  1.000000      0.008448   \n",
       "PhoneService           0.008576  0.017706   -0.001762  0.008448      1.000000   \n",
       "PaperlessBilling       0.156530 -0.014877   -0.111377  0.006152      0.016505   \n",
       "MonthlyCharges         0.220173  0.096848   -0.113890  0.247900      0.247398   \n",
       "TotalCharges           0.103006  0.317504    0.062078  0.826178      0.113214   \n",
       "Churn                  0.150889 -0.150448   -0.164221 -0.352229      0.011942   \n",
       "\n",
       "                  PaperlessBilling  MonthlyCharges  TotalCharges     Churn  \n",
       "SeniorCitizen             0.156530        0.220173      0.103006  0.150889  \n",
       "Partner                  -0.014877        0.096848      0.317504 -0.150448  \n",
       "Dependents               -0.111377       -0.113890      0.062078 -0.164221  \n",
       "tenure                    0.006152        0.247900      0.826178 -0.352229  \n",
       "PhoneService              0.016505        0.247398      0.113214  0.011942  \n",
       "PaperlessBilling          1.000000        0.352150      0.158574  0.191825  \n",
       "MonthlyCharges            0.352150        1.000000      0.651174  0.193356  \n",
       "TotalCharges              0.158574        0.651174      1.000000 -0.198324  \n",
       "Churn                     0.191825        0.193356     -0.198324  1.000000  "
      ]
     },
     "execution_count": 40,
     "metadata": {},
     "output_type": "execute_result"
    }
   ],
   "source": [
    "df.corr()"
   ]
  },
  {
   "cell_type": "code",
   "execution_count": 41,
   "id": "potential-dependence",
   "metadata": {},
   "outputs": [
    {
     "data": {
      "image/png": "[encoded data removed]",
      "text/plain": [
       "<Figure size 504x360 with 2 Axes>"
      ]
     },
     "metadata": {
      "needs_background": "light"
     },
     "output_type": "display_data"
    }
   ],
   "source": [
    "plt.figure(figsize=(7,5))\n",
    "c=df.corr()\n",
    "sns.heatmap(c,annot=True)\n",
    "plt.title(\"Correlation Matrix\")\n",
    "plt.show()"
   ]
  },
  {
   "cell_type": "code",
   "execution_count": 42,
   "id": "august-russell",
   "metadata": {},
   "outputs": [
    {
     "data": {
      "text/html": [
       "<div>\n",
       "<style scoped>\n",
       "    .dataframe tbody tr th:only-of-type {\n",
       "        vertical-align: middle;\n",
       "    }\n",
       "\n",
       "    .dataframe tbody tr th {\n",
       "        vertical-align: top;\n",
       "    }\n",
       "\n",
       "    .dataframe thead th {\n",
       "        text-align: right;\n",
       "    }\n",
       "</style>\n",
       "<table border=\"1\" class=\"dataframe\">\n",
       "  <thead>\n",
       "    <tr style=\"text-align: right;\">\n",
       "      <th></th>\n",
       "      <th>SeniorCitizen</th>\n",
       "      <th>Partner</th>\n",
       "      <th>Dependents</th>\n",
       "      <th>tenure</th>\n",
       "      <th>PhoneService</th>\n",
       "      <th>PaperlessBilling</th>\n",
       "      <th>MonthlyCharges</th>\n",
       "      <th>TotalCharges</th>\n",
       "      <th>Churn</th>\n",
       "      <th>gender_female</th>\n",
       "      <th>...</th>\n",
       "      <th>StreamingMovies_no</th>\n",
       "      <th>StreamingMovies_no_internet_service</th>\n",
       "      <th>StreamingMovies_yes</th>\n",
       "      <th>Contract_month-to-month</th>\n",
       "      <th>Contract_one_year</th>\n",
       "      <th>Contract_two_year</th>\n",
       "      <th>PaymentMethod_bank_transfer_(automatic)</th>\n",
       "      <th>PaymentMethod_credit_card_(automatic)</th>\n",
       "      <th>PaymentMethod_electronic_check</th>\n",
       "      <th>PaymentMethod_mailed_check</th>\n",
       "    </tr>\n",
       "  </thead>\n",
       "  <tbody>\n",
       "    <tr>\n",
       "      <th>0</th>\n",
       "      <td>0</td>\n",
       "      <td>1</td>\n",
       "      <td>0</td>\n",
       "      <td>1</td>\n",
       "      <td>0</td>\n",
       "      <td>1</td>\n",
       "      <td>29.85</td>\n",
       "      <td>29.85</td>\n",
       "      <td>0</td>\n",
       "      <td>1</td>\n",
       "      <td>...</td>\n",
       "      <td>1</td>\n",
       "      <td>0</td>\n",
       "      <td>0</td>\n",
       "      <td>1</td>\n",
       "      <td>0</td>\n",
       "      <td>0</td>\n",
       "      <td>0</td>\n",
       "      <td>0</td>\n",
       "      <td>1</td>\n",
       "      <td>0</td>\n",
       "    </tr>\n",
       "    <tr>\n",
       "      <th>1</th>\n",
       "      <td>0</td>\n",
       "      <td>0</td>\n",
       "      <td>0</td>\n",
       "      <td>34</td>\n",
       "      <td>1</td>\n",
       "      <td>0</td>\n",
       "      <td>56.95</td>\n",
       "      <td>1889.50</td>\n",
       "      <td>0</td>\n",
       "      <td>0</td>\n",
       "      <td>...</td>\n",
       "      <td>1</td>\n",
       "      <td>0</td>\n",
       "      <td>0</td>\n",
       "      <td>0</td>\n",
       "      <td>1</td>\n",
       "      <td>0</td>\n",
       "      <td>0</td>\n",
       "      <td>0</td>\n",
       "      <td>0</td>\n",
       "      <td>1</td>\n",
       "    </tr>\n",
       "    <tr>\n",
       "      <th>2</th>\n",
       "      <td>0</td>\n",
       "      <td>0</td>\n",
       "      <td>0</td>\n",
       "      <td>2</td>\n",
       "      <td>1</td>\n",
       "      <td>1</td>\n",
       "      <td>53.85</td>\n",
       "      <td>108.15</td>\n",
       "      <td>1</td>\n",
       "      <td>0</td>\n",
       "      <td>...</td>\n",
       "      <td>1</td>\n",
       "      <td>0</td>\n",
       "      <td>0</td>\n",
       "      <td>1</td>\n",
       "      <td>0</td>\n",
       "      <td>0</td>\n",
       "      <td>0</td>\n",
       "      <td>0</td>\n",
       "      <td>0</td>\n",
       "      <td>1</td>\n",
       "    </tr>\n",
       "    <tr>\n",
       "      <th>3</th>\n",
       "      <td>0</td>\n",
       "      <td>0</td>\n",
       "      <td>0</td>\n",
       "      <td>45</td>\n",
       "      <td>0</td>\n",
       "      <td>0</td>\n",
       "      <td>42.30</td>\n",
       "      <td>1840.75</td>\n",
       "      <td>0</td>\n",
       "      <td>0</td>\n",
       "      <td>...</td>\n",
       "      <td>1</td>\n",
       "      <td>0</td>\n",
       "      <td>0</td>\n",
       "      <td>0</td>\n",
       "      <td>1</td>\n",
       "      <td>0</td>\n",
       "      <td>1</td>\n",
       "      <td>0</td>\n",
       "      <td>0</td>\n",
       "      <td>0</td>\n",
       "    </tr>\n",
       "    <tr>\n",
       "      <th>4</th>\n",
       "      <td>0</td>\n",
       "      <td>0</td>\n",
       "      <td>0</td>\n",
       "      <td>2</td>\n",
       "      <td>1</td>\n",
       "      <td>1</td>\n",
       "      <td>70.70</td>\n",
       "      <td>151.65</td>\n",
       "      <td>1</td>\n",
       "      <td>1</td>\n",
       "      <td>...</td>\n",
       "      <td>1</td>\n",
       "      <td>0</td>\n",
       "      <td>0</td>\n",
       "      <td>1</td>\n",
       "      <td>0</td>\n",
       "      <td>0</td>\n",
       "      <td>0</td>\n",
       "      <td>0</td>\n",
       "      <td>1</td>\n",
       "      <td>0</td>\n",
       "    </tr>\n",
       "  </tbody>\n",
       "</table>\n",
       "<p>5 rows × 42 columns</p>\n",
       "</div>"
      ],
      "text/plain": [
       "   SeniorCitizen  Partner  Dependents  tenure  PhoneService  PaperlessBilling  \\\n",
       "0              0        1           0       1             0                 1   \n",
       "1              0        0           0      34             1                 0   \n",
       "2              0        0           0       2             1                 1   \n",
       "3              0        0           0      45             0                 0   \n",
       "4              0        0           0       2             1                 1   \n",
       "\n",
       "   MonthlyCharges  TotalCharges  Churn  gender_female  ...  \\\n",
       "0           29.85         29.85      0              1  ...   \n",
       "1           56.95       1889.50      0              0  ...   \n",
       "2           53.85        108.15      1              0  ...   \n",
       "3           42.30       1840.75      0              0  ...   \n",
       "4           70.70        151.65      1              1  ...   \n",
       "\n",
       "   StreamingMovies_no  StreamingMovies_no_internet_service  \\\n",
       "0                   1                                    0   \n",
       "1                   1                                    0   \n",
       "2                   1                                    0   \n",
       "3                   1                                    0   \n",
       "4                   1                                    0   \n",
       "\n",
       "   StreamingMovies_yes  Contract_month-to-month  Contract_one_year  \\\n",
       "0                    0                        1                  0   \n",
       "1                    0                        0                  1   \n",
       "2                    0                        1                  0   \n",
       "3                    0                        0                  1   \n",
       "4                    0                        1                  0   \n",
       "\n",
       "   Contract_two_year  PaymentMethod_bank_transfer_(automatic)  \\\n",
       "0                  0                                        0   \n",
       "1                  0                                        0   \n",
       "2                  0                                        0   \n",
       "3                  0                                        1   \n",
       "4                  0                                        0   \n",
       "\n",
       "   PaymentMethod_credit_card_(automatic)  PaymentMethod_electronic_check  \\\n",
       "0                                      0                               1   \n",
       "1                                      0                               0   \n",
       "2                                      0                               0   \n",
       "3                                      0                               0   \n",
       "4                                      0                               1   \n",
       "\n",
       "   PaymentMethod_mailed_check  \n",
       "0                           0  \n",
       "1                           1  \n",
       "2                           1  \n",
       "3                           0  \n",
       "4                           0  \n",
       "\n",
       "[5 rows x 42 columns]"
      ]
     },
     "execution_count": 42,
     "metadata": {},
     "output_type": "execute_result"
    }
   ],
   "source": [
    "ml_dummies=pd.get_dummies(df)\n",
    "ml_dummies.fillna(value=0,inplace=True)\n",
    "ml_dummies.head()\n"
   ]
  },
  {
   "cell_type": "code",
   "execution_count": 43,
   "id": "revolutionary-documentary",
   "metadata": {},
   "outputs": [
    {
     "data": {
      "text/plain": [
       "<AxesSubplot:>"
      ]
     },
     "execution_count": 43,
     "metadata": {},
     "output_type": "execute_result"
    },
    {
     "data": {
      "image/png": "[encoded data removed]",
      "text/plain": [
       "<Figure size 1080x576 with 1 Axes>"
      ]
     },
     "metadata": {
      "needs_background": "light"
     },
     "output_type": "display_data"
    }
   ],
   "source": [
    "plt.figure(figsize=(15,8))\n",
    "ml_dummies.corr()[\"Churn\"].sort_values(ascending=False).plot(kind='bar')\n",
    "\n",
    "#it's like number line\n",
    "#positive correlated values are marked above 0, -ve correlated are below 0"
   ]
  },
  {
   "cell_type": "code",
   "execution_count": 44,
   "id": "advanced-video",
   "metadata": {},
   "outputs": [
    {
     "data": {
      "text/html": [
       "<div>\n",
       "<style scoped>\n",
       "    .dataframe tbody tr th:only-of-type {\n",
       "        vertical-align: middle;\n",
       "    }\n",
       "\n",
       "    .dataframe tbody tr th {\n",
       "        vertical-align: top;\n",
       "    }\n",
       "\n",
       "    .dataframe thead th {\n",
       "        text-align: right;\n",
       "    }\n",
       "</style>\n",
       "<table border=\"1\" class=\"dataframe\">\n",
       "  <thead>\n",
       "    <tr style=\"text-align: right;\">\n",
       "      <th></th>\n",
       "      <th>SeniorCitizen</th>\n",
       "      <th>Partner</th>\n",
       "      <th>Dependents</th>\n",
       "      <th>tenure</th>\n",
       "      <th>PhoneService</th>\n",
       "      <th>PaperlessBilling</th>\n",
       "      <th>MonthlyCharges</th>\n",
       "      <th>TotalCharges</th>\n",
       "      <th>gender_female</th>\n",
       "      <th>gender_male</th>\n",
       "      <th>...</th>\n",
       "      <th>StreamingMovies_no</th>\n",
       "      <th>StreamingMovies_no_internet_service</th>\n",
       "      <th>StreamingMovies_yes</th>\n",
       "      <th>Contract_month-to-month</th>\n",
       "      <th>Contract_one_year</th>\n",
       "      <th>Contract_two_year</th>\n",
       "      <th>PaymentMethod_bank_transfer_(automatic)</th>\n",
       "      <th>PaymentMethod_credit_card_(automatic)</th>\n",
       "      <th>PaymentMethod_electronic_check</th>\n",
       "      <th>PaymentMethod_mailed_check</th>\n",
       "    </tr>\n",
       "  </thead>\n",
       "  <tbody>\n",
       "    <tr>\n",
       "      <th>0</th>\n",
       "      <td>0</td>\n",
       "      <td>1</td>\n",
       "      <td>0</td>\n",
       "      <td>1</td>\n",
       "      <td>0</td>\n",
       "      <td>1</td>\n",
       "      <td>29.85</td>\n",
       "      <td>29.85</td>\n",
       "      <td>1</td>\n",
       "      <td>0</td>\n",
       "      <td>...</td>\n",
       "      <td>1</td>\n",
       "      <td>0</td>\n",
       "      <td>0</td>\n",
       "      <td>1</td>\n",
       "      <td>0</td>\n",
       "      <td>0</td>\n",
       "      <td>0</td>\n",
       "      <td>0</td>\n",
       "      <td>1</td>\n",
       "      <td>0</td>\n",
       "    </tr>\n",
       "    <tr>\n",
       "      <th>1</th>\n",
       "      <td>0</td>\n",
       "      <td>0</td>\n",
       "      <td>0</td>\n",
       "      <td>34</td>\n",
       "      <td>1</td>\n",
       "      <td>0</td>\n",
       "      <td>56.95</td>\n",
       "      <td>1889.50</td>\n",
       "      <td>0</td>\n",
       "      <td>1</td>\n",
       "      <td>...</td>\n",
       "      <td>1</td>\n",
       "      <td>0</td>\n",
       "      <td>0</td>\n",
       "      <td>0</td>\n",
       "      <td>1</td>\n",
       "      <td>0</td>\n",
       "      <td>0</td>\n",
       "      <td>0</td>\n",
       "      <td>0</td>\n",
       "      <td>1</td>\n",
       "    </tr>\n",
       "    <tr>\n",
       "      <th>2</th>\n",
       "      <td>0</td>\n",
       "      <td>0</td>\n",
       "      <td>0</td>\n",
       "      <td>2</td>\n",
       "      <td>1</td>\n",
       "      <td>1</td>\n",
       "      <td>53.85</td>\n",
       "      <td>108.15</td>\n",
       "      <td>0</td>\n",
       "      <td>1</td>\n",
       "      <td>...</td>\n",
       "      <td>1</td>\n",
       "      <td>0</td>\n",
       "      <td>0</td>\n",
       "      <td>1</td>\n",
       "      <td>0</td>\n",
       "      <td>0</td>\n",
       "      <td>0</td>\n",
       "      <td>0</td>\n",
       "      <td>0</td>\n",
       "      <td>1</td>\n",
       "    </tr>\n",
       "    <tr>\n",
       "      <th>3</th>\n",
       "      <td>0</td>\n",
       "      <td>0</td>\n",
       "      <td>0</td>\n",
       "      <td>45</td>\n",
       "      <td>0</td>\n",
       "      <td>0</td>\n",
       "      <td>42.30</td>\n",
       "      <td>1840.75</td>\n",
       "      <td>0</td>\n",
       "      <td>1</td>\n",
       "      <td>...</td>\n",
       "      <td>1</td>\n",
       "      <td>0</td>\n",
       "      <td>0</td>\n",
       "      <td>0</td>\n",
       "      <td>1</td>\n",
       "      <td>0</td>\n",
       "      <td>1</td>\n",
       "      <td>0</td>\n",
       "      <td>0</td>\n",
       "      <td>0</td>\n",
       "    </tr>\n",
       "    <tr>\n",
       "      <th>4</th>\n",
       "      <td>0</td>\n",
       "      <td>0</td>\n",
       "      <td>0</td>\n",
       "      <td>2</td>\n",
       "      <td>1</td>\n",
       "      <td>1</td>\n",
       "      <td>70.70</td>\n",
       "      <td>151.65</td>\n",
       "      <td>1</td>\n",
       "      <td>0</td>\n",
       "      <td>...</td>\n",
       "      <td>1</td>\n",
       "      <td>0</td>\n",
       "      <td>0</td>\n",
       "      <td>1</td>\n",
       "      <td>0</td>\n",
       "      <td>0</td>\n",
       "      <td>0</td>\n",
       "      <td>0</td>\n",
       "      <td>1</td>\n",
       "      <td>0</td>\n",
       "    </tr>\n",
       "  </tbody>\n",
       "</table>\n",
       "<p>5 rows × 41 columns</p>\n",
       "</div>"
      ],
      "text/plain": [
       "   SeniorCitizen  Partner  Dependents  tenure  PhoneService  PaperlessBilling  \\\n",
       "0              0        1           0       1             0                 1   \n",
       "1              0        0           0      34             1                 0   \n",
       "2              0        0           0       2             1                 1   \n",
       "3              0        0           0      45             0                 0   \n",
       "4              0        0           0       2             1                 1   \n",
       "\n",
       "   MonthlyCharges  TotalCharges  gender_female  gender_male  ...  \\\n",
       "0           29.85         29.85              1            0  ...   \n",
       "1           56.95       1889.50              0            1  ...   \n",
       "2           53.85        108.15              0            1  ...   \n",
       "3           42.30       1840.75              0            1  ...   \n",
       "4           70.70        151.65              1            0  ...   \n",
       "\n",
       "   StreamingMovies_no  StreamingMovies_no_internet_service  \\\n",
       "0                   1                                    0   \n",
       "1                   1                                    0   \n",
       "2                   1                                    0   \n",
       "3                   1                                    0   \n",
       "4                   1                                    0   \n",
       "\n",
       "   StreamingMovies_yes  Contract_month-to-month  Contract_one_year  \\\n",
       "0                    0                        1                  0   \n",
       "1                    0                        0                  1   \n",
       "2                    0                        1                  0   \n",
       "3                    0                        0                  1   \n",
       "4                    0                        1                  0   \n",
       "\n",
       "   Contract_two_year  PaymentMethod_bank_transfer_(automatic)  \\\n",
       "0                  0                                        0   \n",
       "1                  0                                        0   \n",
       "2                  0                                        0   \n",
       "3                  0                                        1   \n",
       "4                  0                                        0   \n",
       "\n",
       "   PaymentMethod_credit_card_(automatic)  PaymentMethod_electronic_check  \\\n",
       "0                                      0                               1   \n",
       "1                                      0                               0   \n",
       "2                                      0                               0   \n",
       "3                                      0                               0   \n",
       "4                                      0                               1   \n",
       "\n",
       "   PaymentMethod_mailed_check  \n",
       "0                           0  \n",
       "1                           1  \n",
       "2                           1  \n",
       "3                           0  \n",
       "4                           0  \n",
       "\n",
       "[5 rows x 41 columns]"
      ]
     },
     "execution_count": 44,
     "metadata": {},
     "output_type": "execute_result"
    }
   ],
   "source": [
    "x=ml_dummies.drop('Churn',axis=1).copy()\n",
    "x.head()"
   ]
  },
  {
   "cell_type": "code",
   "execution_count": 45,
   "id": "duplicate-identity",
   "metadata": {},
   "outputs": [
    {
     "data": {
      "text/plain": [
       "0    0\n",
       "1    0\n",
       "2    1\n",
       "3    0\n",
       "4    1\n",
       "Name: Churn, dtype: int64"
      ]
     },
     "execution_count": 45,
     "metadata": {},
     "output_type": "execute_result"
    }
   ],
   "source": [
    "y=ml_dummies['Churn'].copy()\n",
    "y.head()"
   ]
  },
  {
   "cell_type": "code",
   "execution_count": 46,
   "id": "peaceful-mattress",
   "metadata": {},
   "outputs": [
    {
     "data": {
      "text/plain": [
       "0    5174\n",
       "1    1869\n",
       "Name: Churn, dtype: int64"
      ]
     },
     "execution_count": 46,
     "metadata": {},
     "output_type": "execute_result"
    }
   ],
   "source": [
    "y.value_counts()"
   ]
  },
  {
   "cell_type": "code",
   "execution_count": 47,
   "id": "square-tracy",
   "metadata": {},
   "outputs": [
    {
     "data": {
      "text/plain": [
       "(7043, 20)"
      ]
     },
     "execution_count": 47,
     "metadata": {},
     "output_type": "execute_result"
    }
   ],
   "source": [
    "df.shape"
   ]
  },
  {
   "cell_type": "code",
   "execution_count": 48,
   "id": "unavailable-douglas",
   "metadata": {},
   "outputs": [
    {
     "data": {
      "text/plain": [
       "0.2653698707936959"
      ]
     },
     "execution_count": 48,
     "metadata": {},
     "output_type": "execute_result"
    }
   ],
   "source": [
    "sum(y)/len(y)\n",
    "\n",
    "#y values added, ie, only 1's are added(count of people who churned)"
   ]
  },
  {
   "cell_type": "code",
   "execution_count": 49,
   "id": "insured-dominant",
   "metadata": {},
   "outputs": [],
   "source": [
    "#73%"
   ]
  },
  {
   "cell_type": "markdown",
   "id": "artistic-sodium",
   "metadata": {},
   "source": [
    "# stratify-> it will handle the imbalancing"
   ]
  },
  {
   "cell_type": "code",
   "execution_count": 50,
   "id": "changing-debate",
   "metadata": {},
   "outputs": [],
   "source": [
    "xtrain,xtest,ytrain,ytest=train_test_split(x,y,random_state=42,stratify=y)\n",
    "\n"
   ]
  },
  {
   "cell_type": "code",
   "execution_count": 51,
   "id": "inner-twins",
   "metadata": {},
   "outputs": [
    {
     "data": {
      "text/plain": [
       "0.2654297614539947"
      ]
     },
     "execution_count": 51,
     "metadata": {},
     "output_type": "execute_result"
    }
   ],
   "source": [
    "sum(ytrain)/len(ytrain)"
   ]
  },
  {
   "cell_type": "code",
   "execution_count": 52,
   "id": "medieval-decline",
   "metadata": {},
   "outputs": [
    {
     "data": {
      "text/plain": [
       "0.26519023282226006"
      ]
     },
     "execution_count": 52,
     "metadata": {},
     "output_type": "execute_result"
    }
   ],
   "source": [
    "sum(ytest)/len(ytest)"
   ]
  },
  {
   "cell_type": "code",
   "execution_count": 53,
   "id": "structured-fisher",
   "metadata": {
    "scrolled": true
   },
   "outputs": [
    {
     "name": "stdout",
     "output_type": "stream",
     "text": [
      "[0]\tvalidation_0-aucpr:0.63160\n",
      "[1]\tvalidation_0-aucpr:0.64538\n",
      "[2]\tvalidation_0-aucpr:0.64402\n",
      "[3]\tvalidation_0-aucpr:0.64461\n",
      "[4]\tvalidation_0-aucpr:0.64114\n",
      "[5]\tvalidation_0-aucpr:0.64016\n",
      "[6]\tvalidation_0-aucpr:0.64620\n"
     ]
    },
    {
     "name": "stderr",
     "output_type": "stream",
     "text": [
      "/home/anu/yes/lib/python3.8/site-packages/xgboost/sklearn.py:1146: UserWarning: The use of label encoder in XGBClassifier is deprecated and will be removed in a future release. To remove this warning, do the following: 1) Pass option use_label_encoder=False when constructing XGBClassifier object; and 2) Encode your labels (y) as integers starting with 0, i.e. 0, 1, 2, ..., [num_class - 1].\n",
      "  warnings.warn(label_encoder_deprecation_msg, UserWarning)\n"
     ]
    },
    {
     "name": "stdout",
     "output_type": "stream",
     "text": [
      "[7]\tvalidation_0-aucpr:0.64003\n",
      "[8]\tvalidation_0-aucpr:0.63913\n",
      "[9]\tvalidation_0-aucpr:0.64153\n",
      "[10]\tvalidation_0-aucpr:0.64172\n",
      "[11]\tvalidation_0-aucpr:0.63950\n",
      "[12]\tvalidation_0-aucpr:0.63687\n",
      "[13]\tvalidation_0-aucpr:0.63473\n",
      "[14]\tvalidation_0-aucpr:0.63442\n",
      "[15]\tvalidation_0-aucpr:0.63634\n",
      "[16]\tvalidation_0-aucpr:0.63597\n"
     ]
    },
    {
     "data": {
      "text/plain": [
       "XGBClassifier(base_score=0.5, booster='gbtree', colsample_bylevel=1,\n",
       "              colsample_bynode=1, colsample_bytree=1, gamma=0, gpu_id=-1,\n",
       "              importance_type='gain', interaction_constraints='',\n",
       "              learning_rate=0.300000012, max_delta_step=0, max_depth=6,\n",
       "              min_child_weight=1, missing=1, monotone_constraints='()',\n",
       "              n_estimators=100, n_jobs=8, num_parallel_tree=1, random_state=42,\n",
       "              reg_alpha=0, reg_lambda=1, scale_pos_weight=1, seed=42,\n",
       "              subsample=1, tree_method='exact', validate_parameters=1,\n",
       "              verbosity=None)"
      ]
     },
     "execution_count": 53,
     "metadata": {},
     "output_type": "execute_result"
    }
   ],
   "source": [
    "## building a preliminary model\n",
    "clf_xgb=xgb.XGBClassifier(objective='binary:logistic',missing=1,seed=42)\n",
    "clf_xgb.fit(xtrain,ytrain,verbose=True,early_stopping_rounds=10,\\\n",
    "            eval_metric='aucpr',eval_set=[(xtest,ytest)])\n",
    "\n",
    "#iterate till 10  trees,after 10 trees if there is no increase in validation accuracy,then it will stop"
   ]
  },
  {
   "cell_type": "code",
   "execution_count": 54,
   "id": "advanced-prompt",
   "metadata": {},
   "outputs": [
    {
     "data": {
      "text/plain": [
       "<sklearn.metrics._plot.confusion_matrix.ConfusionMatrixDisplay at 0x7f71921f6160>"
      ]
     },
     "execution_count": 54,
     "metadata": {},
     "output_type": "execute_result"
    },
    {
     "data": {
      "image/png": "[encoded data removed]",
      "text/plain": [
       "<Figure size 432x288 with 2 Axes>"
      ]
     },
     "metadata": {
      "needs_background": "light"
     },
     "output_type": "display_data"
    }
   ],
   "source": [
    "from sklearn.metrics import plot_confusion_matrix\n",
    "plot_confusion_matrix(clf_xgb,xtest,ytest,values_format='d',\\\n",
    "                     display_labels=['Did not leave','left'])"
   ]
  },
  {
   "cell_type": "code",
   "execution_count": 55,
   "id": "buried-press",
   "metadata": {},
   "outputs": [
    {
     "data": {
      "text/plain": [
       "0.89258114374034"
      ]
     },
     "execution_count": 55,
     "metadata": {},
     "output_type": "execute_result"
    }
   ],
   "source": [
    "#1155+139\n",
    "1155/1294"
   ]
  },
  {
   "cell_type": "code",
   "execution_count": 56,
   "id": "eight-hepatitis",
   "metadata": {},
   "outputs": [
    {
     "data": {
      "text/plain": [
       "467"
      ]
     },
     "execution_count": 56,
     "metadata": {},
     "output_type": "execute_result"
    }
   ],
   "source": [
    "#misclassification\n",
    "242+225"
   ]
  },
  {
   "cell_type": "code",
   "execution_count": 57,
   "id": "postal-minnesota",
   "metadata": {},
   "outputs": [
    {
     "data": {
      "text/plain": [
       "0.5182012847965739"
      ]
     },
     "execution_count": 57,
     "metadata": {},
     "output_type": "execute_result"
    }
   ],
   "source": [
    "242/467"
   ]
  },
  {
   "cell_type": "code",
   "execution_count": null,
   "id": "vocal-outdoors",
   "metadata": {},
   "outputs": [],
   "source": []
  },
  {
   "cell_type": "code",
   "execution_count": 58,
   "id": "developed-advertiser",
   "metadata": {},
   "outputs": [
    {
     "name": "stdout",
     "output_type": "stream",
     "text": [
      "Fitting 3 folds for each of 54 candidates, totalling 162 fits\n",
      "[0]\tvalidation_0-auc:0.80790\n",
      "[1]\tvalidation_0-auc:0.82546\n",
      "[2]\tvalidation_0-auc:0.82576\n",
      "[3]\tvalidation_0-auc:0.82991\n",
      "[4]\tvalidation_0-auc:0.82646\n",
      "[5]\tvalidation_0-auc:0.82746\n",
      "[6]\tvalidation_0-auc:0.83042\n",
      "[7]\tvalidation_0-auc:0.83377\n",
      "[8]\tvalidation_0-auc:0.83596\n",
      "[9]\tvalidation_0-auc:0.83778\n",
      "[10]\tvalidation_0-auc:0.83776\n",
      "[11]\tvalidation_0-auc:0.83758\n"
     ]
    },
    {
     "name": "stderr",
     "output_type": "stream",
     "text": [
      "/home/anu/yes/lib/python3.8/site-packages/xgboost/sklearn.py:1146: UserWarning: The use of label encoder in XGBClassifier is deprecated and will be removed in a future release. To remove this warning, do the following: 1) Pass option use_label_encoder=False when constructing XGBClassifier object; and 2) Encode your labels (y) as integers starting with 0, i.e. 0, 1, 2, ..., [num_class - 1].\n",
      "  warnings.warn(label_encoder_deprecation_msg, UserWarning)\n"
     ]
    },
    {
     "name": "stdout",
     "output_type": "stream",
     "text": [
      "[12]\tvalidation_0-auc:0.83791\n",
      "[13]\tvalidation_0-auc:0.83875\n",
      "[14]\tvalidation_0-auc:0.83942\n",
      "[15]\tvalidation_0-auc:0.83949\n",
      "[16]\tvalidation_0-auc:0.83934\n",
      "[17]\tvalidation_0-auc:0.83980\n",
      "[18]\tvalidation_0-auc:0.83998\n",
      "[19]\tvalidation_0-auc:0.84017\n",
      "[20]\tvalidation_0-auc:0.83981\n",
      "[21]\tvalidation_0-auc:0.84110\n",
      "[22]\tvalidation_0-auc:0.84128\n",
      "[23]\tvalidation_0-auc:0.84169\n",
      "[24]\tvalidation_0-auc:0.84260\n",
      "[25]\tvalidation_0-auc:0.84270\n",
      "[26]\tvalidation_0-auc:0.84207\n",
      "[27]\tvalidation_0-auc:0.84280\n",
      "[28]\tvalidation_0-auc:0.84323\n",
      "[29]\tvalidation_0-auc:0.84384\n",
      "[30]\tvalidation_0-auc:0.84377\n",
      "[31]\tvalidation_0-auc:0.84379\n",
      "[32]\tvalidation_0-auc:0.84422\n",
      "[33]\tvalidation_0-auc:0.84451\n",
      "[34]\tvalidation_0-auc:0.84478\n",
      "[35]\tvalidation_0-auc:0.84514\n",
      "[36]\tvalidation_0-auc:0.84523\n",
      "[37]\tvalidation_0-auc:0.84574\n",
      "[38]\tvalidation_0-auc:0.84604\n",
      "[39]\tvalidation_0-auc:0.84637\n",
      "[40]\tvalidation_0-auc:0.84681\n",
      "[41]\tvalidation_0-auc:0.84668\n",
      "[42]\tvalidation_0-auc:0.84710\n",
      "[43]\tvalidation_0-auc:0.84714\n",
      "[44]\tvalidation_0-auc:0.84752\n",
      "[45]\tvalidation_0-auc:0.84786\n",
      "[46]\tvalidation_0-auc:0.84812\n",
      "[47]\tvalidation_0-auc:0.84803\n",
      "[48]\tvalidation_0-auc:0.84791\n",
      "[49]\tvalidation_0-auc:0.84780\n",
      "[50]\tvalidation_0-auc:0.84767\n",
      "[51]\tvalidation_0-auc:0.84774\n",
      "[52]\tvalidation_0-auc:0.84786\n",
      "[53]\tvalidation_0-auc:0.84789\n",
      "[54]\tvalidation_0-auc:0.84798\n",
      "[55]\tvalidation_0-auc:0.84800\n",
      "{'gamma': 0.25, 'learning_rate': 0.07, 'max_depth': 4, 'reg_lambda': 20, 'scale_pos_weight': 1}\n"
     ]
    }
   ],
   "source": [
    "#Hyper parameter tuning\n",
    "#part-1\n",
    "\n",
    "#param_grid={\n",
    " #   'max_depth':[3,4,5],#3,4,5 are n.o of branches in each iter\n",
    "  #  'learning_rate':[0.1,0.01,0.05],\n",
    "   # 'gamma':[0,0.25,1.0],\n",
    "    #'reg_lambda':[0,1.0,10.0],\n",
    "    #'scale_pos_weight':[1,3,5]\n",
    "#}\n",
    "\n",
    "\n",
    "#optimal_params=GridSearchCV(\n",
    " #   estimator=xgb.XGBClassifier(objective='binary:logistic',\n",
    "  #                         seed=42,\n",
    "   #                        subsample=0.9,\n",
    "    #                       colsample_bytree=0.5),\n",
    "    #param_grid=param_grid,\n",
    "    #scoring='roc_auc',\n",
    "    #verbose=2,\n",
    "    #n_jobs=10,\n",
    "    #cv=3\n",
    "    \n",
    "#)\n",
    "\n",
    "\n",
    "#there is some imbalancing\n",
    "#\"scale_pos_weight\" a parameter\n",
    "#it help us to maintain the balancing by applying some weights to the overall data\n",
    "#comment above and do below\n",
    "\n",
    "\n",
    "#{'gamma':0,'learning_rate':0.05,\n",
    "#'max_depth':4,'reg_lambda':10.0,'scale_pos_weight':1}\n",
    "\n",
    "#part-2\n",
    "param_grid={\n",
    "    'max_depth':[4],\n",
    "    'learning_rate':[0.05,0.07,0.09],\n",
    "    'gamma':[0,0.1,0.25],\n",
    "    'reg_lambda':[10.0,20,100],\n",
    "    'scale_pos_weight':[1,2]\n",
    "    \n",
    "}\n",
    "#{'gamma':0.25,'learning_rate':0.07,max_depth':4,\n",
    " #'reg_lambda':10.0,'scale_pos_weight':1}\n",
    "    \n",
    "optimal_params=GridSearchCV(\n",
    "    estimator=xgb.XGBClassifier(objective='binary:logistic',\n",
    "                                seed=42,\n",
    "                                subsample=0.9,\n",
    "                                colsample_bytree=0.5),\n",
    "    param_grid=param_grid,\n",
    "    scoring='roc_auc',\n",
    "    verbose=2,\n",
    "    n_jobs=10,\n",
    "    cv=3\n",
    "    \n",
    ")\n",
    "\n",
    "optimal_params.fit(xtrain,ytrain,early_stopping_rounds=10,\\\n",
    "                  eval_metric='auc',eval_set=[(xtest,ytest)],\\\n",
    "                  verbose=1)\n",
    "print(optimal_params.best_params_)\n",
    "#"
   ]
  },
  {
   "cell_type": "code",
   "execution_count": 59,
   "id": "graphic-canal",
   "metadata": {},
   "outputs": [
    {
     "name": "stdout",
     "output_type": "stream",
     "text": [
      "[0]\tvalidation_0-aucpr:0.58983\n",
      "[1]\tvalidation_0-aucpr:0.59732\n",
      "[2]\tvalidation_0-aucpr:0.60857\n",
      "[3]\tvalidation_0-aucpr:0.61278\n",
      "[4]\tvalidation_0-aucpr:0.61511\n",
      "[5]\tvalidation_0-aucpr:0.61570\n",
      "[6]\tvalidation_0-aucpr:0.61820\n",
      "[7]\tvalidation_0-aucpr:0.62272\n",
      "[8]\tvalidation_0-aucpr:0.62420\n",
      "[9]\tvalidation_0-aucpr:0.62330\n",
      "[10]\tvalidation_0-aucpr:0.62165\n",
      "[11]\tvalidation_0-aucpr:0.62143\n",
      "[12]\tvalidation_0-aucpr:0.62108\n",
      "[13]\tvalidation_0-aucpr:0.62691\n",
      "[14]\tvalidation_0-aucpr:0.62886\n",
      "[15]\tvalidation_0-aucpr:0.62779\n",
      "[16]\tvalidation_0-aucpr:0.62801\n",
      "[17]\tvalidation_0-aucpr:0.61972\n",
      "[18]\tvalidation_0-aucpr:0.61974\n",
      "[19]\tvalidation_0-aucpr:0.62014\n",
      "[20]\tvalidation_0-aucpr:0.61974\n",
      "[21]\tvalidation_0-aucpr:0.62532\n",
      "[22]\tvalidation_0-aucpr:0.62566\n",
      "[23]\tvalidation_0-aucpr:0.63176\n",
      "[24]\tvalidation_0-aucpr:0.63301\n",
      "[25]\tvalidation_0-aucpr:0.63777\n",
      "[26]\tvalidation_0-aucpr:0.63698\n",
      "[27]\tvalidation_0-aucpr:0.63855\n",
      "[28]\tvalidation_0-aucpr:0.63850\n",
      "[29]\tvalidation_0-aucpr:0.63586\n",
      "[30]\tvalidation_0-aucpr:0.63979\n",
      "[31]\tvalidation_0-aucpr:0.64260\n",
      "[32]\tvalidation_0-aucpr:0.64238\n",
      "[33]\tvalidation_0-aucpr:0.64237\n",
      "[34]\tvalidation_0-aucpr:0.64272\n",
      "[35]\tvalidation_0-aucpr:0.64425\n",
      "[36]\tvalidation_0-aucpr:0.64491\n",
      "[37]\tvalidation_0-aucpr:0.64496\n",
      "[38]\tvalidation_0-aucpr:0.64502\n",
      "[39]\tvalidation_0-aucpr:0.64562\n",
      "[40]\tvalidation_0-aucpr:0.64673\n",
      "[41]\tvalidation_0-aucpr:0.64913\n",
      "[42]\tvalidation_0-aucpr:0.65080\n",
      "[43]\tvalidation_0-aucpr:0.65243\n",
      "[44]\tvalidation_0-aucpr:0.65255\n",
      "[45]\tvalidation_0-aucpr:0.65308\n",
      "[46]\tvalidation_0-aucpr:0.65331\n",
      "[47]\tvalidation_0-aucpr:0.65344\n",
      "[48]\tvalidation_0-aucpr:0.65296\n",
      "[49]\tvalidation_0-aucpr:0.65096\n",
      "[50]\tvalidation_0-aucpr:0.65195\n",
      "[51]\tvalidation_0-aucpr:0.65121\n",
      "[52]\tvalidation_0-aucpr:0.65162\n",
      "[53]\tvalidation_0-aucpr:0.65167\n",
      "[54]\tvalidation_0-aucpr:0.65197\n",
      "[55]\tvalidation_0-aucpr:0.65265\n",
      "[56]\tvalidation_0-aucpr:0.65256\n"
     ]
    },
    {
     "data": {
      "text/plain": [
       "XGBClassifier(base_score=0.5, booster='gbtree', colsample_bylevel=1,\n",
       "              colsample_bynode=1, colsample_bytree=0.5, gamma=0.25, gpu_id=-1,\n",
       "              importance_type='gain', interaction_constraints='',\n",
       "              learning_rate=0.07, max_delta_step=0, max_depth=4,\n",
       "              min_child_weight=0, missing=nan, monotone_constraints='()',\n",
       "              n_estimators=100, n_jobs=8, num_parallel_tree=1, random_state=42,\n",
       "              reg_alpha=0, reg_lambda=20, scale_pos_weight=3, seed=42,\n",
       "              subsample=0.9, tree_method='exact', validate_parameters=1,\n",
       "              verbosity=None)"
      ]
     },
     "execution_count": 59,
     "metadata": {},
     "output_type": "execute_result"
    }
   ],
   "source": [
    "#final model\n",
    "\n",
    "clf_xgb = xgb.XGBClassifier(seed=42,\n",
    "                            objective='binary:logistic',\n",
    "                            gamma=0.25,\n",
    "                            learning_rate=0.07,\n",
    "                            max_depth=4,\n",
    "                            reg_lambda=20,\n",
    "                            scale_pos_weight=3,\n",
    "                            subsample=0.9,\n",
    "                            colsample_bytree=0.5,\n",
    "                            min_child_weight=0)\n",
    "\n",
    "model=clf_xgb.fit(xtrain,ytrain,verbose=True,early_stopping_rounds=10,\n",
    "                 eval_metric='aucpr',eval_set=[(xtest,ytest)])\n",
    "model\n",
    "\n",
    "#after 10 rounds , we get 63% accuracy"
   ]
  },
  {
   "cell_type": "code",
   "execution_count": 60,
   "id": "respiratory-vatican",
   "metadata": {},
   "outputs": [],
   "source": [
    "#check the output "
   ]
  },
  {
   "cell_type": "code",
   "execution_count": 61,
   "id": "leading-wisconsin",
   "metadata": {},
   "outputs": [
    {
     "data": {
      "text/plain": [
       "<sklearn.metrics._plot.confusion_matrix.ConfusionMatrixDisplay at 0x7f71919ec2e0>"
      ]
     },
     "execution_count": 61,
     "metadata": {},
     "output_type": "execute_result"
    },
    {
     "data": {
      "image/png": "[encoded data removed]",
      "text/plain": [
       "<Figure size 432x288 with 2 Axes>"
      ]
     },
     "metadata": {
      "needs_background": "light"
     },
     "output_type": "display_data"
    }
   ],
   "source": [
    "plot_confusion_matrix(model,xtest,ytest,values_format='d',\n",
    "                     display_labels=['Did not leave','left'])"
   ]
  },
  {
   "cell_type": "code",
   "execution_count": 62,
   "id": "broken-wealth",
   "metadata": {},
   "outputs": [
    {
     "data": {
      "text/plain": [
       "1294"
      ]
     },
     "execution_count": 62,
     "metadata": {},
     "output_type": "execute_result"
    }
   ],
   "source": [
    "923+371"
   ]
  },
  {
   "cell_type": "code",
   "execution_count": 63,
   "id": "established-cycle",
   "metadata": {},
   "outputs": [
    {
     "data": {
      "text/plain": [
       "0.7132921174652241"
      ]
     },
     "execution_count": 63,
     "metadata": {},
     "output_type": "execute_result"
    }
   ],
   "source": [
    "923/1294"
   ]
  },
  {
   "cell_type": "code",
   "execution_count": 64,
   "id": "insured-network",
   "metadata": {},
   "outputs": [
    {
     "data": {
      "text/plain": [
       "0.828693790149893"
      ]
     },
     "execution_count": 64,
     "metadata": {},
     "output_type": "execute_result"
    }
   ],
   "source": [
    "387/467"
   ]
  },
  {
   "cell_type": "markdown",
   "id": "female-deposit",
   "metadata": {},
   "source": [
    "# Build the tree now"
   ]
  },
  {
   "cell_type": "code",
   "execution_count": 65,
   "id": "usual-fisher",
   "metadata": {},
   "outputs": [
    {
     "name": "stdout",
     "output_type": "stream",
     "text": [
      "weight: {'Contract_month-to-month': 22, 'MonthlyCharges': 93, 'OnlineSecurity_no': 28, 'Contract_two_year': 18, 'TotalCharges': 145, 'InternetService_fiber_optic': 30, 'tenure': 77, 'TechSupport_no': 26, 'InternetService_dsl': 16, 'Contract_one_year': 17, 'PhoneService': 4, 'PaymentMethod_electronic_check': 35, 'OnlineSecurity_yes': 13, 'StreamingMovies_yes': 24, 'SeniorCitizen': 21, 'OnlineBackup_no': 23, 'TechSupport_yes': 10, 'StreamingTV_no': 5, 'PaymentMethod_credit_card_(automatic)': 8, 'DeviceProtection_yes': 4, 'PaperlessBilling': 29, 'OnlineSecurity_no_internet_service': 3, 'PaymentMethod_mailed_check': 8, 'StreamingMovies_no': 9, 'TechSupport_no_internet_service': 2, 'StreamingTV_yes': 9, 'MultipleLines_no_phone_service': 7, 'OnlineBackup_yes': 9, 'Partner': 11, 'InternetService_no': 7, 'Dependents': 9, 'DeviceProtection_no': 9, 'MultipleLines_yes': 14, 'gender_male': 2, 'gender_female': 11, 'PaymentMethod_bank_transfer_(automatic)': 10, 'MultipleLines_no': 10, 'DeviceProtection_no_internet_service': 1}\n",
      "gain: {'Contract_month-to-month': 314.3979393772727, 'MonthlyCharges': 14.087384492763437, 'OnlineSecurity_no': 100.59557026796428, 'Contract_two_year': 124.13201947250003, 'TotalCharges': 13.894387560696549, 'InternetService_fiber_optic': 46.21662946766666, 'tenure': 31.56160759683117, 'TechSupport_no': 91.93483005049997, 'InternetService_dsl': 25.844678900625002, 'Contract_one_year': 43.64613040588236, 'PhoneService': 5.0239907525, 'PaymentMethod_electronic_check': 19.761372722428575, 'OnlineSecurity_yes': 23.930443759230773, 'StreamingMovies_yes': 15.430687348833336, 'SeniorCitizen': 6.150022535095238, 'OnlineBackup_no': 8.922858387565217, 'TechSupport_yes': 18.7073189228, 'StreamingTV_no': 4.758109284, 'PaymentMethod_credit_card_(automatic)': 11.378785713375, 'DeviceProtection_yes': 7.357357327499999, 'PaperlessBilling': 13.634391971241381, 'OnlineSecurity_no_internet_service': 9.629531533333333, 'PaymentMethod_mailed_check': 4.986763640125, 'StreamingMovies_no': 6.251826738888889, 'TechSupport_no_internet_service': 21.76818085, 'StreamingTV_yes': 9.74765761111111, 'MultipleLines_no_phone_service': 7.950839998571429, 'OnlineBackup_yes': 4.121250915888889, 'Partner': 2.9619598060000003, 'InternetService_no': 11.81056977, 'Dependents': 7.896854507777779, 'DeviceProtection_no': 3.238855254444444, 'MultipleLines_yes': 6.6880472882142845, 'gender_male': 6.542891505, 'gender_female': 3.898173636363637, 'PaymentMethod_bank_transfer_(automatic)': 5.443808226, 'MultipleLines_no': 9.0971822751, 'DeviceProtection_no_internet_service': 15.6016273}\n",
      "cover: {'Contract_month-to-month': 1501.3073559090908, 'MonthlyCharges': 277.1981819665591, 'OnlineSecurity_no': 634.0116313889284, 'Contract_two_year': 1069.5025282833335, 'TotalCharges': 294.7236807713104, 'InternetService_fiber_optic': 646.13845762, 'tenure': 532.0741248727273, 'TechSupport_no': 527.5338350961539, 'InternetService_dsl': 362.85991721875, 'Contract_one_year': 546.6842123294118, 'PhoneService': 120.3325054525, 'PaymentMethod_electronic_check': 513.0085259580002, 'OnlineSecurity_yes': 322.60818851538465, 'StreamingMovies_yes': 368.0691552416667, 'SeniorCitizen': 290.76845114761903, 'OnlineBackup_no': 247.84822573478255, 'TechSupport_yes': 229.093919836, 'StreamingTV_no': 166.56133122, 'PaymentMethod_credit_card_(automatic)': 254.184297275, 'DeviceProtection_yes': 125.870510325, 'PaperlessBilling': 543.291614564138, 'OnlineSecurity_no_internet_service': 421.39224233333334, 'PaymentMethod_mailed_check': 210.5866431375, 'StreamingMovies_no': 206.760528, 'TechSupport_no_internet_service': 367.5081025, 'StreamingTV_yes': 371.7044897777778, 'MultipleLines_no_phone_service': 162.93541827142857, 'OnlineBackup_yes': 133.73886274555556, 'Partner': 126.64733844727272, 'InternetService_no': 340.58695657142863, 'Dependents': 352.9078796333333, 'DeviceProtection_no': 205.1352208666667, 'MultipleLines_yes': 301.3074739857143, 'gender_male': 312.6841275, 'gender_female': 252.21242727272727, 'PaymentMethod_bank_transfer_(automatic)': 206.21468001000002, 'MultipleLines_no': 458.6985451439999, 'DeviceProtection_no_internet_service': 465.633789}\n",
      "total_gain: {'Contract_month-to-month': 6916.754666299999, 'MonthlyCharges': 1310.1267578269997, 'OnlineSecurity_no': 2816.675967503, 'Contract_two_year': 2234.3763505050006, 'TotalCharges': 2014.6861963009997, 'InternetService_fiber_optic': 1386.4988840299998, 'tenure': 2430.243784956, 'TechSupport_no': 2390.305581312999, 'InternetService_dsl': 413.51486241000003, 'Contract_one_year': 741.9842169000001, 'PhoneService': 20.09596301, 'PaymentMethod_electronic_check': 691.6480452850001, 'OnlineSecurity_yes': 311.09576887000003, 'StreamingMovies_yes': 370.33649637200006, 'SeniorCitizen': 129.150473237, 'OnlineBackup_no': 205.225742914, 'TechSupport_yes': 187.073189228, 'StreamingTV_no': 23.79054642, 'PaymentMethod_credit_card_(automatic)': 91.030285707, 'DeviceProtection_yes': 29.429429309999996, 'PaperlessBilling': 395.39736716600004, 'OnlineSecurity_no_internet_service': 28.888594599999998, 'PaymentMethod_mailed_check': 39.894109121, 'StreamingMovies_no': 56.26644065, 'TechSupport_no_internet_service': 43.5363617, 'StreamingTV_yes': 87.72891849999999, 'MultipleLines_no_phone_service': 55.65587999, 'OnlineBackup_yes': 37.091258243, 'Partner': 32.581557866000004, 'InternetService_no': 82.67398839, 'Dependents': 71.07169057000002, 'DeviceProtection_no': 29.14969729, 'MultipleLines_yes': 93.63266203499998, 'gender_male': 13.08578301, 'gender_female': 42.87991, 'PaymentMethod_bank_transfer_(automatic)': 54.43808226, 'MultipleLines_no': 90.971822751, 'DeviceProtection_no_internet_service': 15.6016273}\n",
      "total_cover: {'Contract_month-to-month': 33028.761829999996, 'MonthlyCharges': 25779.430922889995, 'OnlineSecurity_no': 17752.325678889996, 'Contract_two_year': 19251.045509100004, 'TotalCharges': 42734.93371184001, 'InternetService_fiber_optic': 19384.153728600002, 'tenure': 40969.7076152, 'TechSupport_no': 13715.879712500002, 'InternetService_dsl': 5805.7586755, 'Contract_one_year': 9293.631609600001, 'PhoneService': 481.33002181, 'PaymentMethod_electronic_check': 17955.298408530005, 'OnlineSecurity_yes': 4193.9064507, 'StreamingMovies_yes': 8833.6597258, 'SeniorCitizen': 6106.1374741, 'OnlineBackup_no': 5700.509191899999, 'TechSupport_yes': 2290.93919836, 'StreamingTV_no': 832.8066561, 'PaymentMethod_credit_card_(automatic)': 2033.4743782, 'DeviceProtection_yes': 503.4820413, 'PaperlessBilling': 15755.45682236, 'OnlineSecurity_no_internet_service': 1264.176727, 'PaymentMethod_mailed_check': 1684.6931451, 'StreamingMovies_no': 1860.844752, 'TechSupport_no_internet_service': 735.016205, 'StreamingTV_yes': 3345.340408, 'MultipleLines_no_phone_service': 1140.5479279, 'OnlineBackup_yes': 1203.64976471, 'Partner': 1393.12072292, 'InternetService_no': 2384.1086960000002, 'Dependents': 3176.1709167, 'DeviceProtection_no': 1846.2169878000004, 'MultipleLines_yes': 4218.3046358, 'gender_male': 625.368255, 'gender_female': 2774.3367, 'PaymentMethod_bank_transfer_(automatic)': 2062.1468001000003, 'MultipleLines_no': 4586.985451439999, 'DeviceProtection_no_internet_service': 465.633789}\n"
     ]
    }
   ],
   "source": [
    "bst=clf_xgb.get_booster()\n",
    "for importance_type in ('weight','gain','cover','total_gain','total_cover'):\n",
    "    print('%s:'%importance_type,bst.get_score(importance_type=importance_type))\n",
    "\n",
    "node_params={\n",
    "    'shape':'box',\n",
    "    'style':'filled,rounded',\n",
    "    'fillcolor':'#78cbe'\n",
    "}\n",
    "\n",
    "leaf_params={\n",
    "    'shape':'box',\n",
    "    'style':'filled',\n",
    "    'fillcolor':'#e48038'\n",
    "}\n",
    "\n",
    "\n"
   ]
  },
  {
   "cell_type": "code",
   "execution_count": 78,
   "id": "greatest-dating",
   "metadata": {},
   "outputs": [],
   "source": [
    "#passing condition of node & leaf\n",
    "\n",
    "#xgb.to_graphviz(clf_xgb,num_trees=0,size=\"10,10\",\n",
    " #                        condition_node_params=node_params,\n",
    "  #                       leaf_node_params=leaf_params);\n",
    "\n",
    "\n",
    "#to save it accordingly\n",
    "\n",
    "#graph_data=xgb.to_graphviz(clf_xgb,num_trees=0,size=\"10,10\",\n",
    " #              condition_node_params=node_params,\n",
    "  #             leaf_node_params=leaf_params)\n",
    "#graph_data.view(filename='xgboost_tree_customer_churn')"
   ]
  },
  {
   "cell_type": "code",
   "execution_count": null,
   "id": "relative-longer",
   "metadata": {},
   "outputs": [],
   "source": [
    "# pip install graphviz"
   ]
  },
  {
   "cell_type": "code",
   "execution_count": 93,
   "id": "characteristic-benjamin",
   "metadata": {},
   "outputs": [
    {
     "ename": "ExecutableNotFound",
     "evalue": "failed to execute ['dot', '-Kdot', '-Tpng'], make sure the Graphviz executables are on your systems' PATH",
     "output_type": "error",
     "traceback": [
      "\u001b[0;31m---------------------------------------------------------------------------\u001b[0m",
      "\u001b[0;31mFileNotFoundError\u001b[0m                         Traceback (most recent call last)",
      "\u001b[0;32m~/yes/lib/python3.8/site-packages/graphviz/backend.py\u001b[0m in \u001b[0;36mrun\u001b[0;34m(cmd, input, capture_output, check, encoding, quiet, **kwargs)\u001b[0m\n\u001b[1;32m    163\u001b[0m     \u001b[0;32mtry\u001b[0m\u001b[0;34m:\u001b[0m\u001b[0;34m\u001b[0m\u001b[0;34m\u001b[0m\u001b[0m\n\u001b[0;32m--> 164\u001b[0;31m         \u001b[0mproc\u001b[0m \u001b[0;34m=\u001b[0m \u001b[0msubprocess\u001b[0m\u001b[0;34m.\u001b[0m\u001b[0mPopen\u001b[0m\u001b[0;34m(\u001b[0m\u001b[0mcmd\u001b[0m\u001b[0;34m,\u001b[0m \u001b[0mstartupinfo\u001b[0m\u001b[0;34m=\u001b[0m\u001b[0mget_startupinfo\u001b[0m\u001b[0;34m(\u001b[0m\u001b[0;34m)\u001b[0m\u001b[0;34m,\u001b[0m \u001b[0;34m**\u001b[0m\u001b[0mkwargs\u001b[0m\u001b[0;34m)\u001b[0m\u001b[0;34m\u001b[0m\u001b[0;34m\u001b[0m\u001b[0m\n\u001b[0m\u001b[1;32m    165\u001b[0m     \u001b[0;32mexcept\u001b[0m \u001b[0mOSError\u001b[0m \u001b[0;32mas\u001b[0m \u001b[0me\u001b[0m\u001b[0;34m:\u001b[0m\u001b[0;34m\u001b[0m\u001b[0;34m\u001b[0m\u001b[0m\n",
      "\u001b[0;32m~/yes/lib/python3.8/subprocess.py\u001b[0m in \u001b[0;36m__init__\u001b[0;34m(self, args, bufsize, executable, stdin, stdout, stderr, preexec_fn, close_fds, shell, cwd, env, universal_newlines, startupinfo, creationflags, restore_signals, start_new_session, pass_fds, encoding, errors, text)\u001b[0m\n\u001b[1;32m    857\u001b[0m \u001b[0;34m\u001b[0m\u001b[0m\n\u001b[0;32m--> 858\u001b[0;31m             self._execute_child(args, executable, preexec_fn, close_fds,\n\u001b[0m\u001b[1;32m    859\u001b[0m                                 \u001b[0mpass_fds\u001b[0m\u001b[0;34m,\u001b[0m \u001b[0mcwd\u001b[0m\u001b[0;34m,\u001b[0m \u001b[0menv\u001b[0m\u001b[0;34m,\u001b[0m\u001b[0;34m\u001b[0m\u001b[0;34m\u001b[0m\u001b[0m\n",
      "\u001b[0;32m~/yes/lib/python3.8/subprocess.py\u001b[0m in \u001b[0;36m_execute_child\u001b[0;34m(self, args, executable, preexec_fn, close_fds, pass_fds, cwd, env, startupinfo, creationflags, shell, p2cread, p2cwrite, c2pread, c2pwrite, errread, errwrite, restore_signals, start_new_session)\u001b[0m\n\u001b[1;32m   1705\u001b[0m                         \u001b[0merr_msg\u001b[0m \u001b[0;34m=\u001b[0m \u001b[0mos\u001b[0m\u001b[0;34m.\u001b[0m\u001b[0mstrerror\u001b[0m\u001b[0;34m(\u001b[0m\u001b[0merrno_num\u001b[0m\u001b[0;34m)\u001b[0m\u001b[0;34m\u001b[0m\u001b[0;34m\u001b[0m\u001b[0m\n\u001b[0;32m-> 1706\u001b[0;31m                     \u001b[0;32mraise\u001b[0m \u001b[0mchild_exception_type\u001b[0m\u001b[0;34m(\u001b[0m\u001b[0merrno_num\u001b[0m\u001b[0;34m,\u001b[0m \u001b[0merr_msg\u001b[0m\u001b[0;34m,\u001b[0m \u001b[0merr_filename\u001b[0m\u001b[0;34m)\u001b[0m\u001b[0;34m\u001b[0m\u001b[0;34m\u001b[0m\u001b[0m\n\u001b[0m\u001b[1;32m   1707\u001b[0m                 \u001b[0;32mraise\u001b[0m \u001b[0mchild_exception_type\u001b[0m\u001b[0;34m(\u001b[0m\u001b[0merr_msg\u001b[0m\u001b[0;34m)\u001b[0m\u001b[0;34m\u001b[0m\u001b[0;34m\u001b[0m\u001b[0m\n",
      "\u001b[0;31mFileNotFoundError\u001b[0m: [Errno 2] No such file or directory: 'dot'",
      "\nDuring handling of the above exception, another exception occurred:\n",
      "\u001b[0;31mExecutableNotFound\u001b[0m                        Traceback (most recent call last)",
      "\u001b[0;32m<ipython-input-93-d7c93469fc91>\u001b[0m in \u001b[0;36m<module>\u001b[0;34m\u001b[0m\n\u001b[1;32m      1\u001b[0m \u001b[0mfig\u001b[0m\u001b[0;34m,\u001b[0m \u001b[0max\u001b[0m \u001b[0;34m=\u001b[0m \u001b[0mplt\u001b[0m\u001b[0;34m.\u001b[0m\u001b[0msubplots\u001b[0m\u001b[0;34m(\u001b[0m\u001b[0mfigsize\u001b[0m\u001b[0;34m=\u001b[0m\u001b[0;34m(\u001b[0m\u001b[0;36m30\u001b[0m\u001b[0;34m,\u001b[0m \u001b[0;36m30\u001b[0m\u001b[0;34m)\u001b[0m\u001b[0;34m)\u001b[0m\u001b[0;34m\u001b[0m\u001b[0;34m\u001b[0m\u001b[0m\n\u001b[0;32m----> 2\u001b[0;31m \u001b[0mxgb\u001b[0m\u001b[0;34m.\u001b[0m\u001b[0mplot_tree\u001b[0m\u001b[0;34m(\u001b[0m\u001b[0mclf_xgb\u001b[0m\u001b[0;34m,\u001b[0m \u001b[0mnum_trees\u001b[0m\u001b[0;34m=\u001b[0m\u001b[0;36m4\u001b[0m\u001b[0;34m,\u001b[0m \u001b[0max\u001b[0m\u001b[0;34m=\u001b[0m\u001b[0max\u001b[0m\u001b[0;34m)\u001b[0m\u001b[0;34m\u001b[0m\u001b[0;34m\u001b[0m\u001b[0m\n\u001b[0m\u001b[1;32m      3\u001b[0m \u001b[0mplt\u001b[0m\u001b[0;34m.\u001b[0m\u001b[0mshow\u001b[0m\u001b[0;34m(\u001b[0m\u001b[0;34m)\u001b[0m\u001b[0;34m\u001b[0m\u001b[0;34m\u001b[0m\u001b[0m\n",
      "\u001b[0;32m~/yes/lib/python3.8/site-packages/xgboost/plotting.py\u001b[0m in \u001b[0;36mplot_tree\u001b[0;34m(booster, fmap, num_trees, rankdir, ax, **kwargs)\u001b[0m\n\u001b[1;32m    248\u001b[0m \u001b[0;34m\u001b[0m\u001b[0m\n\u001b[1;32m    249\u001b[0m     \u001b[0ms\u001b[0m \u001b[0;34m=\u001b[0m \u001b[0mBytesIO\u001b[0m\u001b[0;34m(\u001b[0m\u001b[0;34m)\u001b[0m\u001b[0;34m\u001b[0m\u001b[0;34m\u001b[0m\u001b[0m\n\u001b[0;32m--> 250\u001b[0;31m     \u001b[0ms\u001b[0m\u001b[0;34m.\u001b[0m\u001b[0mwrite\u001b[0m\u001b[0;34m(\u001b[0m\u001b[0mg\u001b[0m\u001b[0;34m.\u001b[0m\u001b[0mpipe\u001b[0m\u001b[0;34m(\u001b[0m\u001b[0mformat\u001b[0m\u001b[0;34m=\u001b[0m\u001b[0;34m'png'\u001b[0m\u001b[0;34m)\u001b[0m\u001b[0;34m)\u001b[0m\u001b[0;34m\u001b[0m\u001b[0;34m\u001b[0m\u001b[0m\n\u001b[0m\u001b[1;32m    251\u001b[0m     \u001b[0ms\u001b[0m\u001b[0;34m.\u001b[0m\u001b[0mseek\u001b[0m\u001b[0;34m(\u001b[0m\u001b[0;36m0\u001b[0m\u001b[0;34m)\u001b[0m\u001b[0;34m\u001b[0m\u001b[0;34m\u001b[0m\u001b[0m\n\u001b[1;32m    252\u001b[0m     \u001b[0mimg\u001b[0m \u001b[0;34m=\u001b[0m \u001b[0mimage\u001b[0m\u001b[0;34m.\u001b[0m\u001b[0mimread\u001b[0m\u001b[0;34m(\u001b[0m\u001b[0ms\u001b[0m\u001b[0;34m)\u001b[0m\u001b[0;34m\u001b[0m\u001b[0;34m\u001b[0m\u001b[0m\n",
      "\u001b[0;32m~/yes/lib/python3.8/site-packages/graphviz/files.py\u001b[0m in \u001b[0;36mpipe\u001b[0;34m(self, format, renderer, formatter, quiet)\u001b[0m\n\u001b[1;32m    167\u001b[0m         \u001b[0mdata\u001b[0m \u001b[0;34m=\u001b[0m \u001b[0mtext_type\u001b[0m\u001b[0;34m(\u001b[0m\u001b[0mself\u001b[0m\u001b[0;34m.\u001b[0m\u001b[0msource\u001b[0m\u001b[0;34m)\u001b[0m\u001b[0;34m.\u001b[0m\u001b[0mencode\u001b[0m\u001b[0;34m(\u001b[0m\u001b[0mself\u001b[0m\u001b[0;34m.\u001b[0m\u001b[0m_encoding\u001b[0m\u001b[0;34m)\u001b[0m\u001b[0;34m\u001b[0m\u001b[0;34m\u001b[0m\u001b[0m\n\u001b[1;32m    168\u001b[0m \u001b[0;34m\u001b[0m\u001b[0m\n\u001b[0;32m--> 169\u001b[0;31m         out = backend.pipe(self._engine, format, data,\n\u001b[0m\u001b[1;32m    170\u001b[0m                            \u001b[0mrenderer\u001b[0m\u001b[0;34m=\u001b[0m\u001b[0mrenderer\u001b[0m\u001b[0;34m,\u001b[0m \u001b[0mformatter\u001b[0m\u001b[0;34m=\u001b[0m\u001b[0mformatter\u001b[0m\u001b[0;34m,\u001b[0m\u001b[0;34m\u001b[0m\u001b[0;34m\u001b[0m\u001b[0m\n\u001b[1;32m    171\u001b[0m                            quiet=quiet)\n",
      "\u001b[0;32m~/yes/lib/python3.8/site-packages/graphviz/backend.py\u001b[0m in \u001b[0;36mpipe\u001b[0;34m(engine, format, data, renderer, formatter, quiet)\u001b[0m\n\u001b[1;32m    246\u001b[0m     \"\"\"\n\u001b[1;32m    247\u001b[0m     \u001b[0mcmd\u001b[0m\u001b[0;34m,\u001b[0m \u001b[0m_\u001b[0m \u001b[0;34m=\u001b[0m \u001b[0mcommand\u001b[0m\u001b[0;34m(\u001b[0m\u001b[0mengine\u001b[0m\u001b[0;34m,\u001b[0m \u001b[0mformat\u001b[0m\u001b[0;34m,\u001b[0m \u001b[0;32mNone\u001b[0m\u001b[0;34m,\u001b[0m \u001b[0mrenderer\u001b[0m\u001b[0;34m,\u001b[0m \u001b[0mformatter\u001b[0m\u001b[0;34m)\u001b[0m\u001b[0;34m\u001b[0m\u001b[0;34m\u001b[0m\u001b[0m\n\u001b[0;32m--> 248\u001b[0;31m     \u001b[0mout\u001b[0m\u001b[0;34m,\u001b[0m \u001b[0m_\u001b[0m \u001b[0;34m=\u001b[0m \u001b[0mrun\u001b[0m\u001b[0;34m(\u001b[0m\u001b[0mcmd\u001b[0m\u001b[0;34m,\u001b[0m \u001b[0minput\u001b[0m\u001b[0;34m=\u001b[0m\u001b[0mdata\u001b[0m\u001b[0;34m,\u001b[0m \u001b[0mcapture_output\u001b[0m\u001b[0;34m=\u001b[0m\u001b[0;32mTrue\u001b[0m\u001b[0;34m,\u001b[0m \u001b[0mcheck\u001b[0m\u001b[0;34m=\u001b[0m\u001b[0;32mTrue\u001b[0m\u001b[0;34m,\u001b[0m \u001b[0mquiet\u001b[0m\u001b[0;34m=\u001b[0m\u001b[0mquiet\u001b[0m\u001b[0;34m)\u001b[0m\u001b[0;34m\u001b[0m\u001b[0;34m\u001b[0m\u001b[0m\n\u001b[0m\u001b[1;32m    249\u001b[0m     \u001b[0;32mreturn\u001b[0m \u001b[0mout\u001b[0m\u001b[0;34m\u001b[0m\u001b[0;34m\u001b[0m\u001b[0m\n\u001b[1;32m    250\u001b[0m \u001b[0;34m\u001b[0m\u001b[0m\n",
      "\u001b[0;32m~/yes/lib/python3.8/site-packages/graphviz/backend.py\u001b[0m in \u001b[0;36mrun\u001b[0;34m(cmd, input, capture_output, check, encoding, quiet, **kwargs)\u001b[0m\n\u001b[1;32m    165\u001b[0m     \u001b[0;32mexcept\u001b[0m \u001b[0mOSError\u001b[0m \u001b[0;32mas\u001b[0m \u001b[0me\u001b[0m\u001b[0;34m:\u001b[0m\u001b[0;34m\u001b[0m\u001b[0;34m\u001b[0m\u001b[0m\n\u001b[1;32m    166\u001b[0m         \u001b[0;32mif\u001b[0m \u001b[0me\u001b[0m\u001b[0;34m.\u001b[0m\u001b[0merrno\u001b[0m \u001b[0;34m==\u001b[0m \u001b[0merrno\u001b[0m\u001b[0;34m.\u001b[0m\u001b[0mENOENT\u001b[0m\u001b[0;34m:\u001b[0m\u001b[0;34m\u001b[0m\u001b[0;34m\u001b[0m\u001b[0m\n\u001b[0;32m--> 167\u001b[0;31m             \u001b[0;32mraise\u001b[0m \u001b[0mExecutableNotFound\u001b[0m\u001b[0;34m(\u001b[0m\u001b[0mcmd\u001b[0m\u001b[0;34m)\u001b[0m\u001b[0;34m\u001b[0m\u001b[0;34m\u001b[0m\u001b[0m\n\u001b[0m\u001b[1;32m    168\u001b[0m         \u001b[0;32melse\u001b[0m\u001b[0;34m:\u001b[0m\u001b[0;34m\u001b[0m\u001b[0;34m\u001b[0m\u001b[0m\n\u001b[1;32m    169\u001b[0m             \u001b[0;32mraise\u001b[0m\u001b[0;34m\u001b[0m\u001b[0;34m\u001b[0m\u001b[0m\n",
      "\u001b[0;31mExecutableNotFound\u001b[0m: failed to execute ['dot', '-Kdot', '-Tpng'], make sure the Graphviz executables are on your systems' PATH"
     ]
    },
    {
     "data": {
      "image/png": "[encoded data removed]",
      "text/plain": [
       "<Figure size 2160x2160 with 1 Axes>"
      ]
     },
     "metadata": {
      "needs_background": "light"
     },
     "output_type": "display_data"
    }
   ],
   "source": [
    "fig, ax = plt.subplots(figsize=(30, 30))\n",
    "xgb.plot_tree(clf_xgb, num_trees=4, ax=ax)\n",
    "plt.show()"
   ]
  },
  {
   "cell_type": "code",
   "execution_count": 92,
   "id": "rural-treat",
   "metadata": {},
   "outputs": [
    {
     "ename": "AttributeError",
     "evalue": "'XGBClassifier' object has no attribute 'tree_'",
     "output_type": "error",
     "traceback": [
      "\u001b[0;31m---------------------------------------------------------------------------\u001b[0m",
      "\u001b[0;31mAttributeError\u001b[0m                            Traceback (most recent call last)",
      "\u001b[0;32m<ipython-input-92-57294ec8c7ba>\u001b[0m in \u001b[0;36m<module>\u001b[0;34m\u001b[0m\n\u001b[1;32m      1\u001b[0m \u001b[0mfig\u001b[0m\u001b[0;34m,\u001b[0m\u001b[0maxes\u001b[0m \u001b[0;34m=\u001b[0m \u001b[0mplt\u001b[0m\u001b[0;34m.\u001b[0m\u001b[0msubplots\u001b[0m\u001b[0;34m(\u001b[0m\u001b[0mnrows\u001b[0m\u001b[0;34m=\u001b[0m\u001b[0;36m1\u001b[0m\u001b[0;34m,\u001b[0m\u001b[0mncols\u001b[0m\u001b[0;34m=\u001b[0m\u001b[0;36m1\u001b[0m\u001b[0;34m,\u001b[0m\u001b[0mfigsize\u001b[0m\u001b[0;34m=\u001b[0m\u001b[0;34m(\u001b[0m\u001b[0;36m15\u001b[0m\u001b[0;34m,\u001b[0m\u001b[0;36m8\u001b[0m\u001b[0;34m)\u001b[0m\u001b[0;34m,\u001b[0m\u001b[0mdpi\u001b[0m\u001b[0;34m=\u001b[0m\u001b[0;36m300\u001b[0m\u001b[0;34m)\u001b[0m\u001b[0;34m\u001b[0m\u001b[0;34m\u001b[0m\u001b[0m\n\u001b[0;32m----> 2\u001b[0;31m \u001b[0ma\u001b[0m\u001b[0;34m=\u001b[0m\u001b[0mtree\u001b[0m\u001b[0;34m.\u001b[0m\u001b[0mplot_tree\u001b[0m\u001b[0;34m(\u001b[0m\u001b[0mclf_xgb\u001b[0m\u001b[0;34m)\u001b[0m\u001b[0;31m#also try max_depth=3 or None\u001b[0m\u001b[0;34m\u001b[0m\u001b[0;34m\u001b[0m\u001b[0m\n\u001b[0m\u001b[1;32m      3\u001b[0m \u001b[0mfig\u001b[0m\u001b[0;34m.\u001b[0m\u001b[0msavefig\u001b[0m\u001b[0;34m(\u001b[0m\u001b[0;34m'tree28.png'\u001b[0m\u001b[0;34m)\u001b[0m\u001b[0;34m\u001b[0m\u001b[0;34m\u001b[0m\u001b[0m\n",
      "\u001b[0;32m~/yes/lib/python3.8/site-packages/sklearn/utils/validation.py\u001b[0m in \u001b[0;36minner_f\u001b[0;34m(*args, **kwargs)\u001b[0m\n\u001b[1;32m     61\u001b[0m             \u001b[0mextra_args\u001b[0m \u001b[0;34m=\u001b[0m \u001b[0mlen\u001b[0m\u001b[0;34m(\u001b[0m\u001b[0margs\u001b[0m\u001b[0;34m)\u001b[0m \u001b[0;34m-\u001b[0m \u001b[0mlen\u001b[0m\u001b[0;34m(\u001b[0m\u001b[0mall_args\u001b[0m\u001b[0;34m)\u001b[0m\u001b[0;34m\u001b[0m\u001b[0;34m\u001b[0m\u001b[0m\n\u001b[1;32m     62\u001b[0m             \u001b[0;32mif\u001b[0m \u001b[0mextra_args\u001b[0m \u001b[0;34m<=\u001b[0m \u001b[0;36m0\u001b[0m\u001b[0;34m:\u001b[0m\u001b[0;34m\u001b[0m\u001b[0;34m\u001b[0m\u001b[0m\n\u001b[0;32m---> 63\u001b[0;31m                 \u001b[0;32mreturn\u001b[0m \u001b[0mf\u001b[0m\u001b[0;34m(\u001b[0m\u001b[0;34m*\u001b[0m\u001b[0margs\u001b[0m\u001b[0;34m,\u001b[0m \u001b[0;34m**\u001b[0m\u001b[0mkwargs\u001b[0m\u001b[0;34m)\u001b[0m\u001b[0;34m\u001b[0m\u001b[0;34m\u001b[0m\u001b[0m\n\u001b[0m\u001b[1;32m     64\u001b[0m \u001b[0;34m\u001b[0m\u001b[0m\n\u001b[1;32m     65\u001b[0m             \u001b[0;31m# extra_args > 0\u001b[0m\u001b[0;34m\u001b[0m\u001b[0;34m\u001b[0m\u001b[0;34m\u001b[0m\u001b[0m\n",
      "\u001b[0;32m~/yes/lib/python3.8/site-packages/sklearn/tree/_export.py\u001b[0m in \u001b[0;36mplot_tree\u001b[0;34m(decision_tree, max_depth, feature_names, class_names, label, filled, impurity, node_ids, proportion, rotate, rounded, precision, ax, fontsize)\u001b[0m\n\u001b[1;32m    192\u001b[0m         \u001b[0mproportion\u001b[0m\u001b[0;34m=\u001b[0m\u001b[0mproportion\u001b[0m\u001b[0;34m,\u001b[0m \u001b[0mrotate\u001b[0m\u001b[0;34m=\u001b[0m\u001b[0mrotate\u001b[0m\u001b[0;34m,\u001b[0m \u001b[0mrounded\u001b[0m\u001b[0;34m=\u001b[0m\u001b[0mrounded\u001b[0m\u001b[0;34m,\u001b[0m\u001b[0;34m\u001b[0m\u001b[0;34m\u001b[0m\u001b[0m\n\u001b[1;32m    193\u001b[0m         precision=precision, fontsize=fontsize)\n\u001b[0;32m--> 194\u001b[0;31m     \u001b[0;32mreturn\u001b[0m \u001b[0mexporter\u001b[0m\u001b[0;34m.\u001b[0m\u001b[0mexport\u001b[0m\u001b[0;34m(\u001b[0m\u001b[0mdecision_tree\u001b[0m\u001b[0;34m,\u001b[0m \u001b[0max\u001b[0m\u001b[0;34m=\u001b[0m\u001b[0max\u001b[0m\u001b[0;34m)\u001b[0m\u001b[0;34m\u001b[0m\u001b[0;34m\u001b[0m\u001b[0m\n\u001b[0m\u001b[1;32m    195\u001b[0m \u001b[0;34m\u001b[0m\u001b[0m\n\u001b[1;32m    196\u001b[0m \u001b[0;34m\u001b[0m\u001b[0m\n",
      "\u001b[0;32m~/yes/lib/python3.8/site-packages/sklearn/tree/_export.py\u001b[0m in \u001b[0;36mexport\u001b[0;34m(self, decision_tree, ax)\u001b[0m\n\u001b[1;32m    582\u001b[0m         \u001b[0max\u001b[0m\u001b[0;34m.\u001b[0m\u001b[0mclear\u001b[0m\u001b[0;34m(\u001b[0m\u001b[0;34m)\u001b[0m\u001b[0;34m\u001b[0m\u001b[0;34m\u001b[0m\u001b[0m\n\u001b[1;32m    583\u001b[0m         \u001b[0max\u001b[0m\u001b[0;34m.\u001b[0m\u001b[0mset_axis_off\u001b[0m\u001b[0;34m(\u001b[0m\u001b[0;34m)\u001b[0m\u001b[0;34m\u001b[0m\u001b[0;34m\u001b[0m\u001b[0m\n\u001b[0;32m--> 584\u001b[0;31m         my_tree = self._make_tree(0, decision_tree.tree_,\n\u001b[0m\u001b[1;32m    585\u001b[0m                                   decision_tree.criterion)\n\u001b[1;32m    586\u001b[0m         \u001b[0mdraw_tree\u001b[0m \u001b[0;34m=\u001b[0m \u001b[0mbuchheim\u001b[0m\u001b[0;34m(\u001b[0m\u001b[0mmy_tree\u001b[0m\u001b[0;34m)\u001b[0m\u001b[0;34m\u001b[0m\u001b[0;34m\u001b[0m\u001b[0m\n",
      "\u001b[0;31mAttributeError\u001b[0m: 'XGBClassifier' object has no attribute 'tree_'"
     ]
    },
    {
     "data": {
      "image/png": "[encoded data removed]",
      "text/plain": [
       "<Figure size 4500x2400 with 1 Axes>"
      ]
     },
     "metadata": {
      "needs_background": "light"
     },
     "output_type": "display_data"
    }
   ],
   "source": [
    "fig,axes = plt.subplots(nrows=1,ncols=1,figsize=(15,8),dpi=300)\n",
    "a=tree.plot_tree(clf_xgb)#also try max_depth=3 or None\n",
    "fig.savefig('tree28.png') "
   ]
  },
  {
   "cell_type": "code",
   "execution_count": null,
   "id": "friendly-holmes",
   "metadata": {},
   "outputs": [],
   "source": []
  }
 ],
 "metadata": {
  "kernelspec": {
   "display_name": "Python 3",
   "language": "python",
   "name": "python3"
  },
  "language_info": {
   "codemirror_mode": {
    "name": "ipython",
    "version": 3
   },
   "file_extension": ".py",
   "mimetype": "text/x-python",
   "name": "python",
   "nbconvert_exporter": "python",
   "pygments_lexer": "ipython3",
   "version": "3.8.8"
  }
 },
 "nbformat": 4,
 "nbformat_minor": 5
}
