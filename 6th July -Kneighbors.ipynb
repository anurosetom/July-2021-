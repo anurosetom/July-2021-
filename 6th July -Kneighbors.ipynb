{
 "cells": [
  {
   "cell_type": "code",
   "execution_count": 1,
   "id": "upper-sister",
   "metadata": {},
   "outputs": [],
   "source": [
    "import numpy as np\n",
    "import pandas as pd\n",
    "import matplotlib.pyplot as plt\n",
    "%matplotlib inline\n",
    "import seaborn as sns\n",
    "from sklearn.datasets import make_classification\n",
    "import warnings\n",
    "warnings.filterwarnings('ignore')\n",
    "from sklearn.model_selection import train_test_split"
   ]
  },
  {
   "cell_type": "code",
   "execution_count": 2,
   "id": "artistic-black",
   "metadata": {},
   "outputs": [],
   "source": [
    "x,y=make_classification(n_samples=2000,n_classes=2,weights=[1,1],random_state=1)\n",
    "#n_samples=>n.o of samples \n",
    "#classes=>2 means 0 & 1 binary output\n",
    "#weights =1,1 means equal set(weightage) of data for 0 and 1"
   ]
  },
  {
   "cell_type": "code",
   "execution_count": 3,
   "id": "discrete-cabin",
   "metadata": {},
   "outputs": [
    {
     "data": {
      "text/plain": [
       "(2000, 20)"
      ]
     },
     "execution_count": 3,
     "metadata": {},
     "output_type": "execute_result"
    }
   ],
   "source": [
    "x.shape"
   ]
  },
  {
   "cell_type": "code",
   "execution_count": 4,
   "id": "occupied-violence",
   "metadata": {},
   "outputs": [
    {
     "data": {
      "text/plain": [
       "array([[-0.62070677,  1.39769519,  0.1034997 , ..., -0.34409714,\n",
       "         0.62197727, -1.79645246],\n",
       "       [ 0.90592186,  1.9199751 , -0.7783715 , ..., -1.30560469,\n",
       "        -1.54476766, -0.24532071],\n",
       "       [ 0.27902104,  0.85887666,  1.20780417, ...,  2.50374447,\n",
       "        -0.16497195, -1.95912025],\n",
       "       ...,\n",
       "       [ 0.40426899, -0.61988039,  0.87588292, ...,  0.61529851,\n",
       "         0.97573222,  1.77717222],\n",
       "       [-0.02512151, -1.05618212, -0.2345739 , ..., -1.6839064 ,\n",
       "        -0.33327389,  1.13979455],\n",
       "       [-1.46739126, -0.12314487,  0.66858242, ...,  1.92945851,\n",
       "        -0.97878106, -2.77522263]])"
      ]
     },
     "execution_count": 4,
     "metadata": {},
     "output_type": "execute_result"
    }
   ],
   "source": [
    "x"
   ]
  },
  {
   "cell_type": "code",
   "execution_count": 5,
   "id": "employed-pasta",
   "metadata": {},
   "outputs": [
    {
     "data": {
      "text/plain": [
       "array([0, 0, 0, ..., 1, 1, 0])"
      ]
     },
     "execution_count": 5,
     "metadata": {},
     "output_type": "execute_result"
    }
   ],
   "source": [
    "y"
   ]
  },
  {
   "cell_type": "code",
   "execution_count": 6,
   "id": "hungry-fiction",
   "metadata": {},
   "outputs": [
    {
     "data": {
      "text/plain": [
       "<AxesSubplot:xlabel='label', ylabel='count'>"
      ]
     },
     "execution_count": 6,
     "metadata": {},
     "output_type": "execute_result"
    },
    {
     "data": {
      "image/png": "[encoded data removed]",
      "text/plain": [
       "<Figure size 432x288 with 1 Axes>"
      ]
     },
     "metadata": {
      "needs_background": "light"
     },
     "output_type": "display_data"
    }
   ],
   "source": [
    "y1=pd.DataFrame(y,columns=['label'])\n",
    "sns.countplot(x='label',data=y1)\n",
    "#displayed as 0 & 1 in equal size"
   ]
  },
  {
   "cell_type": "code",
   "execution_count": 7,
   "id": "inappropriate-award",
   "metadata": {},
   "outputs": [],
   "source": [
    "xtrain,xtest,ytrain,ytest=train_test_split(x,y,test_size=0.3,random_state=1)\n"
   ]
  },
  {
   "cell_type": "code",
   "execution_count": 8,
   "id": "sunrise-rolling",
   "metadata": {},
   "outputs": [],
   "source": [
    "from sklearn.metrics import roc_curve\n",
    "from sklearn.metrics import roc_auc_score"
   ]
  },
  {
   "cell_type": "code",
   "execution_count": 9,
   "id": "arctic-entry",
   "metadata": {},
   "outputs": [
    {
     "name": "stdout",
     "output_type": "stream",
     "text": [
      "RF train roc-auc: 1.0\n",
      "RF train roc-auc: 0.9808666666666667\n"
     ]
    }
   ],
   "source": [
    "from sklearn.ensemble import RandomForestClassifier\n",
    "rf_model=RandomForestClassifier()\n",
    "rf_model.fit(xtrain,ytrain)\n",
    "\n",
    "#For xtrain ,finding roc auc score\n",
    "ytrain_pred=rf_model.predict_proba(xtrain)\n",
    "print('RF train roc-auc: {}'.format(roc_auc_score(ytrain,ytrain_pred[:,1])))\n",
    "\n",
    "#xFor xtest ,finding roc auc score\n",
    "ytest_pred=rf_model.predict_proba(xtest)\n",
    "print('RF train roc-auc: {}'.format(roc_auc_score(ytest,ytest_pred[:,1])))"
   ]
  },
  {
   "cell_type": "code",
   "execution_count": 10,
   "id": "younger-yugoslavia",
   "metadata": {},
   "outputs": [
    {
     "data": {
      "text/plain": [
       "0    0\n",
       "1    0\n",
       "2    1\n",
       "3    1\n",
       "4    0\n",
       "Name: ytrain, dtype: int64"
      ]
     },
     "execution_count": 10,
     "metadata": {},
     "output_type": "execute_result"
    }
   ],
   "source": [
    "#creating a series dataframe l to concatenate all a,b,c seriese's ytrain_pred data\n",
    "\n",
    "l=[]\n",
    "a=pd.Series(ytrain_pred[:,0])#0's ytrain prediction\n",
    "a=a.rename('prob(0)')\n",
    "b=pd.Series(ytrain_pred[:,1])#1's prediction\n",
    "b=b.rename('prob(1)')\n",
    "\n",
    "c=pd.Series(ytrain)\n",
    "c=c.rename('ytrain')\n",
    "c.head()"
   ]
  },
  {
   "cell_type": "code",
   "execution_count": 11,
   "id": "sublime-affect",
   "metadata": {
    "scrolled": true
   },
   "outputs": [
    {
     "data": {
      "text/html": [
       "<div>\n",
       "<style scoped>\n",
       "    .dataframe tbody tr th:only-of-type {\n",
       "        vertical-align: middle;\n",
       "    }\n",
       "\n",
       "    .dataframe tbody tr th {\n",
       "        vertical-align: top;\n",
       "    }\n",
       "\n",
       "    .dataframe thead th {\n",
       "        text-align: right;\n",
       "    }\n",
       "</style>\n",
       "<table border=\"1\" class=\"dataframe\">\n",
       "  <thead>\n",
       "    <tr style=\"text-align: right;\">\n",
       "      <th></th>\n",
       "      <th>prob(0)</th>\n",
       "      <th>prob(1)</th>\n",
       "      <th>ytrain</th>\n",
       "    </tr>\n",
       "  </thead>\n",
       "  <tbody>\n",
       "    <tr>\n",
       "      <th>0</th>\n",
       "      <td>1.00</td>\n",
       "      <td>0.00</td>\n",
       "      <td>0</td>\n",
       "    </tr>\n",
       "    <tr>\n",
       "      <th>1</th>\n",
       "      <td>0.97</td>\n",
       "      <td>0.03</td>\n",
       "      <td>0</td>\n",
       "    </tr>\n",
       "    <tr>\n",
       "      <th>2</th>\n",
       "      <td>0.01</td>\n",
       "      <td>0.99</td>\n",
       "      <td>1</td>\n",
       "    </tr>\n",
       "    <tr>\n",
       "      <th>3</th>\n",
       "      <td>0.01</td>\n",
       "      <td>0.99</td>\n",
       "      <td>1</td>\n",
       "    </tr>\n",
       "    <tr>\n",
       "      <th>4</th>\n",
       "      <td>1.00</td>\n",
       "      <td>0.00</td>\n",
       "      <td>0</td>\n",
       "    </tr>\n",
       "    <tr>\n",
       "      <th>...</th>\n",
       "      <td>...</td>\n",
       "      <td>...</td>\n",
       "      <td>...</td>\n",
       "    </tr>\n",
       "    <tr>\n",
       "      <th>1395</th>\n",
       "      <td>0.00</td>\n",
       "      <td>1.00</td>\n",
       "      <td>1</td>\n",
       "    </tr>\n",
       "    <tr>\n",
       "      <th>1396</th>\n",
       "      <td>0.05</td>\n",
       "      <td>0.95</td>\n",
       "      <td>1</td>\n",
       "    </tr>\n",
       "    <tr>\n",
       "      <th>1397</th>\n",
       "      <td>0.98</td>\n",
       "      <td>0.02</td>\n",
       "      <td>0</td>\n",
       "    </tr>\n",
       "    <tr>\n",
       "      <th>1398</th>\n",
       "      <td>0.99</td>\n",
       "      <td>0.01</td>\n",
       "      <td>0</td>\n",
       "    </tr>\n",
       "    <tr>\n",
       "      <th>1399</th>\n",
       "      <td>0.25</td>\n",
       "      <td>0.75</td>\n",
       "      <td>1</td>\n",
       "    </tr>\n",
       "  </tbody>\n",
       "</table>\n",
       "<p>1400 rows × 3 columns</p>\n",
       "</div>"
      ],
      "text/plain": [
       "      prob(0)  prob(1)  ytrain\n",
       "0        1.00     0.00       0\n",
       "1        0.97     0.03       0\n",
       "2        0.01     0.99       1\n",
       "3        0.01     0.99       1\n",
       "4        1.00     0.00       0\n",
       "...       ...      ...     ...\n",
       "1395     0.00     1.00       1\n",
       "1396     0.05     0.95       1\n",
       "1397     0.98     0.02       0\n",
       "1398     0.99     0.01       0\n",
       "1399     0.25     0.75       1\n",
       "\n",
       "[1400 rows x 3 columns]"
      ]
     },
     "execution_count": 11,
     "metadata": {},
     "output_type": "execute_result"
    }
   ],
   "source": [
    "l=pd.concat([pd.Series(a),pd.Series(b),pd.Series(c)],axis=1)\n",
    "l\n",
    "#concatenating serieses a,b,c "
   ]
  },
  {
   "cell_type": "code",
   "execution_count": 12,
   "id": "framed-retailer",
   "metadata": {},
   "outputs": [
    {
     "name": "stdout",
     "output_type": "stream",
     "text": [
      "RandomForestClassifier()train roc-auc: 1.0\n",
      "RandomForestClassifier()train roc-auc: 0.9809611111111111\n"
     ]
    },
    {
     "data": {
      "image/png": "[encoded data removed]",
      "text/plain": [
       "<Figure size 432x288 with 1 Axes>"
      ]
     },
     "metadata": {
      "needs_background": "light"
     },
     "output_type": "display_data"
    },
    {
     "name": "stdout",
     "output_type": "stream",
     "text": [
      "\n",
      "LogisticRegression()train roc-auc: 0.9863568922694498\n",
      "LogisticRegression()train roc-auc: 0.9885777777777777\n"
     ]
    },
    {
     "data": {
      "image/png": "[encoded data removed]",
      "text/plain": [
       "<Figure size 432x288 with 1 Axes>"
      ]
     },
     "metadata": {
      "needs_background": "light"
     },
     "output_type": "display_data"
    },
    {
     "name": "stdout",
     "output_type": "stream",
     "text": [
      "\n",
      "AdaBoostClassifier()train roc-auc: 0.9975081174960356\n",
      "AdaBoostClassifier()train roc-auc: 0.9826111111111111\n"
     ]
    },
    {
     "data": {
      "image/png": "[encoded data removed]",
      "text/plain": [
       "<Figure size 432x288 with 1 Axes>"
      ]
     },
     "metadata": {
      "needs_background": "light"
     },
     "output_type": "display_data"
    },
    {
     "name": "stdout",
     "output_type": "stream",
     "text": [
      "\n",
      "KNeighborsClassifier()train roc-auc: 0.981670071491109\n",
      "KNeighborsClassifier()train roc-auc: 0.9426111111111111\n"
     ]
    },
    {
     "data": {
      "image/png": "[encoded data removed]",
      "text/plain": [
       "<Figure size 432x288 with 1 Axes>"
      ]
     },
     "metadata": {
      "needs_background": "light"
     },
     "output_type": "display_data"
    },
    {
     "name": "stdout",
     "output_type": "stream",
     "text": [
      "\n"
     ]
    }
   ],
   "source": [
    "from sklearn.linear_model import LogisticRegression\n",
    "from sklearn.ensemble import AdaBoostClassifier\n",
    "from sklearn.neighbors import KNeighborsClassifier\n",
    "from sklearn.ensemble import RandomForestClassifier\n",
    "from sklearn.metrics import roc_curve,auc\n",
    "\n",
    "#Creating models for all these\n",
    "rf_model=RandomForestClassifier()\n",
    "log_classifier=LogisticRegression()\n",
    "ada_classifier=AdaBoostClassifier()\n",
    "knn_classifier=KNeighborsClassifier()#based on nearest neighbor\n",
    "\n",
    "classifiers=[rf_model,log_classifier,ada_classifier,knn_classifier]\n",
    "#iterate all the above models through this classifier\n",
    "#then using each model, it fit the training data and using that training data,will predict testing data\n",
    "#using this testing data, will plot roc auc curve and show how the model performs\n",
    "for classifier in classifiers:\n",
    "    classifier.fit(xtrain,ytrain)\n",
    "    \n",
    "    #ytrain_pred\n",
    "    ytrain_pred=classifier.predict_proba(xtrain)\n",
    "    print(f'{classifier}train roc-auc: {roc_auc_score(ytrain,ytrain_pred[:,1])}')\n",
    "    #using 1's in l series\n",
    "    \n",
    "    #ytest pred\n",
    "    ytest_pred=classifier.predict_proba(xtest)\n",
    "    print(f'{classifier}train roc-auc: {roc_auc_score(ytest,ytest_pred[:,1])}')\n",
    "    \n",
    "    ytest_pred=classifier.predict_proba(xtest)\n",
    "    fpr,tpr,threshold=roc_curve(ytest,ytest_pred[:,1])\n",
    "    auc1=auc(fpr,tpr)\n",
    "    \n",
    "    plt.plot(fpr,tpr,marker='.',label=f'{classifier}(auc=%0.3f)'%auc1)\n",
    "    plt.plot([0,1],[0,1],color='darkblue',linestyle='--')\n",
    "    plt.xlabel('False Positive Rate-->')\n",
    "    plt.ylabel('True Positive Rate-->')\n",
    "    \n",
    "    plt.legend()\n",
    "    plt.show()\n",
    "    \n",
    "    print()"
   ]
  },
  {
   "cell_type": "code",
   "execution_count": 13,
   "id": "enclosed-tolerance",
   "metadata": {},
   "outputs": [
    {
     "name": "stdout",
     "output_type": "stream",
     "text": [
      "Ensemble test roc-auc: 0.9846777777777778\n"
     ]
    }
   ],
   "source": [
    "pred=[]\n",
    "for model in [rf_model,log_classifier,ada_classifier,knn_classifier]:\n",
    "    pred.append(pd.Series(model.predict_proba(xtest)[:,1]))\n",
    "    \n",
    "final_prediction=pd.concat(pred,axis=1).mean(axis=1)\n",
    "print('Ensemble test roc-auc: {}'.format(roc_auc_score(ytest,final_prediction)))"
   ]
  },
  {
   "cell_type": "code",
   "execution_count": 14,
   "id": "frozen-lending",
   "metadata": {},
   "outputs": [
    {
     "data": {
      "text/plain": [
       "[0      0.97\n",
       " 1      0.00\n",
       " 2      0.97\n",
       " 3      0.91\n",
       " 4      0.52\n",
       "        ... \n",
       " 595    0.00\n",
       " 596    0.03\n",
       " 597    0.99\n",
       " 598    0.01\n",
       " 599    0.97\n",
       " Length: 600, dtype: float64,\n",
       " 0      0.991861\n",
       " 1      0.000008\n",
       " 2      0.966929\n",
       " 3      0.761539\n",
       " 4      0.779443\n",
       "          ...   \n",
       " 595    0.024239\n",
       " 596    0.000003\n",
       " 597    0.984385\n",
       " 598    0.001147\n",
       " 599    0.989540\n",
       " Length: 600, dtype: float64,\n",
       " 0      0.559186\n",
       " 1      0.463282\n",
       " 2      0.538202\n",
       " 3      0.509875\n",
       " 4      0.490344\n",
       "          ...   \n",
       " 595    0.461121\n",
       " 596    0.441377\n",
       " 597    0.532403\n",
       " 598    0.441720\n",
       " 599    0.559890\n",
       " Length: 600, dtype: float64,\n",
       " 0      1.0\n",
       " 1      0.0\n",
       " 2      0.8\n",
       " 3      0.8\n",
       " 4      0.4\n",
       "       ... \n",
       " 595    0.0\n",
       " 596    0.0\n",
       " 597    1.0\n",
       " 598    0.2\n",
       " 599    0.8\n",
       " Length: 600, dtype: float64]"
      ]
     },
     "execution_count": 14,
     "metadata": {},
     "output_type": "execute_result"
    }
   ],
   "source": [
    "pred\n",
    "#concatenated predictions"
   ]
  },
  {
   "cell_type": "code",
   "execution_count": 15,
   "id": "fourth-heart",
   "metadata": {},
   "outputs": [
    {
     "data": {
      "text/html": [
       "<div>\n",
       "<style scoped>\n",
       "    .dataframe tbody tr th:only-of-type {\n",
       "        vertical-align: middle;\n",
       "    }\n",
       "\n",
       "    .dataframe tbody tr th {\n",
       "        vertical-align: top;\n",
       "    }\n",
       "\n",
       "    .dataframe thead th {\n",
       "        text-align: right;\n",
       "    }\n",
       "</style>\n",
       "<table border=\"1\" class=\"dataframe\">\n",
       "  <thead>\n",
       "    <tr style=\"text-align: right;\">\n",
       "      <th></th>\n",
       "      <th>0</th>\n",
       "      <th>1</th>\n",
       "      <th>2</th>\n",
       "      <th>3</th>\n",
       "    </tr>\n",
       "  </thead>\n",
       "  <tbody>\n",
       "    <tr>\n",
       "      <th>0</th>\n",
       "      <td>0.97</td>\n",
       "      <td>0.991861</td>\n",
       "      <td>0.559186</td>\n",
       "      <td>1.0</td>\n",
       "    </tr>\n",
       "    <tr>\n",
       "      <th>1</th>\n",
       "      <td>0.00</td>\n",
       "      <td>0.000008</td>\n",
       "      <td>0.463282</td>\n",
       "      <td>0.0</td>\n",
       "    </tr>\n",
       "    <tr>\n",
       "      <th>2</th>\n",
       "      <td>0.97</td>\n",
       "      <td>0.966929</td>\n",
       "      <td>0.538202</td>\n",
       "      <td>0.8</td>\n",
       "    </tr>\n",
       "    <tr>\n",
       "      <th>3</th>\n",
       "      <td>0.91</td>\n",
       "      <td>0.761539</td>\n",
       "      <td>0.509875</td>\n",
       "      <td>0.8</td>\n",
       "    </tr>\n",
       "    <tr>\n",
       "      <th>4</th>\n",
       "      <td>0.52</td>\n",
       "      <td>0.779443</td>\n",
       "      <td>0.490344</td>\n",
       "      <td>0.4</td>\n",
       "    </tr>\n",
       "    <tr>\n",
       "      <th>...</th>\n",
       "      <td>...</td>\n",
       "      <td>...</td>\n",
       "      <td>...</td>\n",
       "      <td>...</td>\n",
       "    </tr>\n",
       "    <tr>\n",
       "      <th>595</th>\n",
       "      <td>0.00</td>\n",
       "      <td>0.024239</td>\n",
       "      <td>0.461121</td>\n",
       "      <td>0.0</td>\n",
       "    </tr>\n",
       "    <tr>\n",
       "      <th>596</th>\n",
       "      <td>0.03</td>\n",
       "      <td>0.000003</td>\n",
       "      <td>0.441377</td>\n",
       "      <td>0.0</td>\n",
       "    </tr>\n",
       "    <tr>\n",
       "      <th>597</th>\n",
       "      <td>0.99</td>\n",
       "      <td>0.984385</td>\n",
       "      <td>0.532403</td>\n",
       "      <td>1.0</td>\n",
       "    </tr>\n",
       "    <tr>\n",
       "      <th>598</th>\n",
       "      <td>0.01</td>\n",
       "      <td>0.001147</td>\n",
       "      <td>0.441720</td>\n",
       "      <td>0.2</td>\n",
       "    </tr>\n",
       "    <tr>\n",
       "      <th>599</th>\n",
       "      <td>0.97</td>\n",
       "      <td>0.989540</td>\n",
       "      <td>0.559890</td>\n",
       "      <td>0.8</td>\n",
       "    </tr>\n",
       "  </tbody>\n",
       "</table>\n",
       "<p>600 rows × 4 columns</p>\n",
       "</div>"
      ],
      "text/plain": [
       "        0         1         2    3\n",
       "0    0.97  0.991861  0.559186  1.0\n",
       "1    0.00  0.000008  0.463282  0.0\n",
       "2    0.97  0.966929  0.538202  0.8\n",
       "3    0.91  0.761539  0.509875  0.8\n",
       "4    0.52  0.779443  0.490344  0.4\n",
       "..    ...       ...       ...  ...\n",
       "595  0.00  0.024239  0.461121  0.0\n",
       "596  0.03  0.000003  0.441377  0.0\n",
       "597  0.99  0.984385  0.532403  1.0\n",
       "598  0.01  0.001147  0.441720  0.2\n",
       "599  0.97  0.989540  0.559890  0.8\n",
       "\n",
       "[600 rows x 4 columns]"
      ]
     },
     "execution_count": 15,
     "metadata": {},
     "output_type": "execute_result"
    }
   ],
   "source": [
    "#splitting this into different columns then\n",
    "\n",
    "a=pd.concat(pred,axis=1)\n",
    "a"
   ]
  },
  {
   "cell_type": "code",
   "execution_count": 16,
   "id": "insured-intention",
   "metadata": {},
   "outputs": [
    {
     "data": {
      "text/plain": [
       "0      0.880262\n",
       "1      0.115823\n",
       "2      0.818783\n",
       "3      0.745353\n",
       "4      0.547447\n",
       "         ...   \n",
       "595    0.121340\n",
       "596    0.117845\n",
       "597    0.876697\n",
       "598    0.163217\n",
       "599    0.829857\n",
       "Length: 600, dtype: float64"
      ]
     },
     "execution_count": 16,
     "metadata": {},
     "output_type": "execute_result"
    }
   ],
   "source": [
    "final_prediction"
   ]
  },
  {
   "cell_type": "code",
   "execution_count": 17,
   "id": "trained-baptist",
   "metadata": {},
   "outputs": [
    {
     "data": {
      "text/plain": [
       "array([1.91188114, 0.91188114, 0.9034413 , 0.90327475, 0.80806516,\n",
       "       0.8080558 , 0.7944465 , 0.79412833, 0.78675879, 0.78571156,\n",
       "       0.75141018, 0.75037124, 0.74180851, 0.74137362, 0.71525211,\n",
       "       0.71393711, 0.67518151, 0.66993537, 0.60906376, 0.60486186,\n",
       "       0.59077749, 0.58425354, 0.58146627, 0.58114346, 0.57995356,\n",
       "       0.56800386, 0.56792732, 0.55889283, 0.55838469, 0.55469563,\n",
       "       0.54558969, 0.53877948, 0.51865858, 0.49116892, 0.4346034 ,\n",
       "       0.38655357, 0.38629719, 0.34636723, 0.34586612, 0.24099466,\n",
       "       0.23890421, 0.23698424, 0.23646893, 0.20102808, 0.19348417,\n",
       "       0.12052718, 0.1203351 , 0.10498954])"
      ]
     },
     "execution_count": 17,
     "metadata": {},
     "output_type": "execute_result"
    }
   ],
   "source": [
    "fpr,tpr,thresholds=roc_curve(ytest,final_prediction)\n",
    "thresholds"
   ]
  },
  {
   "cell_type": "code",
   "execution_count": 18,
   "id": "maritime-agent",
   "metadata": {},
   "outputs": [
    {
     "data": {
      "text/html": [
       "<div>\n",
       "<style scoped>\n",
       "    .dataframe tbody tr th:only-of-type {\n",
       "        vertical-align: middle;\n",
       "    }\n",
       "\n",
       "    .dataframe tbody tr th {\n",
       "        vertical-align: top;\n",
       "    }\n",
       "\n",
       "    .dataframe thead th {\n",
       "        text-align: right;\n",
       "    }\n",
       "</style>\n",
       "<table border=\"1\" class=\"dataframe\">\n",
       "  <thead>\n",
       "    <tr style=\"text-align: right;\">\n",
       "      <th></th>\n",
       "      <th>thresholds</th>\n",
       "      <th>accuracy</th>\n",
       "    </tr>\n",
       "  </thead>\n",
       "  <tbody>\n",
       "    <tr>\n",
       "      <th>34</th>\n",
       "      <td>0.434603</td>\n",
       "      <td>0.961667</td>\n",
       "    </tr>\n",
       "    <tr>\n",
       "      <th>33</th>\n",
       "      <td>0.491169</td>\n",
       "      <td>0.958333</td>\n",
       "    </tr>\n",
       "    <tr>\n",
       "      <th>32</th>\n",
       "      <td>0.518659</td>\n",
       "      <td>0.956667</td>\n",
       "    </tr>\n",
       "    <tr>\n",
       "      <th>31</th>\n",
       "      <td>0.538779</td>\n",
       "      <td>0.953333</td>\n",
       "    </tr>\n",
       "    <tr>\n",
       "      <th>30</th>\n",
       "      <td>0.545590</td>\n",
       "      <td>0.951667</td>\n",
       "    </tr>\n",
       "  </tbody>\n",
       "</table>\n",
       "</div>"
      ],
      "text/plain": [
       "    thresholds  accuracy\n",
       "34    0.434603  0.961667\n",
       "33    0.491169  0.958333\n",
       "32    0.518659  0.956667\n",
       "31    0.538779  0.953333\n",
       "30    0.545590  0.951667"
      ]
     },
     "execution_count": 18,
     "metadata": {},
     "output_type": "execute_result"
    }
   ],
   "source": [
    "from sklearn.metrics import accuracy_score,precision_score\n",
    "accuracy_ls=[]\n",
    "\n",
    "for thres in thresholds:\n",
    "    ypred=np.where(final_prediction>thres,1,0)\n",
    "    \n",
    "    accuracy_ls.append(accuracy_score(ytest,ypred,normalize=True))\n",
    "    \n",
    "accuracy_ls=pd.concat([pd.Series(thresholds),pd.Series(accuracy_ls)],axis=1)\n",
    "accuracy_ls.columns=['thresholds','accuracy']\n",
    "accuracy_ls.sort_values(by='accuracy',ascending=False,inplace=True)\n",
    "accuracy_ls.head()\n",
    "#listing thresholds with high accuracy"
   ]
  },
  {
   "cell_type": "code",
   "execution_count": 19,
   "id": "timely-canvas",
   "metadata": {},
   "outputs": [],
   "source": [
    "def plot_roc_curve(fpr,tpr):\n",
    "    plt.plot(fpr,tpr,color='orange',label='ROC')\n",
    "    plt.plot([0,1],[0,1],color='darkblue',linestyle='--')\n",
    "    \n",
    "    plt.xlabel('False Positive Rate')\n",
    "    plt.ylabel('True Positive Rate')\n",
    "    plt.title('Receiver Operating Characteristic (ROC) Curve')\n",
    "    plt.legend()\n",
    "    plt.show()\n",
    "    "
   ]
  },
  {
   "cell_type": "code",
   "execution_count": 20,
   "id": "fitting-productivity",
   "metadata": {},
   "outputs": [
    {
     "data": {
      "image/png": "[encoded data removed]",
      "text/plain": [
       "<Figure size 432x288 with 1 Axes>"
      ]
     },
     "metadata": {
      "needs_background": "light"
     },
     "output_type": "display_data"
    }
   ],
   "source": [
    "plot_roc_curve(fpr,tpr)"
   ]
  },
  {
   "cell_type": "code",
   "execution_count": null,
   "id": "large-portable",
   "metadata": {},
   "outputs": [],
   "source": []
  }
 ],
 "metadata": {
  "kernelspec": {
   "display_name": "Python 3",
   "language": "python",
   "name": "python3"
  },
  "language_info": {
   "codemirror_mode": {
    "name": "ipython",
    "version": 3
   },
   "file_extension": ".py",
   "mimetype": "text/x-python",
   "name": "python",
   "nbconvert_exporter": "python",
   "pygments_lexer": "ipython3",
   "version": "3.8.8"
  }
 },
 "nbformat": 4,
 "nbformat_minor": 5
}
